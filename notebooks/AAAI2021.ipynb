{
 "cells": [
  {
   "cell_type": "code",
   "execution_count": 49,
   "id": "faced-sucking",
   "metadata": {},
   "outputs": [],
   "source": [
    "import sys\n",
    "sys.path.insert(1, \"../\")\n",
    "\n",
    "import importlib\n",
    "import matplotlib.pyplot as plt\n",
    "import matplotlib\n",
    "%matplotlib inline\n",
    "import numpy as np\n",
    "from sklearn.linear_model import LogisticRegression \n",
    "from sklearn.tree import DecisionTreeClassifier\n",
    "from sklearn.naive_bayes import GaussianNB\n",
    "from sklearn.svm import SVC\n",
    "from scipy.special import erf\n",
    "import math"
   ]
  },
  {
   "cell_type": "code",
   "execution_count": 50,
   "id": "constant-commerce",
   "metadata": {},
   "outputs": [],
   "source": [
    "def reload_modules():\n",
    "    import inherent_bias\n",
    "    importlib.reload(inherent_bias.fair_dataset)\n",
    "    importlib.reload(inherent_bias.ds_fair_dataset)\n",
    "    importlib.reload(inherent_bias.utils)\n",
    "    \n",
    "reload_modules()\n",
    "\n",
    "from inherent_bias.fair_dataset import FairDataset, default_mappings\n",
    "\n",
    "from inherent_bias.utils import *"
   ]
  },
  {
   "cell_type": "code",
   "execution_count": 51,
   "id": "equipped-limitation",
   "metadata": {},
   "outputs": [],
   "source": [
    "protected = [\"sex\"]\n",
    "privileged_classes = [['Male']]\n",
    "metadata = default_mappings.copy()\n",
    "metadata['protected_attribute_maps'] = [{1.0: 'Male', 0.0: 'Female'}]\n",
    "\n",
    "alpha = 0.5\n",
    "beta = 1\n",
    "\n",
    "kwargs = {'protected_attribute_names': protected,\n",
    "          'privileged_classes': [['Male']],\n",
    "          'metadata':metadata,\n",
    "          'favorable_classes': [1],\n",
    "          'beta': beta,\n",
    "          'alpha': alpha,\n",
    "          'ds': True,\n",
    "          'n_dep_feat': 0\n",
    "         }\n",
    "\n",
    "random_state = 23\n",
    "model_type = GaussianNB"
   ]
  },
  {
   "cell_type": "code",
   "execution_count": 52,
   "id": "empirical-hazard",
   "metadata": {},
   "outputs": [],
   "source": [
    "def print_model_performances(model, test_fd):\n",
    "    test_fd_x, test_fd_y = test_fd.get_xy(keep_protected=False)\n",
    "    data = test_fd.copy()\n",
    "    data_pred = test_fd.copy()\n",
    "\n",
    "    data_pred.labels = mod_pred = model.predict(test_fd_x)\n",
    "    metrics = ClassificationMetric(data,\n",
    "                                   data_pred,\n",
    "                                   privileged_groups=test_fd.privileged_groups,\n",
    "                                   unprivileged_groups=test_fd.unprivileged_groups)\n",
    "\n",
    "    # print(metrics.binary_confusion_matrix())\n",
    "    print('SR\\t', metrics.selection_rate())\n",
    "\n",
    "    # print('PCNFM\\t', metrics.binary_confusion_matrix(privileged=True))\n",
    "    print('PSR\\t', metrics.selection_rate(privileged=True))\n",
    "    print('PTPR\\t', metrics.true_positive_rate(privileged=True))\n",
    "    print('PFPR\\t', metrics.false_positive_rate(privileged=True))\n",
    "    # print('PFDR\\t', metrics.false_discovery_rate(privileged=True))\n",
    "    # print('UCNFM\\t', metrics.binary_confusion_matrix(privileged=False))\n",
    "    print('USR\\t', metrics.selection_rate(privileged=False))\n",
    "    print('UTPR\\t', metrics.true_positive_rate(privileged=False))\n",
    "    print('UFPR\\t', metrics.false_positive_rate(privileged=False))\n",
    "    # print('UFDR\\t', metrics.false_discovery_rate(privileged=False))\n",
    "    return metrics, mod_pred"
   ]
  },
  {
   "cell_type": "code",
   "execution_count": 53,
   "id": "continuing-catalog",
   "metadata": {},
   "outputs": [],
   "source": [
    "def get_theoretical_model(mod, dist):\n",
    "    \n",
    "    mu_1_avg = (dist['mu_ps']['p'] + dist['mu_ns']['p'])/2\n",
    "    mu_1_pos = (dist['mu_ps']['p'] + mu_1_avg)/2\n",
    "    mu_1_neg = (dist['mu_ns']['p'] + mu_1_avg)/2\n",
    "    \n",
    "    mu_2_avg = (dist['mu_ps']['u'] + dist['mu_ns']['u'])/2\n",
    "    mu_2_pos = (dist['mu_ps']['u'] + mu_2_avg)/2\n",
    "    mu_2_neg = (dist['mu_ns']['u'] + mu_2_avg)/2\n",
    "    \n",
    "    mod.theta_ = np.array([[mu_1_neg, mu_2_neg],\n",
    "                           [mu_1_pos, mu_2_pos]])\n",
    "    \n",
    "    sigma_1 = dist['sigma_ps']['p'] ** 2 + (dist['mu_ps']['p'] - mu_1_avg)**2/4\n",
    "    sigma_2 = dist['sigma_ps']['u'] ** 2 + (dist['mu_ps']['u'] - mu_2_avg)**2/4\n",
    "    mod.sigma_ = np.array([[sigma_1, sigma_2],\n",
    "                           [sigma_1, sigma_2]])\n",
    "    \n",
    "    print(mod.theta_)\n",
    "    print(mod.sigma_)\n",
    "    \n",
    "    return mod"
   ]
  },
  {
   "cell_type": "code",
   "execution_count": 54,
   "id": "eastern-confidentiality",
   "metadata": {},
   "outputs": [
    {
     "name": "stdout",
     "output_type": "stream",
     "text": [
      "{'mu_ps': {'p': 13, 'u': 10}, 'sigma_ps': {'p': 2, 'u': 5}, 'mu_ns': {'p': 3, 'u': 0}, 'sigma_ns': {'p': 2, 'u': 5}}\n",
      "alpha 0.25\n",
      "pmod_results\t0.1374\t1.5496\t0.5496\t0.7791\t1.0000\t0.5582\n",
      "umod_results\t-0.1234\t0.6654\t0.3346\t0.7755\t0.5860\t0.9650\n",
      "mod_results\t-0.0020\t0.9919\t0.0081\t0.9716\t0.9898\t0.9534\n",
      "mod\n",
      "SR\t 0.2452\n",
      "PSR\t 0.2462\n",
      "PTPR\t 0.972\n",
      "PFPR\t 0.004266666666666667\n",
      "USR\t 0.2442\n",
      "UTPR\t 0.8952\n",
      "UFPR\t 0.0272\n",
      "alpha 0.5\n",
      "pmod_results\t-0.0152\t0.9696\t0.0304\t0.7508\t1.0000\t0.5016\n",
      "umod_results\t0.0148\t1.0302\t0.0302\t0.7090\t0.4590\t0.9590\n",
      "mod_results\t0.0000\t1.0000\t0.0000\t0.9652\t0.9924\t0.9380\n",
      "mod\n",
      "SR\t 0.5016\n",
      "PSR\t 0.5016\n",
      "PTPR\t 0.994\n",
      "PFPR\t 0.0092\n",
      "USR\t 0.5016\n",
      "UTPR\t 0.9396\n",
      "UFPR\t 0.0636\n",
      "alpha 0.75\n",
      "pmod_results\t-0.1962\t0.7384\t0.2616\t0.7549\t1.0000\t0.5098\n",
      "umod_results\t0.1076\t1.1657\t0.1657\t0.7766\t0.5888\t0.9644\n",
      "mod_results\t0.0082\t1.0109\t0.0109\t0.9717\t0.9928\t0.9506\n",
      "mod\n",
      "SR\t 0.7573\n",
      "PSR\t 0.7532\n",
      "PTPR\t 0.9973333333333333\n",
      "PFPR\t 0.0208\n",
      "USR\t 0.7614\n",
      "UTPR\t 0.9746666666666667\n",
      "UFPR\t 0.1216\n"
     ]
    }
   ],
   "source": [
    "from sklearn.tree import plot_tree as plot_tree\n",
    "dist = {\n",
    "    'mu_ps': {'p': 13, 'u': 10},\n",
    "    'sigma_ps': {'p': 2, 'u': 5},\n",
    "    'mu_ns': {'p': 3,'u': 0},\n",
    "    'sigma_ns': {'p': 2, 'u': 5}\n",
    "}\n",
    "\n",
    "results = {'p' : [], 'u': [], 'm': []}\n",
    "temp_dist = deepcopy(dist)\n",
    "kwargs['dist'] = temp_dist\n",
    "print(kwargs['dist'])   \n",
    "model_type = SVC\n",
    "n_redline = 3\n",
    "n_feature = 4\n",
    "\n",
    "mods = []\n",
    "\n",
    "for alpha in [0.25, 0.5, 0.75]:\n",
    "    print('alpha', alpha)\n",
    "    kwargs['alpha'] = alpha\n",
    "    kwargs['shift_random'] = 0\n",
    "    kwargs['shift_priv'] = False\n",
    "    kwargs['verbose'] = False\n",
    "    train_fd, test_fd = get_datasets(10000, n_feature, n_redline, kwargs, \n",
    "                                     test_random_state=41)\n",
    "    pmod, pmod_results = get_groupwise_performance(train_fd, test_fd, model_type,\n",
    "                                                   privileged=True, pos_rate=False)\n",
    "    umod, umod_results = get_groupwise_performance(train_fd, test_fd, model_type,\n",
    "                                                   privileged=False, pos_rate=False)\n",
    "    mod, mod_results = get_groupwise_performance(train_fd, test_fd, model_type,\n",
    "                                                 privileged=None, pos_rate=False)\n",
    "    \n",
    "    mods.append(mod)\n",
    "    \n",
    "    # print(test_fd.privileged_groups)\n",
    "    \n",
    "    if False:\n",
    "        print('Theta')\n",
    "        print(pmod.theta_)\n",
    "        print(umod.theta_)\n",
    "        print(mod.theta_)\n",
    "\n",
    "        print('Sigma')\n",
    "        print(pmod.sigma_)\n",
    "        print(umod.sigma_)\n",
    "        print(mod.sigma_)\n",
    "        \n",
    "        print(mod.class_prior_)\n",
    "    \n",
    "    print('pmod_results', *['{:.4f}'.format(i) for i in pmod_results], sep='\\t')\n",
    "    print('umod_results', *['{:.4f}'.format(i) for i in umod_results], sep='\\t')\n",
    "    print('mod_results', *['{:.4f}'.format(i) for i in mod_results], sep='\\t')\n",
    "    print('mod')\n",
    "    _, mod_pred = print_model_performances(mod, test_fd)\n",
    "    \n",
    "    # print(np.unique(pmod_pred == mod_pred, return_counts=True))\n",
    "    # print(np.unique(umod_pred == mod_pred, return_counts=True))\n"
   ]
  },
  {
   "cell_type": "code",
   "execution_count": 8,
   "id": "victorian-compound",
   "metadata": {},
   "outputs": [
    {
     "name": "stdout",
     "output_type": "stream",
     "text": [
      "0 0\n",
      "(-9, 25) (-21, 31)\n",
      "(13, 3)\n",
      "(4, 4)\n",
      "(5.0, 5.0)\n",
      "(7, 7)\n",
      "(8.0, 8.0)\n",
      "(4, 4)\n",
      "(10, 0)\n",
      "(7, 7)\n"
     ]
    },
    {
     "data": {
      "image/png": "[encoded data removed]",
      "text/plain": [
       "<Figure size 432x288 with 4 Axes>"
      ]
     },
     "metadata": {
      "needs_background": "light"
     },
     "output_type": "display_data"
    }
   ],
   "source": [
    "import matplotlib.pyplot as plt\n",
    "import numpy as np\n",
    "import scipy.stats as stats\n",
    "\n",
    "def plot_normal(mu, sigma, ax, label=None):\n",
    "    x = np.linspace(mu - 3*sigma, mu + 3*sigma, 100)\n",
    "    ax.plot(x, stats.norm.pdf(x, mu, sigma), label=label)\n",
    "\n",
    "f, ax = plt.subplots(2, 2)\n",
    "shift_p = 0\n",
    "shift_u = 0\n",
    "if kwargs['shift_priv'] == True:\n",
    "    shift_u = kwargs['shift_random']\n",
    "if kwargs['shift_priv'] == False:\n",
    "    shift_p = kwargs['shift_random']\n",
    "print(shift_p, shift_u)\n",
    "avg_p = (dist['mu_ps']['p'] + dist['mu_ns']['p'])/2 + shift_p\n",
    "avg_u = (dist['mu_ps']['u'] + dist['mu_ns']['u'])/2 + shift_u\n",
    "sigma_p = dist['sigma_ps']['p']\n",
    "sigma_u = dist['sigma_ps']['u']\n",
    "p_range = (min(dist['mu_ps']['p'], dist['mu_ns']['p']) - 3 * sigma_p, \n",
    "           max(dist['mu_ps']['p'], dist['mu_ns']['p']) + 3 * sigma_p\n",
    "          )\n",
    "u_range = (min(dist['mu_ps']['u'], dist['mu_ns']['u']) - 3 * sigma_u, \n",
    "           max(dist['mu_ps']['u'], dist['mu_ns']['u']) + 3 * sigma_u\n",
    "          )\n",
    "print(p_range, u_range)\n",
    "\n",
    "combs = [\n",
    "    [\n",
    "        [(dist['mu_ps']['p'], dist['mu_ns']['p']), (sigma_p, sigma_p), p_range], \n",
    "        [(avg_u, avg_u), (sigma_u, sigma_u), u_range]\n",
    "    ],\n",
    "    [\n",
    "        [(avg_p, avg_p), (sigma_p, sigma_p), p_range], \n",
    "        [(dist['mu_ps']['u'], dist['mu_ns']['u']), (sigma_u, sigma_u), u_range]\n",
    "    ]\n",
    "]\n",
    "\n",
    "for i, row in enumerate(ax):\n",
    "    for j, a in enumerate(row):\n",
    "        mus = combs[i][j][0]\n",
    "        sigmas = combs[i][j][1]\n",
    "        print(mus)\n",
    "        print(sigmas)\n",
    "        plot_normal(mus[0], sigmas[0], a)\n",
    "        plot_normal(mus[1], sigmas[1], a)\n",
    "        left, right = combs[i][j][2]\n",
    "        # left = min(mus[0] - 3 * sigmas[0], mus[1] - 3 * sigmas[1])\n",
    "        # right = max(mus[1] + 3 * sigmas[1], mus[1] + 3 * sigmas[1])\n",
    "        a.set_xlim(left,right)\n",
    "        a.set_ylim(-0.01, 0.22)\n",
    "        # a.vlines(np.mean(mus), 0, 0.2, color='red')\n",
    "        \n",
    "ax[0][0].set_title('Test Scores')\n",
    "ax[0][1].set_title('GPA')\n",
    "\n",
    "ax[0][0].set_ylabel('Privileged')\n",
    "ax[1][0].set_ylabel('Unprivileged')\n",
    "\n",
    "plt.subplots_adjust(wspace=0.25)"
   ]
  },
  {
   "cell_type": "code",
   "execution_count": 9,
   "id": "laden-soundtrack",
   "metadata": {
    "scrolled": false
   },
   "outputs": [
    {
     "name": "stdout",
     "output_type": "stream",
     "text": [
      "         r_p_0     r_p_1     r_p_2     r_u_0      r_u_1     r_u_2       i_0  \\\n",
      "4000  6.218787  4.816019  0.309754  7.656293  10.076708 -4.049013 -9.445508   \n",
      "\n",
      "           i_1       i_2       i_3  \n",
      "4000  4.523429  9.007739 -4.881195  \n",
      "[1.]\n",
      "[0.]\n",
      "[[0.09598604 0.09824308 0.0969556  0.0571035  0.05607516 0.05620458\n",
      "  0.04430835 0.0999183  0.05067415 0.04855393]\n",
      " [0.09124642 0.08674236 0.07296935 0.05666383 0.05744376 0.05631973\n",
      "  0.04399631 0.0989675  0.04746121 0.04881075]]\n",
      "[[0.10126539 0.09728909 0.08937961 0.0555199  0.05599505 0.05723514\n",
      "  0.04288092 0.10018284 0.0568845  0.04847857]\n",
      " [0.10003099 0.09643535 0.08851492 0.05727243 0.05731152 0.05432306\n",
      "  0.04317241 0.09871018 0.04940834 0.04889828]]\n",
      "[[0.08510239 0.08435993 0.08180126 0.05275527 0.05326797 0.05329457\n",
      "  0.04357834 0.10001025 0.0538105  0.04850341]\n",
      " [0.08325351 0.08090736 0.07620865 0.05386196 0.05407565 0.05244653\n",
      "  0.04357887 0.09883852 0.04843792 0.04885433]]\n"
     ]
    }
   ],
   "source": [
    "def conditional_probs(clf, x):\n",
    "    temp = (clf.theta_ - x.values)\n",
    "    temp = temp / clf.sigma_\n",
    "    temp = (temp ** 2)/2\n",
    "    temp = np.exp(- temp)\n",
    "    temp = temp / np.sqrt(2 * 3.1416 * (clf.sigma_))\n",
    "    # temp = np.prod(temp, axis=1)\n",
    "    # temp = umod.class_prior_ * temp\n",
    "    # temp = temp/ np.sum(temp)\n",
    "    return temp\n",
    "\n",
    "i = 4000\n",
    "test_fd_x, _ = test_fd.get_xy(keep_protected=False)\n",
    "print(test_fd_x.iloc[i:i+1])\n",
    "print(test_fd.protected_attributes[i])\n",
    "print(test_fd.labels[i])\n",
    "print(conditional_probs(pmod, test_fd_x.iloc[i:i+1]))\n",
    "print(conditional_probs(umod, test_fd_x.iloc[i:i+1]))\n",
    "print(conditional_probs(mod, test_fd_x.iloc[i:i+1]))"
   ]
  },
  {
   "cell_type": "code",
   "execution_count": 10,
   "id": "maritime-aircraft",
   "metadata": {},
   "outputs": [
    {
     "data": {
      "text/plain": [
       "{'mu_ps': {'p': 13, 'u': 10},\n",
       " 'sigma_ps': {'p': 4, 'u': 7},\n",
       " 'mu_ns': {'p': 3, 'u': 0},\n",
       " 'sigma_ns': {'p': 4, 'u': 7}}"
      ]
     },
     "execution_count": 10,
     "metadata": {},
     "output_type": "execute_result"
    }
   ],
   "source": [
    "dist"
   ]
  },
  {
   "cell_type": "code",
   "execution_count": 11,
   "id": "handy-intellectual",
   "metadata": {},
   "outputs": [
    {
     "data": {
      "text/plain": [
       "{'priors': None,\n",
       " 'var_smoothing': 1e-09,\n",
       " 'n_features_in_': 10,\n",
       " 'epsilon_': 8.034713869290456e-08,\n",
       " 'classes_': array([0., 1.]),\n",
       " 'theta_': array([[ 5.4531326 ,  5.47950205,  5.47662223,  2.43323865,  2.57419493,\n",
       "          2.69647595,  6.93614061,  6.04047703,  6.99003002,  7.98704733],\n",
       "        [10.46830551, 10.53270931, 10.49656504,  7.55171525,  7.58606651,\n",
       "          7.46886784,  7.09898703,  5.98206104,  7.00667739,  8.07375406]]),\n",
       " 'sigma_': array([[21.94861416, 22.34414599, 22.57042796, 56.70254672, 55.0583034 ,\n",
       "         55.20377592, 80.39839033, 15.76553735,  1.00916015, 65.05521074],\n",
       "        [22.13102324, 22.83638819, 22.20120352, 54.8596664 , 54.31282811,\n",
       "         55.41449454, 80.32342518, 16.15950687,  0.97106557, 64.00613082]]),\n",
       " 'class_count_': array([ 5000., 15000.]),\n",
       " 'class_prior_': array([0.25, 0.75])}"
      ]
     },
     "execution_count": 11,
     "metadata": {},
     "output_type": "execute_result"
    }
   ],
   "source": [
    "mod.__dict__"
   ]
  },
  {
   "cell_type": "code",
   "execution_count": 12,
   "id": "perceived-nerve",
   "metadata": {},
   "outputs": [],
   "source": [
    "def get_expected_x(dist, priv, ispos):\n",
    "    x1, x2 = get_mus(dist, priv, ispos)\n",
    "    if priv:\n",
    "        x2 = x2 + 0 * dist['sigma_ps']['u']  \n",
    "    else:\n",
    "        x1 = x1 + 0 * dist['sigma_ps']['p']\n",
    "        \n",
    "    print(x1, x2)\n",
    "    return x1, x2\n",
    "\n",
    "def get_mus(dist, priv, ispos):\n",
    "    if priv:\n",
    "        mu2 = (dist['mu_ps']['u'] + dist['mu_ns']['u'])/2\n",
    "        if ispos:\n",
    "            mu1 = dist['mu_ps']['p']\n",
    "        else:\n",
    "            mu1 = dist['mu_ns']['p']\n",
    "    else:\n",
    "        mu1 = (dist['mu_ps']['p'] + dist['mu_ns']['p'])/2\n",
    "        if ispos:\n",
    "            mu2 = dist['mu_ps']['u']\n",
    "        else:\n",
    "            mu2 = dist['mu_ns']['u']\n",
    "        \n",
    "    # print(mu1, mu2)\n",
    "    \n",
    "    return mu1, mu2"
   ]
  },
  {
   "cell_type": "code",
   "execution_count": 13,
   "id": "exterior-brown",
   "metadata": {},
   "outputs": [],
   "source": [
    "from scipy.stats import norm\n",
    "def get_cdf(mu, sigma, x):\n",
    "    rv = norm(loc=mu, scale=sigma)\n",
    "    return rv.cdf(x)"
   ]
  },
  {
   "cell_type": "code",
   "execution_count": 14,
   "id": "interesting-phrase",
   "metadata": {},
   "outputs": [
    {
     "name": "stdout",
     "output_type": "stream",
     "text": [
      "13 5.0\n"
     ]
    }
   ],
   "source": [
    "ex1, ex2 = get_expected_x(dist, priv=True, ispos=True)"
   ]
  },
  {
   "cell_type": "code",
   "execution_count": 15,
   "id": "instant-double",
   "metadata": {},
   "outputs": [],
   "source": [
    "def get_bounds(alpha, ex1, ex2):\n",
    "    c = math.log(alpha/(1-alpha))\n",
    "    x1_bound = 8 - 10.2/5*(c + 5/31.5*(ex2 - 5))\n",
    "    x2_bound = 5 - 31.5/5*(c + 5/10.2*(ex1 - 8))\n",
    "    return x1_bound, x2_bound"
   ]
  },
  {
   "cell_type": "code",
   "execution_count": 16,
   "id": "nasty-completion",
   "metadata": {},
   "outputs": [
    {
     "data": {
      "text/plain": [
       "(10.241169068882943, -3.5199190519791443)"
      ]
     },
     "execution_count": 16,
     "metadata": {},
     "output_type": "execute_result"
    }
   ],
   "source": [
    "x1, x2 = get_bounds(0.25, ex1, ex2)\n",
    "x1, x2"
   ]
  },
  {
   "cell_type": "code",
   "execution_count": 17,
   "id": "statewide-samuel",
   "metadata": {},
   "outputs": [
    {
     "data": {
      "text/plain": [
       "'0.87563157'"
      ]
     },
     "execution_count": 17,
     "metadata": {},
     "output_type": "execute_result"
    }
   ],
   "source": [
    "'{:.8f}'.format((1 - get_cdf(ex1, 2, x1))*(1 - get_cdf(ex2, 5, x2)))"
   ]
  },
  {
   "cell_type": "code",
   "execution_count": 18,
   "id": "annual-tonight",
   "metadata": {},
   "outputs": [
    {
     "data": {
      "text/plain": [
       "0.9161166532097544"
      ]
     },
     "execution_count": 18,
     "metadata": {},
     "output_type": "execute_result"
    }
   ],
   "source": [
    "(1 - get_cdf(ex1, 2, x1))"
   ]
  },
  {
   "cell_type": "code",
   "execution_count": 19,
   "id": "another-story",
   "metadata": {},
   "outputs": [
    {
     "data": {
      "text/plain": [
       "0.9558079440723021"
      ]
     },
     "execution_count": 19,
     "metadata": {},
     "output_type": "execute_result"
    }
   ],
   "source": [
    "(1 - get_cdf(ex2, 5, x2))"
   ]
  },
  {
   "cell_type": "code",
   "execution_count": 20,
   "id": "tough-auckland",
   "metadata": {},
   "outputs": [
    {
     "name": "stdout",
     "output_type": "stream",
     "text": [
      "0.8676256796541201\n"
     ]
    }
   ],
   "source": [
    "rv = norm(loc=8, scale=2)\n",
    "exp = 0\n",
    "for i in np.arange(-20, 30, 0.01):\n",
    "    prob = rv.pdf(i)\n",
    "    fx = 0.01 * erf((36.2565 - 3.0488 * i)/(5 * math.sqrt(2)))\n",
    "    exp += fx*prob\n",
    "    \n",
    "print(exp)\n",
    "    "
   ]
  },
  {
   "cell_type": "code",
   "execution_count": 21,
   "id": "cross-responsibility",
   "metadata": {},
   "outputs": [
    {
     "data": {
      "text/plain": [
       "0.06618716017293996"
      ]
     },
     "execution_count": 21,
     "metadata": {},
     "output_type": "execute_result"
    }
   ],
   "source": [
    "1/2 - 0.5*exp"
   ]
  },
  {
   "cell_type": "markdown",
   "id": "artificial-details",
   "metadata": {},
   "source": [
    "## Theoretical Bounds"
   ]
  },
  {
   "cell_type": "code",
   "execution_count": 22,
   "id": "expired-polyester",
   "metadata": {},
   "outputs": [],
   "source": [
    "def get_a(sigma_1_theta, sigma_2_theta, sigma_2):\n",
    "    return - (sigma_2_theta / sigma_1_theta) ** 2 / (math.sqrt(2) * sigma_2)\n",
    "\n",
    "def get_b(sigma_1_theta, sigma_2_theta, sigma_1, sigma_2, mu_1_avg, mu_2_avg, mu, alpha, delta):\n",
    "    temp = (mu_2_avg - mu)\n",
    "    temp += (sigma_2_theta / sigma_1_theta) ** 2 * mu_1_avg\n",
    "    temp -= (sigma_2_theta ** 2 / delta) * math.log(alpha/(1-alpha))\n",
    "    temp /= (math.sqrt(2) * sigma_2)\n",
    "    return temp    \n",
    "\n",
    "def get_selection_rate(s, is_pos, dist, dist_theta, delta, alpha):\n",
    "    if is_pos:\n",
    "        if s == 'p':\n",
    "            mu_1 = dist['mu_ps']['p']\n",
    "            mu_2 = dist_theta['mu'][2]\n",
    "        else:\n",
    "            mu_1 = dist_theta['mu'][1]\n",
    "            mu_2 = dist['mu_ps']['u']\n",
    "    else:\n",
    "        if s == 'p':\n",
    "            mu_1 = dist['mu_ns']['p']\n",
    "            mu_2 = dist_theta['mu'][2]\n",
    "        else:\n",
    "            mu_1 = dist_theta['mu'][1]\n",
    "            mu_2 = dist['mu_ns']['u']\n",
    "\n",
    "    sigma_1_theta = dist_theta['sigma'][1]\n",
    "    sigma_2_theta = dist_theta['sigma'][2]\n",
    "    sigma_1 = dist['sigma_ps']['p']\n",
    "    sigma_2 = dist['sigma_ps']['u']\n",
    "    mu_1_avg = dist_theta['mu'][1]\n",
    "    mu_2_avg = dist_theta['mu'][2]\n",
    "    \n",
    "    a = get_a(sigma_1_theta, sigma_2_theta, sigma_2)\n",
    "    b = get_b(sigma_1_theta, sigma_2_theta, sigma_1, sigma_2, \n",
    "              mu_1_avg, mu_2_avg, mu_2, alpha, delta)\n",
    "    # print((a * mu_1 + b)/np.sqrt(1+a**2 * sigma_1**2))\n",
    "    # print(np.sqrt(1+a**2 * sigma_1**2))\n",
    "    \n",
    "    return 0.5 * (1 - erf((a * mu_1 + b)/np.sqrt(1+a**2 * sigma_1**2)))"
   ]
  },
  {
   "cell_type": "code",
   "execution_count": 23,
   "id": "veterinary-sunset",
   "metadata": {},
   "outputs": [
    {
     "name": "stdout",
     "output_type": "stream",
     "text": [
      "53.0 50.0 47.16990566028302 112.80514172678478 100\n"
     ]
    }
   ],
   "source": [
    "dist = {\n",
    "    'mu_ps': {'p': 103, 'u': 100},\n",
    "    'sigma_ps': {'p': 40, 'u': 110},\n",
    "    'mu_ns': {'p': 3,'u': 0},\n",
    "    'sigma_ns': {'p': 40, 'u': 110}\n",
    "}\n",
    "\n",
    "delta = dist['mu_ps']['p'] - dist['mu_ns']['p']\n",
    "\n",
    "mu_1_avg = (dist['mu_ps']['p'] + dist['mu_ns']['p']) / 2\n",
    "mu_2_avg = (dist['mu_ps']['u'] + dist['mu_ns']['u']) / 2\n",
    "sigma_1_theta = np.sqrt(dist['sigma_ps']['p']**2 \n",
    "                        + (dist['mu_ps']['p'] - dist['mu_ns']['p'])**2 / 16)\n",
    "sigma_2_theta = np.sqrt(dist['sigma_ps']['u']**2 \n",
    "                        + (dist['mu_ps']['u'] - dist['mu_ns']['u'])**2 / 16)\n",
    "dist_theta = {'mu': {1: mu_1_avg, 2: mu_2_avg},\n",
    "             'sigma': {1: sigma_1_theta, 2: sigma_2_theta}\n",
    "             }\n",
    "print(mu_1_avg, mu_2_avg, sigma_1_theta, sigma_2_theta, delta)"
   ]
  },
  {
   "cell_type": "code",
   "execution_count": 24,
   "id": "extreme-shelf",
   "metadata": {},
   "outputs": [
    {
     "data": {
      "text/plain": [
       "0.7725142260923433"
      ]
     },
     "execution_count": 24,
     "metadata": {},
     "output_type": "execute_result"
    }
   ],
   "source": [
    "get_selection_rate('p', True, dist, dist_theta, delta, 0.25)"
   ]
  },
  {
   "cell_type": "code",
   "execution_count": 25,
   "id": "desperate-china",
   "metadata": {},
   "outputs": [
    {
     "data": {
      "text/plain": [
       "0.014760783551900025"
      ]
     },
     "execution_count": 25,
     "metadata": {},
     "output_type": "execute_result"
    }
   ],
   "source": [
    "get_selection_rate('p', False, dist, dist_theta, delta, .25)"
   ]
  },
  {
   "cell_type": "code",
   "execution_count": 26,
   "id": "executive-strain",
   "metadata": {
    "scrolled": true
   },
   "outputs": [
    {
     "data": {
      "text/plain": [
       "0.32309938259038007"
      ]
     },
     "execution_count": 26,
     "metadata": {},
     "output_type": "execute_result"
    }
   ],
   "source": [
    "get_selection_rate('u', True, dist, dist_theta, delta, 0.25)"
   ]
  },
  {
   "cell_type": "code",
   "execution_count": 27,
   "id": "handmade-shame",
   "metadata": {},
   "outputs": [
    {
     "data": {
      "text/plain": [
       "0.16596117525660198"
      ]
     },
     "execution_count": 27,
     "metadata": {},
     "output_type": "execute_result"
    }
   ],
   "source": [
    "get_selection_rate('u', False, dist, dist_theta, delta, 0.25)"
   ]
  },
  {
   "cell_type": "code",
   "execution_count": 28,
   "id": "thousand-executive",
   "metadata": {
    "scrolled": true
   },
   "outputs": [
    {
     "name": "stdout",
     "output_type": "stream",
     "text": [
      "1.033649846800481\n",
      "0.1807364172205163\n",
      "0.4599741818262142\n",
      "-1.0986122886681098\n"
     ]
    },
    {
     "data": {
      "text/plain": [
       "True"
      ]
     },
     "execution_count": 28,
     "metadata": {},
     "output_type": "execute_result"
    }
   ],
   "source": [
    "sigma_theta_1 = dist_theta['sigma'][1]\n",
    "sigma_theta_2 = dist_theta['sigma'][2]\n",
    "sigma_1 = dist['sigma_ps']['p']\n",
    "sigma_2 = dist['sigma_ps']['u']\n",
    "a = (sigma_theta_2/sigma_theta_1) ** 2 / (math.sqrt(2) * sigma_2)\n",
    "c1 = a * delta / (2  * np.sqrt(1 + (a * sigma_1)**2))\n",
    "print(c1)\n",
    "c3 = delta / (2 * np.sqrt(2) * sigma_2 * np.sqrt(1 + (a**2 * sigma_1**2)))\n",
    "print(c3)\n",
    "alpha = 0.25\n",
    "c2 = (sigma_theta_2)**2 / (delta * np.sqrt(2) * sigma_2 * np.sqrt(1 + (a * sigma_1)**2))\n",
    "print(c2)\n",
    "c_alpha = np.log(alpha/(1-alpha))\n",
    "print(c_alpha)\n",
    "4 * c3 * (sigma_theta_2)**2 / (delta * np.sqrt(2) * sigma_2 * np.sqrt(1 + (a * sigma_1)**2)) < 1"
   ]
  },
  {
   "cell_type": "code",
   "execution_count": 29,
   "id": "married-english",
   "metadata": {},
   "outputs": [
    {
     "name": "stdout",
     "output_type": "stream",
     "text": [
      "i\t['c1', 'c2', 'c3', 'c1 + c2', 'c3 + c2', 'c1 - c2', 'c3 - c2']\n",
      "30 30 39.05124837953327 39.05124837953327 1906249 2744999\n",
      "30\t['0.8333', '-0.1190', '0.8333', '0.7143', '0.7143', '0.9523', '0.9523']\tFalse\n",
      "30 40 39.05124837953327 47.16990566028302 2343750 4442500\n",
      "40\t['0.8700', '-0.1261', '0.5963', '0.7438', '0.4701', '0.9961', '0.7224']\tFalse\n",
      "30 50 39.05124837953327 55.90169943749474 2906250 6625000\n",
      "50\t['0.9143', '-0.1352', '0.4462', '0.7791', '0.3109', '1.0495', '0.5814']\tFalse\n",
      "30 60 39.05124837953327 65.0 3593750 9292500\n",
      "60\t['0.9555', '-0.1442', '0.3449', '0.8113', '0.2007', '1.0998', '0.4891']\tFalse\n",
      "30 70 39.05124837953327 74.33034373659252 4406250 12445000\n",
      "70\t['0.9908', '-0.1524', '0.2735', '0.8384', '0.1211', '1.1432', '0.4259']\tFalse\n",
      "30 80 39.05124837953327 83.81527307120105 5343750 16082499\n",
      "80\t['1.0199', '-0.1595', '0.2214', '0.8605', '0.0619', '1.1794', '0.3809']\tFalse\n",
      "30 90 39.05124837953327 93.40770846134703 6406250 20205000\n",
      "90\t['1.0437', '-0.1656', '0.1824', '0.8782', '0.0169', '1.2093', '0.3480']\tFalse\n",
      "30 100 39.05124837953327 103.07764064044152 7593750 24812500\n",
      "100\t['1.0631', '-0.1707', '0.1526', '0.8924', '-0.0181', '1.2338', '0.3233']\tFalse\n",
      "30 110 39.05124837953327 112.80514172678478 8906250 29905000\n",
      "110\t['1.0789', '-0.1751', '0.1293', '0.9039', '-0.0458', '1.2540', '0.3044']\tFalse\n",
      "30 120 39.05124837953327 122.57650672131263 10343750 35482500\n",
      "120\t['1.0920', '-0.1787', '0.1108', '0.9132', '-0.0679', '1.2707', '0.2896']\tFalse\n",
      "30 130 39.05124837953327 132.38202294873727 11906250 41545000\n",
      "130\t['1.1027', '-0.1819', '0.0960', '0.9209', '-0.0859', '1.2846', '0.2778']\tFalse\n",
      "30 140 39.05124837953327 142.21462653327893 13593750 48092500\n",
      "140\t['1.1117', '-0.1845', '0.0838', '0.9272', '-0.1007', '1.2962', '0.2684']\tFalse\n",
      "30 150 39.05124837953327 152.0690632574555 15406250 55124999\n",
      "150\t['1.1192', '-0.1868', '0.0738', '0.9324', '-0.1130', '1.3060', '0.2606']\tFalse\n",
      "30 160 39.05124837953327 161.94134740701648 17343750 62642500\n",
      "160\t['1.1256', '-0.1888', '0.0655', '0.9369', '-0.1233', '1.3144', '0.2542']\tFalse\n",
      "30 170 39.05124837953327 171.82840277439584 19406250 70645000\n",
      "170\t['1.1311', '-0.1904', '0.0584', '0.9406', '-0.1320', '1.3215', '0.2489']\tFalse\n",
      "30 180 39.05124837953327 181.72781845386248 21593750 79132500\n",
      "180\t['1.1357', '-0.1919', '0.0524', '0.9438', '-0.1395', '1.3276', '0.2444']\tFalse\n",
      "30 190 39.05124837953327 191.637678967368 23906250 88105000\n",
      "190\t['1.1398', '-0.1932', '0.0473', '0.9466', '-0.1459', '1.3329', '0.2405']\tFalse\n"
     ]
    }
   ],
   "source": [
    "temp_dist = deepcopy(dist)\n",
    "\n",
    "print('i', ['c1', 'c2', 'c3', 'c1 + c2', 'c3 + c2', 'c1 - c2', 'c3 - c2'], sep='\\t')\n",
    "def func(sigma_1, sigma_2, delta):\n",
    "    sigma_theta_1 = np.sqrt(sigma_1**2 + delta**2/16)\n",
    "    sigma_theta_2 = np.sqrt(sigma_2**2 + delta**2/16)\n",
    "    \n",
    "    lhs = (delta**2 / 16) * (sigma_theta_2**2 + sigma_theta_1**2)\n",
    "    rhs = (sigma_theta_2**2 * sigma_1**2 + sigma_theta_1**2 * sigma_2**2)\n",
    "    print(sigma_1, sigma_2, sigma_theta_1, sigma_theta_2, int(lhs), int(rhs))\n",
    "    return lhs> rhs\n",
    "\n",
    "temp_dist = {\n",
    "    'mu_ps': {'p': 103, 'u': 100},\n",
    "    'sigma_ps': {'p': 30, 'u': 110},\n",
    "    'mu_ns': {'p': 3,'u': 0},\n",
    "    'sigma_ns': {'p': 30, 'u': 110}\n",
    "}\n",
    "\n",
    "for i in range(30, 200, 10):\n",
    "    temp_dist['sigma_ps']['u'] = temp_dist['sigma_ns']['u'] = i\n",
    "    sigma_1 = temp_dist['sigma_ps']['p']\n",
    "    sigma_2 = temp_dist['sigma_ps']['u']\n",
    "    sigma_theta_1 = np.sqrt(sigma_1**2 + delta**2/16)\n",
    "    sigma_theta_2 = np.sqrt(sigma_2**2 + delta**2/16)\n",
    "    a = (sigma_theta_2/sigma_theta_1) ** 2 / (math.sqrt(2) * sigma_2)\n",
    "    c1 = a * delta / (2  * np.sqrt(1 + 2*(a * sigma_1)**2))\n",
    "    # print(c1)\n",
    "    c3 = delta / (2 * np.sqrt(2) * sigma_2 * np.sqrt(1 + 2*(a**2 * sigma_1**2)))\n",
    "    # print(c3)\n",
    "    alpha = 0.25\n",
    "    c2 = (sigma_theta_2)**2 * np.log(alpha/(1-alpha)*2) / (delta * np.sqrt(2) * sigma_2 * np.sqrt(1 + (a * sigma_1)**2))\n",
    "    # print(c2)\n",
    "    cond = func(sigma_1, sigma_2, delta)\n",
    "    print(i, ['{:.4f}'.format(f) for f in [c1, c2, c3, c1+c2, c3+c2, c1-c2, c3-c2]], cond, sep='\\t')"
   ]
  },
  {
   "cell_type": "code",
   "execution_count": 30,
   "id": "understanding-zealand",
   "metadata": {
    "scrolled": false
   },
   "outputs": [
    {
     "name": "stdout",
     "output_type": "stream",
     "text": [
      "(0.053023995525617935, 0.05342948072969357, 0.1)\n",
      "(0.0986669245589741, 0.09941693359613071, 0.15000000000000002)\n",
      "(0.1496926239591474, 0.15066157803401142, 0.20000000000000004)\n",
      "(0.20419914418701096, 0.20524572709004668, 0.25000000000000006)\n",
      "(0.26106788837976586, 0.2620638391071948, 0.30000000000000004)\n",
      "(0.31956155295011995, 0.3204013775393985, 0.3500000000000001)\n",
      "(0.3791482901901498, 0.3797523542056599, 0.40000000000000013)\n",
      "(0.4394119858430373, 0.4397272480846831, 0.45000000000000007)\n",
      "(0.5000000000000001, 0.5000000000000002, 0.5000000000000001)\n",
      "(0.560588014156963, 0.5602727519153172, 0.5500000000000002)\n",
      "(0.6208517098098506, 0.6202476457943406, 0.6000000000000002)\n",
      "(0.6804384470498803, 0.6795986224606019, 0.6500000000000001)\n",
      "(0.7389321116202344, 0.7379361608928057, 0.7000000000000002)\n",
      "(0.7958008558129894, 0.7947542729099537, 0.7500000000000002)\n",
      "(0.8503073760408529, 0.8493384219659887, 0.8000000000000002)\n",
      "(0.9013330754410261, 0.9005830664038696, 0.8500000000000002)\n",
      "(0.9469760044743822, 0.9465705192703067, 0.9000000000000002)\n",
      "(0.9833985022307477, 0.9833572929454312, 0.9500000000000003)\n"
     ]
    },
    {
     "data": {
      "image/png": "[encoded data removed]",
      "text/plain": [
       "<Figure size 432x288 with 1 Axes>"
      ]
     },
     "metadata": {
      "needs_background": "light"
     },
     "output_type": "display_data"
    }
   ],
   "source": [
    "alphas = list(np.arange(.1, 1, 0.05))\n",
    "tps = [get_selection_rate('p', True, dist, dist_theta, delta, alpha) for alpha in alphas]\n",
    "# plt.plot(alphas, tps, label='Priv TP')\n",
    "fps = [get_selection_rate('p', False, dist, dist_theta, delta, alpha) for alpha in alphas]\n",
    "# plt.plot(alphas, fps, label='Priv FP')\n",
    "\n",
    "# print(*list(zip(tps, fps, alphas)), sep='\\n')\n",
    "\n",
    "sr_p = [alphas[i] * tps[i] + (1 - alphas[i]) * fps[i] for i in range(len(alphas))]\n",
    "plt.plot(alphas, sr_p, '*-', label='Priv SR')\n",
    "\n",
    "tps = [get_selection_rate('u', True, dist, dist_theta, delta, alpha) for alpha in alphas]\n",
    "# plt.plot(alphas, tps, label='Unpriv TP')\n",
    "fps = [get_selection_rate('u', False, dist, dist_theta, delta, alpha) for alpha in alphas]\n",
    "# plt.plot(alphas, fps, label='Unpriv FP')\n",
    "\n",
    "# print()\n",
    "\n",
    "# print(*list(zip(tps, fps, alphas)), sep='\\n')\n",
    "\n",
    "sr_u = [alphas[i] * tps[i] + (1 - alphas[i]) * fps[i] for i in range(len(alphas))]\n",
    "plt.plot(alphas, sr_u, '*-', label='Unpriv SR')\n",
    "# print()\n",
    "print(*list(zip(sr_p, sr_u, alphas)), sep='\\n')\n",
    "\n",
    "plt.xlabel('Alpha')\n",
    "plt.ylabel('Selection Rate')\n",
    "plt.legend()\n",
    "plt.savefig('theo_selection_rate_delta_{:d}_s1_{:d}_s2_{:d}.pdf'.\n",
    "            format(delta, dist['sigma_ps']['p'], dist['sigma_ps']['u']), format='pdf')"
   ]
  },
  {
   "cell_type": "code",
   "execution_count": 31,
   "id": "periodic-legislature",
   "metadata": {},
   "outputs": [
    {
     "data": {
      "text/plain": [
       "0.020666985354092053"
      ]
     },
     "execution_count": 31,
     "metadata": {},
     "output_type": "execute_result"
    }
   ],
   "source": [
    "def ddx_erf(x):\n",
    "    return np.exp(-x**2)*2/np.sqrt(math.pi)\n",
    "\n",
    "ddx_erf(2)"
   ]
  },
  {
   "cell_type": "code",
   "execution_count": 32,
   "id": "handmade-surrey",
   "metadata": {},
   "outputs": [
    {
     "data": {
      "text/plain": [
       "[<matplotlib.lines.Line2D at 0x28241e3bb50>]"
      ]
     },
     "execution_count": 32,
     "metadata": {},
     "output_type": "execute_result"
    },
    {
     "data": {
      "image/png": "[encoded data removed]",
      "text/plain": [
       "<Figure size 432x288 with 1 Axes>"
      ]
     },
     "metadata": {
      "needs_background": "light"
     },
     "output_type": "display_data"
    }
   ],
   "source": [
    "xs = np.arange(0, 3, 0.01)\n",
    "plt.plot(xs, [ddx_erf(x) for x in xs])\n",
    "xs = np.arange(0, 3, 0.01)\n",
    "plt.plot(xs, [ddx_erf(x) for x in xs])"
   ]
  },
  {
   "cell_type": "code",
   "execution_count": 33,
   "id": "institutional-interstate",
   "metadata": {},
   "outputs": [
    {
     "data": {
      "text/plain": [
       "False"
      ]
     },
     "execution_count": 33,
     "metadata": {},
     "output_type": "execute_result"
    }
   ],
   "source": [
    "sigma_1 = 30\n",
    "sigma_2 = 90\n",
    "delta = 100\n",
    "2 *(sigma_2**2 + delta/16) > (sigma_1**2 + delta/16) **2 * sigma_2**2 + (sigma_2**2 + delta/16) **2 * sigma_1**2\n"
   ]
  },
  {
   "cell_type": "code",
   "execution_count": 34,
   "id": "falling-kinase",
   "metadata": {},
   "outputs": [
    {
     "data": {
      "text/plain": [
       "16212.5"
      ]
     },
     "execution_count": 34,
     "metadata": {},
     "output_type": "execute_result"
    }
   ],
   "source": [
    "2 *(sigma_2**2 + delta/16)"
   ]
  },
  {
   "cell_type": "code",
   "execution_count": 35,
   "id": "satisfied-acrylic",
   "metadata": {},
   "outputs": [
    {
     "data": {
      "text/plain": [
       "65792601562.5"
      ]
     },
     "execution_count": 35,
     "metadata": {},
     "output_type": "execute_result"
    }
   ],
   "source": [
    "(sigma_1**2 + delta/16) **2 * sigma_2**2 + (sigma_2**2 + delta/16) **2 * sigma_1**2"
   ]
  },
  {
   "cell_type": "markdown",
   "id": "referenced-sleeping",
   "metadata": {},
   "source": [
    "### Just random testing equations."
   ]
  },
  {
   "cell_type": "code",
   "execution_count": 36,
   "id": "marine-garden",
   "metadata": {},
   "outputs": [],
   "source": [
    "dist = {\n",
    "    'mu_ps': {'p': 103, 'u': 100},\n",
    "    'sigma_ps': {'p': 40, 'u': 110},\n",
    "    'mu_ns': {'p': 3,'u': 0},\n",
    "    'sigma_ns': {'p': 40, 'u': 110}\n",
    "}"
   ]
  },
  {
   "cell_type": "code",
   "execution_count": 37,
   "id": "apart-smith",
   "metadata": {},
   "outputs": [],
   "source": [
    "mu_1_p_plus = 13\n",
    "mu_1_p_minus = 3\n",
    "mu_1_u_plus = mu_1_u_minus = 8\n",
    "mu_2_p_plus = mu_2_p_minus = 5\n",
    "mu_2_u_plus = 10\n",
    "mu_2_u_minus = 0\n",
    "sigma_1 = 2\n",
    "sigma_2 = 5\n",
    "sigma_1_theta_sqr = 10.25\n",
    "sigma_2_theta_sqr = 31.25\n",
    "\n",
    "mu_1_avg = 8\n",
    "mu_2_avg = 5\n",
    "\n",
    "alpha = 0.25\n",
    "c_alpha = np.log(alpha/(1-alpha))\n",
    "delta = 10"
   ]
  },
  {
   "cell_type": "markdown",
   "id": "related-begin",
   "metadata": {},
   "source": [
    "Equation inside erf for $P(\\hat{y}^+| y^+, p)$"
   ]
  },
  {
   "cell_type": "code",
   "execution_count": 38,
   "id": "quick-darkness",
   "metadata": {},
   "outputs": [
    {
     "data": {
      "text/plain": [
       "-1.0590972600198978"
      ]
     },
     "execution_count": 38,
     "metadata": {},
     "output_type": "execute_result"
    }
   ],
   "source": [
    "b = mu_2_avg - mu_2_p_plus \n",
    "b += (mu_1_avg) * (sigma_2_theta_sqr)/sigma_1_theta_sqr\n",
    "b -= sigma_2_theta_sqr/delta * c_alpha\n",
    "\n",
    "b = b / (np.sqrt(2) * sigma_2)\n",
    "\n",
    "a = - (sigma_2_theta_sqr/sigma_1_theta_sqr)*1/(np.sqrt(2) * sigma_2)\n",
    "(a*mu_1_p_plus + b)/(np.sqrt(1 + 2 * a**2 * sigma_1**2))"
   ]
  },
  {
   "cell_type": "code",
   "execution_count": 39,
   "id": "affected-winter",
   "metadata": {},
   "outputs": [
    {
     "data": {
      "text/plain": [
       "-1.0590972600198976"
      ]
     },
     "execution_count": 39,
     "metadata": {},
     "output_type": "execute_result"
    }
   ],
   "source": [
    "numerator = sigma_1_theta_sqr * 0 * (-delta / 2) \n",
    "numerator += sigma_2_theta_sqr * 1 * (-delta / 2) \n",
    "numerator -= sigma_1_theta_sqr * sigma_2_theta_sqr * c_alpha / delta\n",
    "\n",
    "denominator = sigma_1_theta_sqr ** 2 * sigma_2 ** 2\n",
    "denominator += sigma_2_theta_sqr ** 2 * sigma_1 ** 2\n",
    "denominator = np.sqrt(2 * denominator)\n",
    "numerator / denominator"
   ]
  },
  {
   "cell_type": "markdown",
   "id": "turkish-april",
   "metadata": {},
   "source": [
    "Equation inside erf for $P(\\hat{y}^+| y^+, u)$"
   ]
  },
  {
   "cell_type": "code",
   "execution_count": 40,
   "id": "falling-advancement",
   "metadata": {},
   "outputs": [
    {
     "data": {
      "text/plain": [
       "-0.14050199082021922"
      ]
     },
     "execution_count": 40,
     "metadata": {},
     "output_type": "execute_result"
    }
   ],
   "source": [
    "numerator = sigma_1_theta_sqr * 1 * (-delta / 2) \n",
    "numerator += sigma_2_theta_sqr * 0 * (-delta / 2) \n",
    "numerator -= sigma_1_theta_sqr * sigma_2_theta_sqr * c_alpha / delta\n",
    "\n",
    "denominator = sigma_1_theta_sqr ** 2 * sigma_2 ** 2\n",
    "denominator += sigma_2_theta_sqr ** 2 * sigma_1 ** 2\n",
    "denominator = np.sqrt(2 * denominator)\n",
    "numerator / denominator"
   ]
  },
  {
   "cell_type": "markdown",
   "id": "spectacular-lottery",
   "metadata": {},
   "source": [
    "Equation inside erf for $P(\\hat{y}^+| y^-, p)$"
   ]
  },
  {
   "cell_type": "code",
   "execution_count": 41,
   "id": "olive-fifty",
   "metadata": {},
   "outputs": [
    {
     "data": {
      "text/plain": [
       "1.674817231645812"
      ]
     },
     "execution_count": 41,
     "metadata": {},
     "output_type": "execute_result"
    }
   ],
   "source": [
    "numerator = sigma_1_theta_sqr * 0 * (delta / 2) \n",
    "numerator += sigma_2_theta_sqr * 1 * (delta / 2) \n",
    "numerator -= sigma_1_theta_sqr * sigma_2_theta_sqr * c_alpha / delta\n",
    "\n",
    "denominator = sigma_1_theta_sqr ** 2 * sigma_2 ** 2\n",
    "denominator += sigma_2_theta_sqr ** 2 * sigma_1 ** 2\n",
    "denominator = np.sqrt(2 * denominator)\n",
    "numerator / denominator"
   ]
  },
  {
   "cell_type": "markdown",
   "id": "operating-enclosure",
   "metadata": {},
   "source": [
    "Equation inside erf for $P(\\hat{y}^+| y^-, p)$"
   ]
  },
  {
   "cell_type": "code",
   "execution_count": 42,
   "id": "democratic-atlas",
   "metadata": {},
   "outputs": [
    {
     "data": {
      "text/plain": [
       "0.7562219624461336"
      ]
     },
     "execution_count": 42,
     "metadata": {},
     "output_type": "execute_result"
    }
   ],
   "source": [
    "numerator = sigma_1_theta_sqr * 1 * (delta / 2) \n",
    "numerator += sigma_2_theta_sqr * 0 * (delta / 2) \n",
    "numerator -= sigma_1_theta_sqr * sigma_2_theta_sqr * c_alpha / delta\n",
    "\n",
    "denominator = sigma_1_theta_sqr ** 2 * sigma_2 ** 2\n",
    "denominator += sigma_2_theta_sqr ** 2 * sigma_1 ** 2\n",
    "denominator = np.sqrt(2 * denominator)\n",
    "numerator / denominator"
   ]
  },
  {
   "cell_type": "markdown",
   "id": "weird-regard",
   "metadata": {},
   "source": [
    "###### Experiment with r and $\\Delta$"
   ]
  },
  {
   "cell_type": "code",
   "execution_count": 43,
   "id": "compressed-carpet",
   "metadata": {},
   "outputs": [],
   "source": [
    "def h(sigma_1, delta, r, alpha):\n",
    "    tp_priv = get_selection_rate(sigma_1, delta, r, alpha, True, True)\n",
    "    fp_priv = get_selection_rate(sigma_1, delta, r, alpha, True, False)\n",
    "    tp_unpriv = get_selection_rate(sigma_1, delta, r, alpha, False, True)\n",
    "    fp_unpriv = get_selection_rate(sigma_1, delta, r, alpha, False, False)\n",
    "    \n",
    "    return alpha * (tp_priv - tp_unpriv) + (1-alpha) * (fp_priv - fp_unpriv)"
   ]
  },
  {
   "cell_type": "code",
   "execution_count": 44,
   "id": "occupational-shipping",
   "metadata": {
    "scrolled": true
   },
   "outputs": [
    {
     "ename": "TypeError",
     "evalue": "'float' object is not subscriptable",
     "output_type": "error",
     "traceback": [
      "\u001B[1;31m---------------------------------------------------------------------------\u001B[0m",
      "\u001B[1;31mTypeError\u001B[0m                                 Traceback (most recent call last)",
      "\u001B[1;32m<ipython-input-44-51871e9c39b1>\u001B[0m in \u001B[0;36m<module>\u001B[1;34m\u001B[0m\n\u001B[0;32m      3\u001B[0m \u001B[0mr\u001B[0m \u001B[1;33m=\u001B[0m \u001B[1;36m2.5\u001B[0m\u001B[1;33m\u001B[0m\u001B[1;33m\u001B[0m\u001B[0m\n\u001B[0;32m      4\u001B[0m \u001B[0malpha\u001B[0m \u001B[1;33m=\u001B[0m \u001B[1;36m0.25\u001B[0m\u001B[1;33m\u001B[0m\u001B[1;33m\u001B[0m\u001B[0m\n\u001B[1;32m----> 5\u001B[1;33m \u001B[0mprint\u001B[0m\u001B[1;33m(\u001B[0m\u001B[1;34m'priv_tp'\u001B[0m\u001B[1;33m,\u001B[0m \u001B[0mget_selection_rate\u001B[0m\u001B[1;33m(\u001B[0m\u001B[0msigma_1\u001B[0m\u001B[1;33m,\u001B[0m \u001B[0mdelta\u001B[0m\u001B[1;33m,\u001B[0m \u001B[0mr\u001B[0m\u001B[1;33m,\u001B[0m \u001B[0malpha\u001B[0m\u001B[1;33m,\u001B[0m \u001B[1;32mTrue\u001B[0m\u001B[1;33m,\u001B[0m \u001B[1;32mTrue\u001B[0m\u001B[1;33m)\u001B[0m\u001B[1;33m)\u001B[0m\u001B[1;33m\u001B[0m\u001B[1;33m\u001B[0m\u001B[0m\n\u001B[0m\u001B[0;32m      6\u001B[0m \u001B[0mprint\u001B[0m\u001B[1;33m(\u001B[0m\u001B[1;34m'priv_fp'\u001B[0m\u001B[1;33m,\u001B[0m \u001B[0mget_selection_rate\u001B[0m\u001B[1;33m(\u001B[0m\u001B[0msigma_1\u001B[0m\u001B[1;33m,\u001B[0m \u001B[0mdelta\u001B[0m\u001B[1;33m,\u001B[0m \u001B[0mr\u001B[0m\u001B[1;33m,\u001B[0m \u001B[0malpha\u001B[0m\u001B[1;33m,\u001B[0m \u001B[1;32mTrue\u001B[0m\u001B[1;33m,\u001B[0m \u001B[1;32mFalse\u001B[0m\u001B[1;33m)\u001B[0m\u001B[1;33m)\u001B[0m\u001B[1;33m\u001B[0m\u001B[1;33m\u001B[0m\u001B[0m\n\u001B[0;32m      7\u001B[0m \u001B[0mprint\u001B[0m\u001B[1;33m(\u001B[0m\u001B[1;34m'unpriv_tp'\u001B[0m\u001B[1;33m,\u001B[0m \u001B[0mget_selection_rate\u001B[0m\u001B[1;33m(\u001B[0m\u001B[0msigma_1\u001B[0m\u001B[1;33m,\u001B[0m \u001B[0mdelta\u001B[0m\u001B[1;33m,\u001B[0m \u001B[0mr\u001B[0m\u001B[1;33m,\u001B[0m \u001B[0malpha\u001B[0m\u001B[1;33m,\u001B[0m \u001B[1;32mFalse\u001B[0m\u001B[1;33m,\u001B[0m \u001B[1;32mTrue\u001B[0m\u001B[1;33m)\u001B[0m\u001B[1;33m)\u001B[0m\u001B[1;33m\u001B[0m\u001B[1;33m\u001B[0m\u001B[0m\n",
      "\u001B[1;32m<ipython-input-22-3d967cb4ba1d>\u001B[0m in \u001B[0;36mget_selection_rate\u001B[1;34m(s, is_pos, dist, dist_theta, delta, alpha)\u001B[0m\n\u001B[0;32m     15\u001B[0m             \u001B[0mmu_2\u001B[0m \u001B[1;33m=\u001B[0m \u001B[0mdist_theta\u001B[0m\u001B[1;33m[\u001B[0m\u001B[1;34m'mu'\u001B[0m\u001B[1;33m]\u001B[0m\u001B[1;33m[\u001B[0m\u001B[1;36m2\u001B[0m\u001B[1;33m]\u001B[0m\u001B[1;33m\u001B[0m\u001B[1;33m\u001B[0m\u001B[0m\n\u001B[0;32m     16\u001B[0m         \u001B[1;32melse\u001B[0m\u001B[1;33m:\u001B[0m\u001B[1;33m\u001B[0m\u001B[1;33m\u001B[0m\u001B[0m\n\u001B[1;32m---> 17\u001B[1;33m             \u001B[0mmu_1\u001B[0m \u001B[1;33m=\u001B[0m \u001B[0mdist_theta\u001B[0m\u001B[1;33m[\u001B[0m\u001B[1;34m'mu'\u001B[0m\u001B[1;33m]\u001B[0m\u001B[1;33m[\u001B[0m\u001B[1;36m1\u001B[0m\u001B[1;33m]\u001B[0m\u001B[1;33m\u001B[0m\u001B[1;33m\u001B[0m\u001B[0m\n\u001B[0m\u001B[0;32m     18\u001B[0m             \u001B[0mmu_2\u001B[0m \u001B[1;33m=\u001B[0m \u001B[0mdist\u001B[0m\u001B[1;33m[\u001B[0m\u001B[1;34m'mu_ps'\u001B[0m\u001B[1;33m]\u001B[0m\u001B[1;33m[\u001B[0m\u001B[1;34m'u'\u001B[0m\u001B[1;33m]\u001B[0m\u001B[1;33m\u001B[0m\u001B[1;33m\u001B[0m\u001B[0m\n\u001B[0;32m     19\u001B[0m     \u001B[1;32melse\u001B[0m\u001B[1;33m:\u001B[0m\u001B[1;33m\u001B[0m\u001B[1;33m\u001B[0m\u001B[0m\n",
      "\u001B[1;31mTypeError\u001B[0m: 'float' object is not subscriptable"
     ]
    }
   ],
   "source": [
    "sigma_1 = 2\n",
    "delta = 10\n",
    "r = 2.5\n",
    "alpha = 0.25\n",
    "print('priv_tp', get_selection_rate(sigma_1, delta, r, alpha, True, True))\n",
    "print('priv_fp', get_selection_rate(sigma_1, delta, r, alpha, True, False))\n",
    "print('unpriv_tp', get_selection_rate(sigma_1, delta, r, alpha, False, True))\n",
    "print('unpriv_fp', get_selection_rate(sigma_1, delta, r, alpha, False, False))\n",
    "h(sigma_1, delta, r, alpha)"
   ]
  },
  {
   "cell_type": "code",
   "execution_count": null,
   "id": "accomplished-shakespeare",
   "metadata": {},
   "outputs": [],
   "source": [
    "priv_tp 0.8559751887806584\n",
    "priv_fp 0.0025242009584636182\n",
    "unpriv_tp 0.4064525467662099\n",
    "unpriv_fp 0.06618272136578918\n",
    "0.06463677019811795"
   ]
  },
  {
   "cell_type": "markdown",
   "id": "material-control",
   "metadata": {},
   "source": [
    "{'mu_ps': {'p': 103, 'u': 100}, 'sigma_ps': {'p': 40, 'u': 100}, 'mu_ns': {'p': 3, 'u': 0}, 'sigma_ns': {'p': 40, 'u': 100}}\n",
    "alpha 0.1\n",
    "mod\n",
    "{'TP': 86.0, 'FP': 41.0, 'TN': 8959.0, 'FN': 914.0}\n",
    "SR\t 0.0127\n",
    "PSR\t 0.0136\n",
    "PTPR\t 0.132\n",
    "PFPR\t 0.00044444444444444447\n",
    "USR\t 0.0118\n",
    "UTPR\t 0.04\n",
    "UFPR\t 0.008666666666666666\n",
    "alpha 0.25\n",
    "mod\n",
    "{'TP': 901.0, 'FP': 446.0, 'TN': 7054.0, 'FN': 1599.0}\n",
    "SR\t 0.1347\n",
    "PSR\t 0.1386\n",
    "PTPR\t 0.508\n",
    "PFPR\t 0.015466666666666667\n",
    "USR\t 0.1308\n",
    "UTPR\t 0.2128\n",
    "UFPR\t 0.10346666666666667\n",
    "alpha 0.5\n",
    "mod\n",
    "{'TP': 3611.0, 'FP': 1370.0, 'TN': 3630.0, 'FN': 1389.0}\n",
    "SR\t 0.4981\n",
    "PSR\t 0.4994\n",
    "PTPR\t 0.8596\n",
    "PFPR\t 0.1392\n",
    "USR\t 0.4968\n",
    "UTPR\t 0.5848\n",
    "UFPR\t 0.4088\n",
    "alpha 0.75\n",
    "mod\n",
    "{'TP': 7115.0, 'FP': 1639.0, 'TN': 861.0, 'FN': 385.0}\n",
    "SR\t 0.8754\n",
    "PSR\t 0.8618\n",
    "PTPR\t 0.9845333333333334\n",
    "PFPR\t 0.4936\n",
    "USR\t 0.889\n",
    "UTPR\t 0.9128\n",
    "UFPR\t 0.8176\n",
    "alpha 0.9\n",
    "mod\n",
    "{'TP': 8964.0, 'FP': 918.0, 'TN': 82.0, 'FN': 36.0}\n",
    "SR\t 0.9882\n",
    "PSR\t 0.9862\n",
    "PTPR\t 0.9995555555555555\n",
    "PFPR\t 0.866\n",
    "USR\t 0.9902\n",
    "UTPR\t 0.9924444444444445\n",
    "UFPR\t 0.97"
   ]
  },
  {
   "cell_type": "code",
   "execution_count": null,
   "id": "killing-mixer",
   "metadata": {
    "scrolled": true
   },
   "outputs": [],
   "source": [
    "sigma_1 = 40\n",
    "delta = 100\n",
    "r = 2.5\n",
    "for alpha in [0.1, 0.25, 0.5, 0.75, 0.9]:\n",
    "    priv = True\n",
    "    tp = get_selection_rate(sigma_1, delta, r, alpha, priv, True)\n",
    "    fp = get_selection_rate(sigma_1, delta, r, alpha, priv, False)\n",
    "    psr = alpha * tp + (1-alpha) * fp\n",
    "    priv = False\n",
    "    tp = get_selection_rate(sigma_1, delta, r, alpha, priv, True)\n",
    "    fp = get_selection_rate(sigma_1, delta, r, alpha, priv, False)\n",
    "    usr = alpha * tp + (1-alpha) * fp\n",
    "    # print(psr, usr, psr - usr)\n",
    "    # print(tp, fp)"
   ]
  },
  {
   "cell_type": "code",
   "execution_count": null,
   "id": "spoken-prior",
   "metadata": {},
   "outputs": [],
   "source": [
    "sigma_1 = 2\n",
    "delta = 10\n",
    "alpha = 0.25\n",
    "\n",
    "for r in [1, 1.25, 2.5, 5, 10, 20, 40]:\n",
    "    priv = True\n",
    "    tp = get_selection_rate(sigma_1, delta, r, alpha, priv, True)\n",
    "    fp = get_selection_rate(sigma_1, delta, r, alpha, priv, False)\n",
    "    psr = alpha * tp + (1-alpha) * fp\n",
    "    priv = False\n",
    "    tp = get_selection_rate(sigma_1, delta, r, alpha, priv, True)\n",
    "    fp = get_selection_rate(sigma_1, delta, r, alpha, priv, False)\n",
    "    usr = alpha * tp + (1-alpha) * fp\n",
    "    # print(psr, usr, psr - usr)\n",
    "    # print(tp, fp)"
   ]
  },
  {
   "cell_type": "code",
   "execution_count": null,
   "id": "incomplete-american",
   "metadata": {},
   "outputs": [],
   "source": [
    "sigma_1 = 20\n",
    "delta = 100\n",
    "alpha = 0.25\n",
    "r = 2.5\n",
    "for delta in [10, 20, 30, 40, 50]:\n",
    "    priv = True\n",
    "    tp = get_selection_rate(sigma_1, delta, r, alpha, priv, True)\n",
    "    fp = get_selection_rate(sigma_1, delta, r, alpha, priv, False)\n",
    "    psr = alpha * tp + (1-alpha) * fp\n",
    "    priv = False\n",
    "    tp = get_selection_rate(sigma_1, delta, r, alpha, priv, True)\n",
    "    fp = get_selection_rate(sigma_1, delta, r, alpha, priv, False)\n",
    "    usr = alpha * tp + (1-alpha) * fp\n",
    "    # print(psr, usr, psr - usr)\n",
    "    # print(tp, fp)\n",
    "    \n",
    "print()\n",
    "alpha = 0.75\n",
    "for delta in [10, 20, 30, 40, 50]:\n",
    "    priv = True\n",
    "    tp = get_selection_rate(sigma_1, delta, r, alpha, priv, True)\n",
    "    fp = get_selection_rate(sigma_1, delta, r, alpha, priv, False)\n",
    "    psr = alpha * tp + (1-alpha) * fp\n",
    "    priv = False\n",
    "    tp = get_selection_rate(sigma_1, delta, r, alpha, priv, True)\n",
    "    fp = get_selection_rate(sigma_1, delta, r, alpha, priv, False)\n",
    "    usr = alpha * tp + (1-alpha) * fp\n",
    "    # print(psr, usr, psr - usr)\n",
    "    # print(tp, fp)"
   ]
  },
  {
   "cell_type": "code",
   "execution_count": null,
   "id": "distributed-translator",
   "metadata": {},
   "outputs": [],
   "source": [
    "sigma_1 = 20\n",
    "delta = 100\n",
    "alpha = 0.25\n",
    "r = 2.5\n",
    "for sigma_1 in [40, 60, 80, 100, 120, 200, 300]:\n",
    "    priv = True\n",
    "    tp = get_selection_rate(sigma_1, delta, r, alpha, priv, True)\n",
    "    fp = get_selection_rate(sigma_1, delta, r, alpha, priv, False)\n",
    "    psr = alpha * tp + (1-alpha) * fp\n",
    "    priv = False\n",
    "    tp = get_selection_rate(sigma_1, delta, r, alpha, priv, True)\n",
    "    fp = get_selection_rate(sigma_1, delta, r, alpha, priv, False)\n",
    "    usr = alpha * tp + (1-alpha) * fp\n",
    "    #print(psr, usr, psr - usr)\n",
    "    # print(tp, fp)\n",
    "    \n",
    "#print()\n",
    "alpha = 0.75\n",
    "for sigma_1 in [40, 60, 80, 100, 120, 200, 300]:\n",
    "    priv = True\n",
    "    tp = get_selection_rate(sigma_1, delta, r, alpha, priv, True)\n",
    "    fp = get_selection_rate(sigma_1, delta, r, alpha, priv, False)\n",
    "    psr = alpha * tp + (1-alpha) * fp\n",
    "    priv = False\n",
    "    tp = get_selection_rate(sigma_1, delta, r, alpha, priv, True)\n",
    "    fp = get_selection_rate(sigma_1, delta, r, alpha, priv, False)\n",
    "    usr = alpha * tp + (1-alpha) * fp\n",
    "    #print(psr, usr, psr - usr)\n",
    "    # print(tp, fp)"
   ]
  },
  {
   "cell_type": "code",
   "execution_count": null,
   "id": "typical-authority",
   "metadata": {},
   "outputs": [],
   "source": [
    "sigma_1 = 20\n",
    "delta = 100\n",
    "alpha = 0.25\n",
    "r = 2.5\n",
    "hs = []\n",
    "for sigma_1 in [20, 40, 60, 80, 100, 120, 200, 300]:\n",
    "    for delta in [10, 20, 30, 40, 50, 100]:\n",
    "        for r in [1, 1.5, 2, 2.5, 5, 10, 20]:\n",
    "            #print(sigma_1, delta, r, r*sigma_1)\n",
    "            new_hs = []\n",
    "            for alpha in [0.1, 0.25, 0.5, 0.75, 0.9]:\n",
    "                priv = True\n",
    "                tp = get_selection_rate(sigma_1, delta, r, alpha, priv, True)\n",
    "                fp = get_selection_rate(sigma_1, delta, r, alpha, priv, False)\n",
    "                psr = alpha * tp + (1-alpha) * fp\n",
    "                priv = False\n",
    "                tp = get_selection_rate(sigma_1, delta, r, alpha, priv, True)\n",
    "                fp = get_selection_rate(sigma_1, delta, r, alpha, priv, False)\n",
    "                usr = alpha * tp + (1-alpha) * fp\n",
    "                new_hs.append(psr - usr)\n",
    "            hs.append(new_hs)\n",
    "            #print(new_hs)"
   ]
  },
  {
   "cell_type": "markdown",
   "id": "nonprofit-sport",
   "metadata": {},
   "source": [
    "##### Plot erf function"
   ]
  },
  {
   "cell_type": "code",
   "execution_count": null,
   "id": "caroline-hometown",
   "metadata": {},
   "outputs": [],
   "source": [
    "# (1, 3, 1.25)\n",
    "sigma_1 = 2\n",
    "delta = 10\n",
    "r = 2.5\n",
    "alpha = 0.25\n",
    "\n",
    "erfs = []\n",
    "start = - 250\n",
    "end = 250\n",
    "for i in range(start, end + 1):\n",
    "    erfs.append(erf(i/100))\n",
    "    \n",
    "plt.plot([i/100 for i in range(start, end + 1)], erfs, color='black')\n",
    "\n",
    "calpha = np.log(alpha/(1-alpha))\n",
    "c1, c2, c3 = get_c123(sigma_1, r * sigma_1, delta)\n",
    "print(calpha, c1, c2, c3)\n",
    "points = [c1, c3, c1+c2*calpha, c3+c2*calpha, c3-c2*calpha, c1-c2*calpha]\n",
    "print(points)\n",
    "plt.plot(points, [erf(p) for p in points], 'o', color='black')\n",
    "\n",
    "texts = [r'$c_1$', r'$c_3$', r'$c_1+c_2*c_\\alpha$', r'$c_3+c_2*c_\\alpha$', r'$c_3 - c_2*c_\\alpha$', r'$c_1 - c_2*c_\\alpha$']\n",
    "\n",
    "ax = plt.gca()\n",
    "    \n",
    "fontsize = 18.33\n",
    "    \n",
    "ax.annotate(texts[0], (points[0] - 0.3, erf(points[0]) + 0.1), fontsize=fontsize)\n",
    "ax.annotate(texts[1], (points[1] - 0.3, erf(points[1]) + 0.1), fontsize=fontsize)\n",
    "ax.annotate(texts[2], (points[2] - 1.5, erf(points[2]) + 0.1), fontsize=fontsize)\n",
    "ax.annotate(texts[3], (points[3] - 1.5, erf(points[3]) + 0.1), fontsize=fontsize)\n",
    "ax.annotate(texts[4], (points[4] , erf(points[4]) - 1.1), fontsize=fontsize, rotation=90)\n",
    "ax.annotate(texts[5], (points[5] , erf(points[5]) - 1.1), fontsize=fontsize, rotation=90)\n",
    "\n",
    "plt.ylim(-1.1, 1.3)\n",
    "plt.xlim(-2.5, 2.5)\n",
    "plt.axvline(0, color='black')\n",
    "plt.axhline(0, color='black')\n",
    "plt.xlabel('x')\n",
    "plt.ylabel('erf(x)')\n",
    "plt.tight_layout()\n",
    "\n",
    "cdiff = c1 - c3\n",
    "mid_points = [(c1+c3)/2, (c1+c3)/2 + c2*calpha, (c1+c3)/2 - c2*calpha]\n",
    "mid_texts = [r'$\\dfrac{c_1 + c_3}{2}$', \n",
    "             r'$\\dfrac{c_1 + c_3}{2} + c_2 c_{\\alpha}$', \n",
    "             r'$\\dfrac{c_1 + c_3}{2} - c_2 c_{\\alpha}$']\n",
    "plt.plot(mid_points, [erf(i) for i in mid_points], 'o', color='black')\n",
    "\n",
    "ax = plt.gca()\n",
    "for i, p in enumerate(mid_points[:-1]):\n",
    "    # ax.annotate(mid_texts[i], (p, erf(p) + 0.2))\n",
    "    pass\n",
    "\n",
    "plt.plot([c1+c2*calpha, c3+c2*calpha], [erf(i) for i in [c1+c2*calpha, c3+c2*calpha]], color='black')\n",
    "plt.plot([c1+c2*calpha, c1+c2*calpha], [erf(c1+c2*calpha), erf(c3+c2*calpha)], color='black')\n",
    "plt.plot([c3+c2*calpha, c1+c2*calpha], [erf(c3+c2*calpha), erf(c3+c2*calpha)], color='black')\n",
    "\n",
    "plt.plot([c1-c2*calpha, c3-c2*calpha], [erf(c1-c2*calpha), erf(c3-c2*calpha)], color='black')\n",
    "plt.plot([c1-c2*calpha, c1-c2*calpha], [erf(c1-c2*calpha), erf(c3-c2*calpha)], color='black')\n",
    "plt.plot([c3-c2*calpha, c1-c2*calpha], [erf(c3-c2*calpha), erf(c3-c2*calpha)], color='black')\n",
    "\n",
    "plt.savefig('erf_plot.pdf', format='pdf')"
   ]
  },
  {
   "cell_type": "code",
   "execution_count": null,
   "id": "direct-austin",
   "metadata": {},
   "outputs": [],
   "source": [
    "sigma_1 = 1000\n",
    "sigma_2 = 2500\n",
    " \n",
    "c2s = {}\n",
    "for delta in range(5, 10000, 5):\n",
    "    _, c2, _ = get_c123(sigma_1, sigma_2, delta/10)\n",
    "    c2s[delta/10] = 2*c2\n",
    "    \n",
    "print(min(c2s.values()))\n",
    "plt.plot(c2s.keys(), c2s.values())\n",
    "plt.hlines(1, -5, 150)"
   ]
  }
 ],
 "metadata": {
  "kernelspec": {
   "display_name": "Python 3",
   "language": "python",
   "name": "python3"
  },
  "language_info": {
   "codemirror_mode": {
    "name": "ipython",
    "version": 3
   },
   "file_extension": ".py",
   "mimetype": "text/x-python",
   "name": "python",
   "nbconvert_exporter": "python",
   "pygments_lexer": "ipython3",
   "version": "3.8.0"
  }
 },
 "nbformat": 4,
 "nbformat_minor": 5
}