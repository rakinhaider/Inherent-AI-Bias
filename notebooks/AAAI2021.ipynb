{
 "cells": [
  {
   "cell_type": "code",
   "execution_count": 1,
   "id": "faced-sucking",
   "metadata": {},
   "outputs": [],
   "source": [
    "import sys\n",
    "sys.path.insert(1, \"../\")\n",
    "\n",
    "import importlib\n",
    "import matplotlib.pyplot as plt\n",
    "import matplotlib\n",
    "%matplotlib inline\n",
    "import numpy as np\n",
    "from sklearn.linear_model import LogisticRegression \n",
    "from sklearn.tree import DecisionTreeClassifier\n",
    "from sklearn.naive_bayes import GaussianNB\n",
    "from sklearn.svm import SVC\n",
    "from scipy.special import erf\n",
    "import math"
   ]
  },
  {
   "cell_type": "code",
   "execution_count": 2,
   "id": "constant-commerce",
   "metadata": {},
   "outputs": [],
   "source": [
    "def reload_modules():\n",
    "    import inherent_bias\n",
    "    importlib.reload(inherent_bias.fair_dataset)\n",
    "    importlib.reload(inherent_bias.ds_fair_dataset)\n",
    "    importlib.reload(inherent_bias.utils)\n",
    "    \n",
    "reload_modules()\n",
    "\n",
    "from inherent_bias.fair_dataset import FairDataset, default_mappings\n",
    "\n",
    "from inherent_bias.utils import *"
   ]
  },
  {
   "cell_type": "code",
   "execution_count": 3,
   "id": "equipped-limitation",
   "metadata": {},
   "outputs": [],
   "source": [
    "protected = [\"sex\"]\n",
    "privileged_classes = [['Male']]\n",
    "metadata = default_mappings.copy()\n",
    "metadata['protected_attribute_maps'] = [{1.0: 'Male', 0.0: 'Female'}]\n",
    "\n",
    "alpha = 0.5\n",
    "beta = 1\n",
    "\n",
    "kwargs = {'protected_attribute_names': protected,\n",
    "          'privileged_classes': [['Male']],\n",
    "          'metadata':metadata,\n",
    "          'favorable_classes': [1],\n",
    "          'beta': beta,\n",
    "          'alpha': alpha,\n",
    "          'ds': True,\n",
    "          'n_dep_feat': 0\n",
    "         }\n",
    "\n",
    "random_state = 23\n",
    "model_type = GaussianNB"
   ]
  },
  {
   "cell_type": "code",
   "execution_count": 4,
   "id": "empirical-hazard",
   "metadata": {},
   "outputs": [],
   "source": [
    "def print_model_performances(model, test_fd):\n",
    "    test_fd_x, test_fd_y = test_fd.get_xy(keep_protected=False)\n",
    "    data = test_fd.copy()\n",
    "    data_pred = test_fd.copy()\n",
    "\n",
    "    data_pred.labels = mod_pred = model.predict(test_fd_x)\n",
    "    metrics = ClassificationMetric(data,\n",
    "                                   data_pred,\n",
    "                                   privileged_groups=test_fd.privileged_groups,\n",
    "                                   unprivileged_groups=test_fd.unprivileged_groups)\n",
    "\n",
    "    # print(metrics.binary_confusion_matrix())\n",
    "    print('SR\\t', metrics.selection_rate())\n",
    "\n",
    "    # print('PCNFM\\t', metrics.binary_confusion_matrix(privileged=True))\n",
    "    print('PSR\\t', metrics.selection_rate(privileged=True))\n",
    "    print('PTPR\\t', metrics.true_positive_rate(privileged=True))\n",
    "    print('PFPR\\t', metrics.false_positive_rate(privileged=True))\n",
    "    # print('PFDR\\t', metrics.false_discovery_rate(privileged=True))\n",
    "    # print('UCNFM\\t', metrics.binary_confusion_matrix(privileged=False))\n",
    "    print('USR\\t', metrics.selection_rate(privileged=False))\n",
    "    print('UTPR\\t', metrics.true_positive_rate(privileged=False))\n",
    "    print('UFPR\\t', metrics.false_positive_rate(privileged=False))\n",
    "    # print('UFDR\\t', metrics.false_discovery_rate(privileged=False))\n",
    "    return metrics, mod_pred"
   ]
  },
  {
   "cell_type": "code",
   "execution_count": 5,
   "id": "continuing-catalog",
   "metadata": {},
   "outputs": [],
   "source": [
    "def get_theoretical_model(mod, dist):\n",
    "    \n",
    "    mu_1_avg = (dist['mu_ps']['p'] + dist['mu_ns']['p'])/2\n",
    "    mu_1_pos = (dist['mu_ps']['p'] + mu_1_avg)/2\n",
    "    mu_1_neg = (dist['mu_ns']['p'] + mu_1_avg)/2\n",
    "    \n",
    "    mu_2_avg = (dist['mu_ps']['u'] + dist['mu_ns']['u'])/2\n",
    "    mu_2_pos = (dist['mu_ps']['u'] + mu_2_avg)/2\n",
    "    mu_2_neg = (dist['mu_ns']['u'] + mu_2_avg)/2\n",
    "    \n",
    "    mod.theta_ = np.array([[mu_1_neg, mu_2_neg],\n",
    "                           [mu_1_pos, mu_2_pos]])\n",
    "    \n",
    "    sigma_1 = dist['sigma_ps']['p'] ** 2 + (dist['mu_ps']['p'] - mu_1_avg)**2/4\n",
    "    sigma_2 = dist['sigma_ps']['u'] ** 2 + (dist['mu_ps']['u'] - mu_2_avg)**2/4\n",
    "    mod.sigma_ = np.array([[sigma_1, sigma_2],\n",
    "                           [sigma_1, sigma_2]])\n",
    "    \n",
    "    print(mod.theta_)\n",
    "    print(mod.sigma_)\n",
    "    \n",
    "    return mod"
   ]
  },
  {
   "cell_type": "code",
   "execution_count": 11,
   "id": "eastern-confidentiality",
   "metadata": {},
   "outputs": [
    {
     "name": "stdout",
     "output_type": "stream",
     "text": [
      "{'mu_ps': {'p': 13, 'u': 10}, 'sigma_ps': {'p': 2, 'u': 5}, 'mu_ns': {'p': 3, 'u': 0}, 'sigma_ns': {'p': 2, 'u': 5}}\n",
      "alpha 0.25\n",
      "Theta\n",
      "[[ 2.99848605  5.00785886  7.03688148  6.07050521]\n",
      " [13.03495627  4.88639091  6.95665784  6.20269121]]\n",
      "[[8.02208707e+00 6.49338239e-04 6.98740585e+00 5.98959239e+00]\n",
      " [8.00910235e+00 1.00611040e+01 6.86687452e+00 6.22745884e+00]]\n",
      "[[ 5.51028656  2.5042541   7.01214367  6.0300488 ]\n",
      " [10.52202931  7.47374744  6.91176618  6.21507503]]\n",
      "Sigma\n",
      "[[ 4.03604168 25.42786292 63.42147423 82.05758957]\n",
      " [ 3.94967606 25.14512448 63.09444536 81.85926483]]\n",
      "[[ 3.90761928 25.25547585 63.88365466 82.46069938]\n",
      " [ 3.95555726 23.51650903 60.26376812 78.82075598]]\n",
      "[[10.28097227 31.60970618 63.6531764  82.26078119]\n",
      " [10.26741856 31.02523057 61.681122   80.34016377]]\n",
      "[0.75 0.25]\n",
      "pmod_results\t0.1588\t1.6393\t0.6393\t0.7700\t0.9956\t0.5444\n",
      "umod_results\t-0.0916\t0.6999\t0.3001\t0.7400\t0.6028\t0.8772\n",
      "mod_results\t-0.0660\t0.6872\t0.3128\t0.8778\t0.9566\t0.7990\n",
      "mod\n",
      "SR\t 0.178\n",
      "PSR\t 0.211\n",
      "PTPR\t 0.8352\n",
      "PFPR\t 0.0029333333333333334\n",
      "USR\t 0.145\n",
      "UTPR\t 0.388\n",
      "UFPR\t 0.064\n",
      "alpha 0.5\n",
      "Theta\n",
      "[[ 3.03340146  5.00045705  7.05499108  6.10530766]\n",
      " [12.99475632  5.04275869  6.92429395  5.94586254]]\n",
      "[[ 7.98430415  0.05814669  7.10579418  5.91474884]\n",
      " [ 8.00863252 10.04192992  7.10560316  5.92737333]]\n",
      "[[ 5.5088528   2.52930187  7.08039263  6.01002825]\n",
      " [10.50169442  7.54234431  7.01494856  5.93661794]]\n",
      "Sigma\n",
      "[[ 4.01037168 24.74422594 64.73871778 81.37697894]\n",
      " [ 3.98806406 24.96061519 63.33869854 84.76870486]]\n",
      "[[ 4.02094011 24.26723535 62.79834414 84.04102646]\n",
      " [ 3.83119111 24.11973838 64.84758449 80.7214557 ]]\n",
      "[[10.14351526 30.61233857 63.7691762  82.71808087]\n",
      " [10.12498522 30.78810504 64.10135978 82.74516574]]\n",
      "[0.5 0.5]\n",
      "pmod_results\t-0.0070\t0.9860\t0.0140\t0.7461\t0.9938\t0.4984\n",
      "umod_results\t0.0426\t1.0931\t0.0931\t0.6829\t0.5170\t0.8488\n",
      "mod_results\t-0.0068\t0.9864\t0.0136\t0.8572\t0.9694\t0.7450\n",
      "mod\n",
      "SR\t 0.4964\n",
      "PSR\t 0.4998\n",
      "PTPR\t 0.9692\n",
      "PFPR\t 0.0304\n",
      "USR\t 0.493\n",
      "UTPR\t 0.738\n",
      "UFPR\t 0.248\n",
      "alpha 0.75\n",
      "Theta\n",
      "[[ 3.02729547  5.00050017  7.05067612  6.15360469]\n",
      " [12.99289236  5.00599122  7.00629363  6.05758085]]\n",
      "[[ 8.030951    0.05486524  6.94439854  5.89204932]\n",
      " [ 8.03444933 10.00021881  6.98789109  5.98789321]]\n",
      "[[ 5.52912323  2.52768271  6.99753733  6.02282701]\n",
      " [10.51367085  7.50310502  6.99709236  6.02273703]]\n",
      "Sigma\n",
      "[[ 3.97288415 25.74430362 63.64575779 82.19763049]\n",
      " [ 3.97318396 24.92187124 66.65078854 79.7587603 ]]\n",
      "[[ 3.91439197 24.59600366 65.21899271 85.53823476]\n",
      " [ 3.99957333 23.93015004 63.89159797 79.66523194]]\n",
      "[[10.20278021 31.28497987 64.43519898 83.88503543]\n",
      " [10.13291797 30.66158793 65.27127792 79.71321021]]\n",
      "[0.25 0.75]\n",
      "pmod_results\t-0.1702\t0.7729\t0.2271\t0.7687\t0.9954\t0.5420\n",
      "umod_results\t0.0672\t1.0942\t0.0942\t0.7432\t0.6072\t0.8792\n",
      "mod_results\t0.0622\t1.0797\t0.0797\t0.8821\t0.9666\t0.7976\n",
      "mod\n",
      "SR\t 0.8113\n",
      "PSR\t 0.7802\n",
      "PTPR\t 0.9978666666666667\n",
      "PFPR\t 0.1272\n",
      "USR\t 0.8424\n",
      "UTPR\t 0.9266666666666666\n",
      "UFPR\t 0.5896\n"
     ]
    }
   ],
   "source": [
    "from sklearn.tree import plot_tree as plot_tree\n",
    "dist = {\n",
    "    'mu_ps': {'p': 13, 'u': 10},\n",
    "    'sigma_ps': {'p': 2, 'u': 5},\n",
    "    'mu_ns': {'p': 3,'u': 0},\n",
    "    'sigma_ns': {'p': 2, 'u': 5}\n",
    "}\n",
    "\n",
    "results = {'p' : [], 'u': [], 'm': []}\n",
    "temp_dist = deepcopy(dist)\n",
    "kwargs['dist'] = temp_dist\n",
    "print(kwargs['dist'])   \n",
    "model_type = GaussianNB\n",
    "n_redline = 1\n",
    "n_feature = 2\n",
    "\n",
    "mods = []\n",
    "\n",
    "for alpha in [0.25, 0.5, 0.75]:\n",
    "    print('alpha', alpha)\n",
    "    kwargs['alpha'] = alpha\n",
    "    kwargs['shift_random'] = 0\n",
    "    kwargs['shift_priv'] = False\n",
    "    kwargs['verbose'] = False\n",
    "    train_fd, test_fd = get_datasets(10000, n_feature, n_redline, kwargs, \n",
    "                                     test_random_state=41)\n",
    "    pmod, pmod_results = get_groupwise_performance(train_fd, test_fd, model_type,\n",
    "                                                   privileged=True, pos_rate=False)\n",
    "    umod, umod_results = get_groupwise_performance(train_fd, test_fd, model_type,\n",
    "                                                   privileged=False, pos_rate=False)\n",
    "    mod, mod_results = get_groupwise_performance(train_fd, test_fd, model_type,\n",
    "                                                 privileged=None, pos_rate=False)\n",
    "    \n",
    "    mods.append(mod)\n",
    "    \n",
    "    # print(test_fd.privileged_groups)\n",
    "    \n",
    "    if True:\n",
    "        print('Theta')\n",
    "        print(pmod.theta_)\n",
    "        print(umod.theta_)\n",
    "        print(mod.theta_)\n",
    "\n",
    "        print('Sigma')\n",
    "        print(pmod.sigma_)\n",
    "        print(umod.sigma_)\n",
    "        print(mod.sigma_)\n",
    "        \n",
    "        print(mod.class_prior_)\n",
    "    \n",
    "    print('pmod_results', *['{:.4f}'.format(i) for i in pmod_results], sep='\\t')\n",
    "    print('umod_results', *['{:.4f}'.format(i) for i in umod_results], sep='\\t')\n",
    "    print('mod_results', *['{:.4f}'.format(i) for i in mod_results], sep='\\t')\n",
    "    print('mod')\n",
    "    _, mod_pred = print_model_performances(mod, test_fd)\n",
    "    \n",
    "    # print(np.unique(pmod_pred == mod_pred, return_counts=True))\n",
    "    # print(np.unique(umod_pred == mod_pred, return_counts=True))\n"
   ]
  },
  {
   "cell_type": "code",
   "execution_count": 7,
   "id": "victorian-compound",
   "metadata": {},
   "outputs": [
    {
     "name": "stdout",
     "output_type": "stream",
     "text": [
      "0 0\n",
      "(-3, 19) (-15, 25)\n",
      "(13, 3)\n",
      "(2, 2)\n",
      "(5.0, 5.0)\n",
      "(5, 5)\n",
      "(8.0, 8.0)\n",
      "(2, 2)\n",
      "(10, 0)\n",
      "(5, 5)\n"
     ]
    },
    {
     "data": {
      "image/png": "[encoded data removed]",
      "text/plain": [
       "<Figure size 432x288 with 4 Axes>"
      ]
     },
     "metadata": {
      "needs_background": "light"
     },
     "output_type": "display_data"
    }
   ],
   "source": [
    "import matplotlib.pyplot as plt\n",
    "import numpy as np\n",
    "import scipy.stats as stats\n",
    "\n",
    "def plot_normal(mu, sigma, ax, label=None):\n",
    "    x = np.linspace(mu - 3*sigma, mu + 3*sigma, 100)\n",
    "    ax.plot(x, stats.norm.pdf(x, mu, sigma), label=label)\n",
    "\n",
    "f, ax = plt.subplots(2, 2)\n",
    "shift_p = 0\n",
    "shift_u = 0\n",
    "if kwargs['shift_priv'] == True:\n",
    "    shift_u = kwargs['shift_random']\n",
    "if kwargs['shift_priv'] == False:\n",
    "    shift_p = kwargs['shift_random']\n",
    "print(shift_p, shift_u)\n",
    "avg_p = (dist['mu_ps']['p'] + dist['mu_ns']['p'])/2 + shift_p\n",
    "avg_u = (dist['mu_ps']['u'] + dist['mu_ns']['u'])/2 + shift_u\n",
    "sigma_p = dist['sigma_ps']['p']\n",
    "sigma_u = dist['sigma_ps']['u']\n",
    "p_range = (min(dist['mu_ps']['p'], dist['mu_ns']['p']) - 3 * sigma_p, \n",
    "           max(dist['mu_ps']['p'], dist['mu_ns']['p']) + 3 * sigma_p\n",
    "          )\n",
    "u_range = (min(dist['mu_ps']['u'], dist['mu_ns']['u']) - 3 * sigma_u, \n",
    "           max(dist['mu_ps']['u'], dist['mu_ns']['u']) + 3 * sigma_u\n",
    "          )\n",
    "print(p_range, u_range)\n",
    "\n",
    "combs = [\n",
    "    [\n",
    "        [(dist['mu_ps']['p'], dist['mu_ns']['p']), (sigma_p, sigma_p), p_range], \n",
    "        [(avg_u, avg_u), (sigma_u, sigma_u), u_range]\n",
    "    ],\n",
    "    [\n",
    "        [(avg_p, avg_p), (sigma_p, sigma_p), p_range], \n",
    "        [(dist['mu_ps']['u'], dist['mu_ns']['u']), (sigma_u, sigma_u), u_range]\n",
    "    ]\n",
    "]\n",
    "\n",
    "for i, row in enumerate(ax):\n",
    "    for j, a in enumerate(row):\n",
    "        mus = combs[i][j][0]\n",
    "        sigmas = combs[i][j][1]\n",
    "        print(mus)\n",
    "        print(sigmas)\n",
    "        plot_normal(mus[0], sigmas[0], a)\n",
    "        plot_normal(mus[1], sigmas[1], a)\n",
    "        left, right = combs[i][j][2]\n",
    "        # left = min(mus[0] - 3 * sigmas[0], mus[1] - 3 * sigmas[1])\n",
    "        # right = max(mus[1] + 3 * sigmas[1], mus[1] + 3 * sigmas[1])\n",
    "        a.set_xlim(left,right)\n",
    "        a.set_ylim(-0.01, 0.22)\n",
    "        # a.vlines(np.mean(mus), 0, 0.2, color='red')\n",
    "        \n",
    "ax[0][0].set_title('Test Scores')\n",
    "ax[0][1].set_title('GPA')\n",
    "\n",
    "ax[0][0].set_ylabel('Privileged')\n",
    "ax[1][0].set_ylabel('Unprivileged')\n",
    "\n",
    "plt.subplots_adjust(wspace=0.25)"
   ]
  },
  {
   "cell_type": "code",
   "execution_count": 8,
   "id": "laden-soundtrack",
   "metadata": {
    "scrolled": false
   },
   "outputs": [
    {
     "name": "stdout",
     "output_type": "stream",
     "text": [
      "         r_p_0     r_p_1     r_p_2     r_u_0    r_u_1     r_u_2       i_0  \\\n",
      "4000  4.609393  3.908009  1.654877  6.897352  8.62622 -1.463581 -9.445508   \n",
      "\n",
      "           i_1       i_2       i_3  \n",
      "4000  4.523429  9.007739 -4.881195  \n",
      "[1.]\n",
      "[0.]\n"
     ]
    },
    {
     "ename": "AttributeError",
     "evalue": "'SVC' object has no attribute 'theta_'",
     "output_type": "error",
     "traceback": [
      "\u001b[1;31m---------------------------------------------------------------------------\u001b[0m",
      "\u001b[1;31mAttributeError\u001b[0m                            Traceback (most recent call last)",
      "\u001b[1;32m<ipython-input-8-af9cc34e5201>\u001b[0m in \u001b[0;36m<module>\u001b[1;34m\u001b[0m\n\u001b[0;32m     15\u001b[0m \u001b[0mprint\u001b[0m\u001b[1;33m(\u001b[0m\u001b[0mtest_fd\u001b[0m\u001b[1;33m.\u001b[0m\u001b[0mprotected_attributes\u001b[0m\u001b[1;33m[\u001b[0m\u001b[0mi\u001b[0m\u001b[1;33m]\u001b[0m\u001b[1;33m)\u001b[0m\u001b[1;33m\u001b[0m\u001b[1;33m\u001b[0m\u001b[0m\n\u001b[0;32m     16\u001b[0m \u001b[0mprint\u001b[0m\u001b[1;33m(\u001b[0m\u001b[0mtest_fd\u001b[0m\u001b[1;33m.\u001b[0m\u001b[0mlabels\u001b[0m\u001b[1;33m[\u001b[0m\u001b[0mi\u001b[0m\u001b[1;33m]\u001b[0m\u001b[1;33m)\u001b[0m\u001b[1;33m\u001b[0m\u001b[1;33m\u001b[0m\u001b[0m\n\u001b[1;32m---> 17\u001b[1;33m \u001b[0mprint\u001b[0m\u001b[1;33m(\u001b[0m\u001b[0mconditional_probs\u001b[0m\u001b[1;33m(\u001b[0m\u001b[0mpmod\u001b[0m\u001b[1;33m,\u001b[0m \u001b[0mtest_fd_x\u001b[0m\u001b[1;33m.\u001b[0m\u001b[0miloc\u001b[0m\u001b[1;33m[\u001b[0m\u001b[0mi\u001b[0m\u001b[1;33m:\u001b[0m\u001b[0mi\u001b[0m\u001b[1;33m+\u001b[0m\u001b[1;36m1\u001b[0m\u001b[1;33m]\u001b[0m\u001b[1;33m)\u001b[0m\u001b[1;33m)\u001b[0m\u001b[1;33m\u001b[0m\u001b[1;33m\u001b[0m\u001b[0m\n\u001b[0m\u001b[0;32m     18\u001b[0m \u001b[0mprint\u001b[0m\u001b[1;33m(\u001b[0m\u001b[0mconditional_probs\u001b[0m\u001b[1;33m(\u001b[0m\u001b[0mumod\u001b[0m\u001b[1;33m,\u001b[0m \u001b[0mtest_fd_x\u001b[0m\u001b[1;33m.\u001b[0m\u001b[0miloc\u001b[0m\u001b[1;33m[\u001b[0m\u001b[0mi\u001b[0m\u001b[1;33m:\u001b[0m\u001b[0mi\u001b[0m\u001b[1;33m+\u001b[0m\u001b[1;36m1\u001b[0m\u001b[1;33m]\u001b[0m\u001b[1;33m)\u001b[0m\u001b[1;33m)\u001b[0m\u001b[1;33m\u001b[0m\u001b[1;33m\u001b[0m\u001b[0m\n\u001b[0;32m     19\u001b[0m \u001b[0mprint\u001b[0m\u001b[1;33m(\u001b[0m\u001b[0mconditional_probs\u001b[0m\u001b[1;33m(\u001b[0m\u001b[0mmod\u001b[0m\u001b[1;33m,\u001b[0m \u001b[0mtest_fd_x\u001b[0m\u001b[1;33m.\u001b[0m\u001b[0miloc\u001b[0m\u001b[1;33m[\u001b[0m\u001b[0mi\u001b[0m\u001b[1;33m:\u001b[0m\u001b[0mi\u001b[0m\u001b[1;33m+\u001b[0m\u001b[1;36m1\u001b[0m\u001b[1;33m]\u001b[0m\u001b[1;33m)\u001b[0m\u001b[1;33m)\u001b[0m\u001b[1;33m\u001b[0m\u001b[1;33m\u001b[0m\u001b[0m\n",
      "\u001b[1;32m<ipython-input-8-af9cc34e5201>\u001b[0m in \u001b[0;36mconditional_probs\u001b[1;34m(clf, x)\u001b[0m\n\u001b[0;32m      1\u001b[0m \u001b[1;32mdef\u001b[0m \u001b[0mconditional_probs\u001b[0m\u001b[1;33m(\u001b[0m\u001b[0mclf\u001b[0m\u001b[1;33m,\u001b[0m \u001b[0mx\u001b[0m\u001b[1;33m)\u001b[0m\u001b[1;33m:\u001b[0m\u001b[1;33m\u001b[0m\u001b[1;33m\u001b[0m\u001b[0m\n\u001b[1;32m----> 2\u001b[1;33m     \u001b[0mtemp\u001b[0m \u001b[1;33m=\u001b[0m \u001b[1;33m(\u001b[0m\u001b[0mclf\u001b[0m\u001b[1;33m.\u001b[0m\u001b[0mtheta_\u001b[0m \u001b[1;33m-\u001b[0m \u001b[0mx\u001b[0m\u001b[1;33m.\u001b[0m\u001b[0mvalues\u001b[0m\u001b[1;33m)\u001b[0m\u001b[1;33m\u001b[0m\u001b[1;33m\u001b[0m\u001b[0m\n\u001b[0m\u001b[0;32m      3\u001b[0m     \u001b[0mtemp\u001b[0m \u001b[1;33m=\u001b[0m \u001b[0mtemp\u001b[0m \u001b[1;33m/\u001b[0m \u001b[0mclf\u001b[0m\u001b[1;33m.\u001b[0m\u001b[0msigma_\u001b[0m\u001b[1;33m\u001b[0m\u001b[1;33m\u001b[0m\u001b[0m\n\u001b[0;32m      4\u001b[0m     \u001b[0mtemp\u001b[0m \u001b[1;33m=\u001b[0m \u001b[1;33m(\u001b[0m\u001b[0mtemp\u001b[0m \u001b[1;33m**\u001b[0m \u001b[1;36m2\u001b[0m\u001b[1;33m)\u001b[0m\u001b[1;33m/\u001b[0m\u001b[1;36m2\u001b[0m\u001b[1;33m\u001b[0m\u001b[1;33m\u001b[0m\u001b[0m\n\u001b[0;32m      5\u001b[0m     \u001b[0mtemp\u001b[0m \u001b[1;33m=\u001b[0m \u001b[0mnp\u001b[0m\u001b[1;33m.\u001b[0m\u001b[0mexp\u001b[0m\u001b[1;33m(\u001b[0m\u001b[1;33m-\u001b[0m \u001b[0mtemp\u001b[0m\u001b[1;33m)\u001b[0m\u001b[1;33m\u001b[0m\u001b[1;33m\u001b[0m\u001b[0m\n",
      "\u001b[1;31mAttributeError\u001b[0m: 'SVC' object has no attribute 'theta_'"
     ]
    }
   ],
   "source": [
    "def conditional_probs(clf, x):\n",
    "    temp = (clf.theta_ - x.values)\n",
    "    temp = temp / clf.sigma_\n",
    "    temp = (temp ** 2)/2\n",
    "    temp = np.exp(- temp)\n",
    "    temp = temp / np.sqrt(2 * 3.1416 * (clf.sigma_))\n",
    "    # temp = np.prod(temp, axis=1)\n",
    "    # temp = umod.class_prior_ * temp\n",
    "    # temp = temp/ np.sum(temp)\n",
    "    return temp\n",
    "\n",
    "i = 4000\n",
    "test_fd_x, _ = test_fd.get_xy(keep_protected=False)\n",
    "print(test_fd_x.iloc[i:i+1])\n",
    "print(test_fd.protected_attributes[i])\n",
    "print(test_fd.labels[i])\n",
    "print(conditional_probs(pmod, test_fd_x.iloc[i:i+1]))\n",
    "print(conditional_probs(umod, test_fd_x.iloc[i:i+1]))\n",
    "print(conditional_probs(mod, test_fd_x.iloc[i:i+1]))"
   ]
  },
  {
   "cell_type": "code",
   "execution_count": null,
   "id": "maritime-aircraft",
   "metadata": {},
   "outputs": [],
   "source": [
    "dist"
   ]
  },
  {
   "cell_type": "code",
   "execution_count": null,
   "id": "handy-intellectual",
   "metadata": {},
   "outputs": [],
   "source": [
    "mod.__dict__"
   ]
  },
  {
   "cell_type": "code",
   "execution_count": null,
   "id": "perceived-nerve",
   "metadata": {},
   "outputs": [],
   "source": [
    "def get_expected_x(dist, priv, ispos):\n",
    "    x1, x2 = get_mus(dist, priv, ispos)\n",
    "    if priv:\n",
    "        x2 = x2 + 0 * dist['sigma_ps']['u']  \n",
    "    else:\n",
    "        x1 = x1 + 0 * dist['sigma_ps']['p']\n",
    "        \n",
    "    print(x1, x2)\n",
    "    return x1, x2\n",
    "\n",
    "def get_mus(dist, priv, ispos):\n",
    "    if priv:\n",
    "        mu2 = (dist['mu_ps']['u'] + dist['mu_ns']['u'])/2\n",
    "        if ispos:\n",
    "            mu1 = dist['mu_ps']['p']\n",
    "        else:\n",
    "            mu1 = dist['mu_ns']['p']\n",
    "    else:\n",
    "        mu1 = (dist['mu_ps']['p'] + dist['mu_ns']['p'])/2\n",
    "        if ispos:\n",
    "            mu2 = dist['mu_ps']['u']\n",
    "        else:\n",
    "            mu2 = dist['mu_ns']['u']\n",
    "        \n",
    "    # print(mu1, mu2)\n",
    "    \n",
    "    return mu1, mu2"
   ]
  },
  {
   "cell_type": "code",
   "execution_count": null,
   "id": "exterior-brown",
   "metadata": {},
   "outputs": [],
   "source": [
    "from scipy.stats import norm\n",
    "def get_cdf(mu, sigma, x):\n",
    "    rv = norm(loc=mu, scale=sigma)\n",
    "    return rv.cdf(x)"
   ]
  },
  {
   "cell_type": "code",
   "execution_count": null,
   "id": "interesting-phrase",
   "metadata": {},
   "outputs": [],
   "source": [
    "ex1, ex2 = get_expected_x(dist, priv=True, ispos=True)"
   ]
  },
  {
   "cell_type": "code",
   "execution_count": null,
   "id": "instant-double",
   "metadata": {},
   "outputs": [],
   "source": [
    "def get_bounds(alpha, ex1, ex2):\n",
    "    c = math.log(alpha/(1-alpha))\n",
    "    x1_bound = 8 - 10.2/5*(c + 5/31.5*(ex2 - 5))\n",
    "    x2_bound = 5 - 31.5/5*(c + 5/10.2*(ex1 - 8))\n",
    "    return x1_bound, x2_bound"
   ]
  },
  {
   "cell_type": "code",
   "execution_count": null,
   "id": "nasty-completion",
   "metadata": {},
   "outputs": [],
   "source": [
    "x1, x2 = get_bounds(0.25, ex1, ex2)\n",
    "x1, x2"
   ]
  },
  {
   "cell_type": "code",
   "execution_count": null,
   "id": "statewide-samuel",
   "metadata": {},
   "outputs": [],
   "source": [
    "'{:.8f}'.format((1 - get_cdf(ex1, 2, x1))*(1 - get_cdf(ex2, 5, x2)))"
   ]
  },
  {
   "cell_type": "code",
   "execution_count": null,
   "id": "annual-tonight",
   "metadata": {},
   "outputs": [],
   "source": [
    "(1 - get_cdf(ex1, 2, x1))"
   ]
  },
  {
   "cell_type": "code",
   "execution_count": null,
   "id": "another-story",
   "metadata": {},
   "outputs": [],
   "source": [
    "(1 - get_cdf(ex2, 5, x2))"
   ]
  },
  {
   "cell_type": "code",
   "execution_count": null,
   "id": "tough-auckland",
   "metadata": {},
   "outputs": [],
   "source": [
    "rv = norm(loc=8, scale=2)\n",
    "exp = 0\n",
    "for i in np.arange(-20, 30, 0.01):\n",
    "    prob = rv.pdf(i)\n",
    "    fx = 0.01 * erf((36.2565 - 3.0488 * i)/(5 * math.sqrt(2)))\n",
    "    exp += fx*prob\n",
    "    \n",
    "print(exp)\n",
    "    "
   ]
  },
  {
   "cell_type": "code",
   "execution_count": null,
   "id": "cross-responsibility",
   "metadata": {},
   "outputs": [],
   "source": [
    "1/2 - 0.5*exp"
   ]
  },
  {
   "cell_type": "markdown",
   "id": "artificial-details",
   "metadata": {},
   "source": [
    "## Theoretical Bounds"
   ]
  },
  {
   "cell_type": "code",
   "execution_count": null,
   "id": "expired-polyester",
   "metadata": {},
   "outputs": [],
   "source": [
    "def get_a(sigma_1_theta, sigma_2_theta, sigma_2):\n",
    "    return - (sigma_2_theta / sigma_1_theta) ** 2 / (math.sqrt(2) * sigma_2)\n",
    "\n",
    "def get_b(sigma_1_theta, sigma_2_theta, sigma_1, sigma_2, mu_1_avg, mu_2_avg, mu, alpha, delta):\n",
    "    temp = (mu_2_avg - mu)\n",
    "    temp += (sigma_2_theta / sigma_1_theta) ** 2 * mu_1_avg\n",
    "    temp -= (sigma_2_theta ** 2 / delta) * math.log(alpha/(1-alpha))\n",
    "    temp /= (math.sqrt(2) * sigma_2)\n",
    "    return temp    \n",
    "\n",
    "def get_selection_rate(s, is_pos, dist, dist_theta, delta, alpha):\n",
    "    if is_pos:\n",
    "        if s == 'p':\n",
    "            mu_1 = dist['mu_ps']['p']\n",
    "            mu_2 = dist_theta['mu'][2]\n",
    "        else:\n",
    "            mu_1 = dist_theta['mu'][1]\n",
    "            mu_2 = dist['mu_ps']['u']\n",
    "    else:\n",
    "        if s == 'p':\n",
    "            mu_1 = dist['mu_ns']['p']\n",
    "            mu_2 = dist_theta['mu'][2]\n",
    "        else:\n",
    "            mu_1 = dist_theta['mu'][1]\n",
    "            mu_2 = dist['mu_ns']['u']\n",
    "\n",
    "    sigma_1_theta = dist_theta['sigma'][1]\n",
    "    sigma_2_theta = dist_theta['sigma'][2]\n",
    "    sigma_1 = dist['sigma_ps']['p']\n",
    "    sigma_2 = dist['sigma_ps']['u']\n",
    "    mu_1_avg = dist_theta['mu'][1]\n",
    "    mu_2_avg = dist_theta['mu'][2]\n",
    "    \n",
    "    a = get_a(sigma_1_theta, sigma_2_theta, sigma_2)\n",
    "    b = get_b(sigma_1_theta, sigma_2_theta, sigma_1, sigma_2, \n",
    "              mu_1_avg, mu_2_avg, mu_2, alpha, delta)\n",
    "    # print((a * mu_1 + b)/np.sqrt(1+a**2 * sigma_1**2))\n",
    "    # print(np.sqrt(1+a**2 * sigma_1**2))\n",
    "    \n",
    "    return 0.5 * (1 - erf((a * mu_1 + b)/np.sqrt(1+a**2 * sigma_1**2)))"
   ]
  },
  {
   "cell_type": "code",
   "execution_count": null,
   "id": "veterinary-sunset",
   "metadata": {},
   "outputs": [],
   "source": [
    "dist = {\n",
    "    'mu_ps': {'p': 103, 'u': 100},\n",
    "    'sigma_ps': {'p': 40, 'u': 110},\n",
    "    'mu_ns': {'p': 3,'u': 0},\n",
    "    'sigma_ns': {'p': 40, 'u': 110}\n",
    "}\n",
    "\n",
    "delta = dist['mu_ps']['p'] - dist['mu_ns']['p']\n",
    "\n",
    "mu_1_avg = (dist['mu_ps']['p'] + dist['mu_ns']['p']) / 2\n",
    "mu_2_avg = (dist['mu_ps']['u'] + dist['mu_ns']['u']) / 2\n",
    "sigma_1_theta = np.sqrt(dist['sigma_ps']['p']**2 \n",
    "                        + (dist['mu_ps']['p'] - dist['mu_ns']['p'])**2 / 16)\n",
    "sigma_2_theta = np.sqrt(dist['sigma_ps']['u']**2 \n",
    "                        + (dist['mu_ps']['u'] - dist['mu_ns']['u'])**2 / 16)\n",
    "dist_theta = {'mu': {1: mu_1_avg, 2: mu_2_avg},\n",
    "             'sigma': {1: sigma_1_theta, 2: sigma_2_theta}\n",
    "             }\n",
    "print(mu_1_avg, mu_2_avg, sigma_1_theta, sigma_2_theta, delta)"
   ]
  },
  {
   "cell_type": "code",
   "execution_count": null,
   "id": "extreme-shelf",
   "metadata": {},
   "outputs": [],
   "source": [
    "get_selection_rate('p', True, dist, dist_theta, delta, 0.25)"
   ]
  },
  {
   "cell_type": "code",
   "execution_count": null,
   "id": "desperate-china",
   "metadata": {},
   "outputs": [],
   "source": [
    "get_selection_rate('p', False, dist, dist_theta, delta, .25)"
   ]
  },
  {
   "cell_type": "code",
   "execution_count": null,
   "id": "executive-strain",
   "metadata": {
    "scrolled": true
   },
   "outputs": [],
   "source": [
    "get_selection_rate('u', True, dist, dist_theta, delta, 0.25)"
   ]
  },
  {
   "cell_type": "code",
   "execution_count": null,
   "id": "handmade-shame",
   "metadata": {},
   "outputs": [],
   "source": [
    "get_selection_rate('u', False, dist, dist_theta, delta, 0.25)"
   ]
  },
  {
   "cell_type": "code",
   "execution_count": null,
   "id": "thousand-executive",
   "metadata": {
    "scrolled": true
   },
   "outputs": [],
   "source": [
    "sigma_theta_1 = dist_theta['sigma'][1]\n",
    "sigma_theta_2 = dist_theta['sigma'][2]\n",
    "sigma_1 = dist['sigma_ps']['p']\n",
    "sigma_2 = dist['sigma_ps']['u']\n",
    "a = (sigma_theta_2/sigma_theta_1) ** 2 / (math.sqrt(2) * sigma_2)\n",
    "c1 = a * delta / (2  * np.sqrt(1 + (a * sigma_1)**2))\n",
    "print(c1)\n",
    "c3 = delta / (2 * np.sqrt(2) * sigma_2 * np.sqrt(1 + (a**2 * sigma_1**2)))\n",
    "print(c3)\n",
    "alpha = 0.25\n",
    "c2 = (sigma_theta_2)**2 / (delta * np.sqrt(2) * sigma_2 * np.sqrt(1 + (a * sigma_1)**2))\n",
    "print(c2)\n",
    "c_alpha = np.log(alpha/(1-alpha))\n",
    "print(c_alpha)\n",
    "4 * c3 * (sigma_theta_2)**2 / (delta * np.sqrt(2) * sigma_2 * np.sqrt(1 + (a * sigma_1)**2)) < 1"
   ]
  },
  {
   "cell_type": "code",
   "execution_count": null,
   "id": "married-english",
   "metadata": {},
   "outputs": [],
   "source": [
    "temp_dist = deepcopy(dist)\n",
    "\n",
    "print('i', ['c1', 'c2', 'c3', 'c1 + c2', 'c3 + c2', 'c1 - c2', 'c3 - c2'], sep='\\t')\n",
    "def func(sigma_1, sigma_2, delta):\n",
    "    sigma_theta_1 = np.sqrt(sigma_1**2 + delta**2/16)\n",
    "    sigma_theta_2 = np.sqrt(sigma_2**2 + delta**2/16)\n",
    "    \n",
    "    lhs = (delta**2 / 16) * (sigma_theta_2**2 + sigma_theta_1**2)\n",
    "    rhs = (sigma_theta_2**2 * sigma_1**2 + sigma_theta_1**2 * sigma_2**2)\n",
    "    print(sigma_1, sigma_2, sigma_theta_1, sigma_theta_2, int(lhs), int(rhs))\n",
    "    return lhs> rhs\n",
    "\n",
    "temp_dist = {\n",
    "    'mu_ps': {'p': 103, 'u': 100},\n",
    "    'sigma_ps': {'p': 30, 'u': 110},\n",
    "    'mu_ns': {'p': 3,'u': 0},\n",
    "    'sigma_ns': {'p': 30, 'u': 110}\n",
    "}\n",
    "\n",
    "for i in range(30, 200, 10):\n",
    "    temp_dist['sigma_ps']['u'] = temp_dist['sigma_ns']['u'] = i\n",
    "    sigma_1 = temp_dist['sigma_ps']['p']\n",
    "    sigma_2 = temp_dist['sigma_ps']['u']\n",
    "    sigma_theta_1 = np.sqrt(sigma_1**2 + delta**2/16)\n",
    "    sigma_theta_2 = np.sqrt(sigma_2**2 + delta**2/16)\n",
    "    a = (sigma_theta_2/sigma_theta_1) ** 2 / (math.sqrt(2) * sigma_2)\n",
    "    c1 = a * delta / (2  * np.sqrt(1 + 2*(a * sigma_1)**2))\n",
    "    # print(c1)\n",
    "    c3 = delta / (2 * np.sqrt(2) * sigma_2 * np.sqrt(1 + 2*(a**2 * sigma_1**2)))\n",
    "    # print(c3)\n",
    "    alpha = 0.25\n",
    "    c2 = (sigma_theta_2)**2 * np.log(alpha/(1-alpha)*2) / (delta * np.sqrt(2) * sigma_2 * np.sqrt(1 + (a * sigma_1)**2))\n",
    "    # print(c2)\n",
    "    cond = func(sigma_1, sigma_2, delta)\n",
    "    print(i, ['{:.4f}'.format(f) for f in [c1, c2, c3, c1+c2, c3+c2, c1-c2, c3-c2]], cond, sep='\\t')"
   ]
  },
  {
   "cell_type": "code",
   "execution_count": null,
   "id": "understanding-zealand",
   "metadata": {
    "scrolled": false
   },
   "outputs": [],
   "source": [
    "alphas = list(np.arange(.1, 1, 0.05))\n",
    "tps = [get_selection_rate('p', True, dist, dist_theta, delta, alpha) for alpha in alphas]\n",
    "# plt.plot(alphas, tps, label='Priv TP')\n",
    "fps = [get_selection_rate('p', False, dist, dist_theta, delta, alpha) for alpha in alphas]\n",
    "# plt.plot(alphas, fps, label='Priv FP')\n",
    "\n",
    "# print(*list(zip(tps, fps, alphas)), sep='\\n')\n",
    "\n",
    "sr_p = [alphas[i] * tps[i] + (1 - alphas[i]) * fps[i] for i in range(len(alphas))]\n",
    "plt.plot(alphas, sr_p, '*-', label='Priv SR')\n",
    "\n",
    "tps = [get_selection_rate('u', True, dist, dist_theta, delta, alpha) for alpha in alphas]\n",
    "# plt.plot(alphas, tps, label='Unpriv TP')\n",
    "fps = [get_selection_rate('u', False, dist, dist_theta, delta, alpha) for alpha in alphas]\n",
    "# plt.plot(alphas, fps, label='Unpriv FP')\n",
    "\n",
    "# print()\n",
    "\n",
    "# print(*list(zip(tps, fps, alphas)), sep='\\n')\n",
    "\n",
    "sr_u = [alphas[i] * tps[i] + (1 - alphas[i]) * fps[i] for i in range(len(alphas))]\n",
    "plt.plot(alphas, sr_u, '*-', label='Unpriv SR')\n",
    "# print()\n",
    "print(*list(zip(sr_p, sr_u, alphas)), sep='\\n')\n",
    "\n",
    "plt.xlabel('Alpha')\n",
    "plt.ylabel('Selection Rate')\n",
    "plt.legend()\n",
    "plt.savefig('theo_selection_rate_delta_{:d}_s1_{:d}_s2_{:d}.pdf'.\n",
    "            format(delta, dist['sigma_ps']['p'], dist['sigma_ps']['u']), format='pdf')"
   ]
  },
  {
   "cell_type": "code",
   "execution_count": null,
   "id": "periodic-legislature",
   "metadata": {},
   "outputs": [],
   "source": [
    "def ddx_erf(x):\n",
    "    return np.exp(-x**2)*2/np.sqrt(math.pi)\n",
    "\n",
    "ddx_erf(2)"
   ]
  },
  {
   "cell_type": "code",
   "execution_count": null,
   "id": "handmade-surrey",
   "metadata": {},
   "outputs": [],
   "source": [
    "xs = np.arange(0, 3, 0.01)\n",
    "plt.plot(xs, [ddx_erf(x) for x in xs])\n",
    "xs = np.arange(0, 3, 0.01)\n",
    "plt.plot(xs, [ddx_erf(x) for x in xs])"
   ]
  },
  {
   "cell_type": "code",
   "execution_count": null,
   "id": "institutional-interstate",
   "metadata": {},
   "outputs": [],
   "source": [
    "sigma_1 = 30\n",
    "sigma_2 = 90\n",
    "delta = 100\n",
    "2 *(sigma_2**2 + delta/16) > (sigma_1**2 + delta/16) **2 * sigma_2**2 + (sigma_2**2 + delta/16) **2 * sigma_1**2\n"
   ]
  },
  {
   "cell_type": "code",
   "execution_count": null,
   "id": "falling-kinase",
   "metadata": {},
   "outputs": [],
   "source": [
    "2 *(sigma_2**2 + delta/16)"
   ]
  },
  {
   "cell_type": "code",
   "execution_count": null,
   "id": "satisfied-acrylic",
   "metadata": {},
   "outputs": [],
   "source": [
    "(sigma_1**2 + delta/16) **2 * sigma_2**2 + (sigma_2**2 + delta/16) **2 * sigma_1**2"
   ]
  },
  {
   "cell_type": "markdown",
   "id": "referenced-sleeping",
   "metadata": {},
   "source": [
    "### Just random testing equations."
   ]
  },
  {
   "cell_type": "code",
   "execution_count": null,
   "id": "marine-garden",
   "metadata": {},
   "outputs": [],
   "source": [
    "dist = {\n",
    "    'mu_ps': {'p': 103, 'u': 100},\n",
    "    'sigma_ps': {'p': 40, 'u': 110},\n",
    "    'mu_ns': {'p': 3,'u': 0},\n",
    "    'sigma_ns': {'p': 40, 'u': 110}\n",
    "}"
   ]
  },
  {
   "cell_type": "code",
   "execution_count": null,
   "id": "apart-smith",
   "metadata": {},
   "outputs": [],
   "source": [
    "mu_1_p_plus = 13\n",
    "mu_1_p_minus = 3\n",
    "mu_1_u_plus = mu_1_u_minus = 8\n",
    "mu_2_p_plus = mu_2_p_minus = 5\n",
    "mu_2_u_plus = 10\n",
    "mu_2_u_minus = 0\n",
    "sigma_1 = 2\n",
    "sigma_2 = 5\n",
    "sigma_1_theta_sqr = 10.25\n",
    "sigma_2_theta_sqr = 31.25\n",
    "\n",
    "mu_1_avg = 8\n",
    "mu_2_avg = 5\n",
    "\n",
    "alpha = 0.25\n",
    "c_alpha = np.log(alpha/(1-alpha))\n",
    "delta = 10"
   ]
  },
  {
   "cell_type": "markdown",
   "id": "related-begin",
   "metadata": {},
   "source": [
    "Equation inside erf for $P(\\hat{y}^+| y^+, p)$"
   ]
  },
  {
   "cell_type": "code",
   "execution_count": null,
   "id": "quick-darkness",
   "metadata": {},
   "outputs": [],
   "source": [
    "b = mu_2_avg - mu_2_p_plus \n",
    "b += (mu_1_avg) * (sigma_2_theta_sqr)/sigma_1_theta_sqr\n",
    "b -= sigma_2_theta_sqr/delta * c_alpha\n",
    "\n",
    "b = b / (np.sqrt(2) * sigma_2)\n",
    "\n",
    "a = - (sigma_2_theta_sqr/sigma_1_theta_sqr)*1/(np.sqrt(2) * sigma_2)\n",
    "(a*mu_1_p_plus + b)/(np.sqrt(1 + 2 * a**2 * sigma_1**2))"
   ]
  },
  {
   "cell_type": "code",
   "execution_count": null,
   "id": "affected-winter",
   "metadata": {},
   "outputs": [],
   "source": [
    "numerator = sigma_1_theta_sqr * 0 * (-delta / 2) \n",
    "numerator += sigma_2_theta_sqr * 1 * (-delta / 2) \n",
    "numerator -= sigma_1_theta_sqr * sigma_2_theta_sqr * c_alpha / delta\n",
    "\n",
    "denominator = sigma_1_theta_sqr ** 2 * sigma_2 ** 2\n",
    "denominator += sigma_2_theta_sqr ** 2 * sigma_1 ** 2\n",
    "denominator = np.sqrt(2 * denominator)\n",
    "numerator / denominator"
   ]
  },
  {
   "cell_type": "markdown",
   "id": "turkish-april",
   "metadata": {},
   "source": [
    "Equation inside erf for $P(\\hat{y}^+| y^+, u)$"
   ]
  },
  {
   "cell_type": "code",
   "execution_count": null,
   "id": "falling-advancement",
   "metadata": {},
   "outputs": [],
   "source": [
    "numerator = sigma_1_theta_sqr * 1 * (-delta / 2) \n",
    "numerator += sigma_2_theta_sqr * 0 * (-delta / 2) \n",
    "numerator -= sigma_1_theta_sqr * sigma_2_theta_sqr * c_alpha / delta\n",
    "\n",
    "denominator = sigma_1_theta_sqr ** 2 * sigma_2 ** 2\n",
    "denominator += sigma_2_theta_sqr ** 2 * sigma_1 ** 2\n",
    "denominator = np.sqrt(2 * denominator)\n",
    "numerator / denominator"
   ]
  },
  {
   "cell_type": "markdown",
   "id": "spectacular-lottery",
   "metadata": {},
   "source": [
    "Equation inside erf for $P(\\hat{y}^+| y^-, p)$"
   ]
  },
  {
   "cell_type": "code",
   "execution_count": null,
   "id": "olive-fifty",
   "metadata": {},
   "outputs": [],
   "source": [
    "numerator = sigma_1_theta_sqr * 0 * (delta / 2) \n",
    "numerator += sigma_2_theta_sqr * 1 * (delta / 2) \n",
    "numerator -= sigma_1_theta_sqr * sigma_2_theta_sqr * c_alpha / delta\n",
    "\n",
    "denominator = sigma_1_theta_sqr ** 2 * sigma_2 ** 2\n",
    "denominator += sigma_2_theta_sqr ** 2 * sigma_1 ** 2\n",
    "denominator = np.sqrt(2 * denominator)\n",
    "numerator / denominator"
   ]
  },
  {
   "cell_type": "markdown",
   "id": "operating-enclosure",
   "metadata": {},
   "source": [
    "Equation inside erf for $P(\\hat{y}^+| y^-, p)$"
   ]
  },
  {
   "cell_type": "code",
   "execution_count": null,
   "id": "democratic-atlas",
   "metadata": {},
   "outputs": [],
   "source": [
    "numerator = sigma_1_theta_sqr * 1 * (delta / 2) \n",
    "numerator += sigma_2_theta_sqr * 0 * (delta / 2) \n",
    "numerator -= sigma_1_theta_sqr * sigma_2_theta_sqr * c_alpha / delta\n",
    "\n",
    "denominator = sigma_1_theta_sqr ** 2 * sigma_2 ** 2\n",
    "denominator += sigma_2_theta_sqr ** 2 * sigma_1 ** 2\n",
    "denominator = np.sqrt(2 * denominator)\n",
    "numerator / denominator"
   ]
  },
  {
   "cell_type": "markdown",
   "id": "weird-regard",
   "metadata": {},
   "source": [
    "###### Experiment with r and $\\Delta$"
   ]
  },
  {
   "cell_type": "code",
   "execution_count": null,
   "id": "compressed-carpet",
   "metadata": {},
   "outputs": [],
   "source": [
    "def h(sigma_1, delta, r, alpha):\n",
    "    tp_priv = get_selection_rate(sigma_1, delta, r, alpha, True, True)\n",
    "    fp_priv = get_selection_rate(sigma_1, delta, r, alpha, True, False)\n",
    "    tp_unpriv = get_selection_rate(sigma_1, delta, r, alpha, False, True)\n",
    "    fp_unpriv = get_selection_rate(sigma_1, delta, r, alpha, False, False)\n",
    "    \n",
    "    return alpha * (tp_priv - tp_unpriv) + (1-alpha) * (fp_priv - fp_unpriv)"
   ]
  },
  {
   "cell_type": "code",
   "execution_count": null,
   "id": "occupational-shipping",
   "metadata": {
    "scrolled": true
   },
   "outputs": [],
   "source": [
    "sigma_1 = 2\n",
    "delta = 10\n",
    "r = 2.5\n",
    "alpha = 0.25\n",
    "print('priv_tp', get_selection_rate(sigma_1, delta, r, alpha, True, True))\n",
    "print('priv_fp', get_selection_rate(sigma_1, delta, r, alpha, True, False))\n",
    "print('unpriv_tp', get_selection_rate(sigma_1, delta, r, alpha, False, True))\n",
    "print('unpriv_fp', get_selection_rate(sigma_1, delta, r, alpha, False, False))\n",
    "h(sigma_1, delta, r, alpha)"
   ]
  },
  {
   "cell_type": "code",
   "execution_count": null,
   "id": "accomplished-shakespeare",
   "metadata": {},
   "outputs": [],
   "source": [
    "priv_tp 0.8559751887806584\n",
    "priv_fp 0.0025242009584636182\n",
    "unpriv_tp 0.4064525467662099\n",
    "unpriv_fp 0.06618272136578918\n",
    "0.06463677019811795"
   ]
  },
  {
   "cell_type": "markdown",
   "id": "material-control",
   "metadata": {},
   "source": [
    "{'mu_ps': {'p': 103, 'u': 100}, 'sigma_ps': {'p': 40, 'u': 100}, 'mu_ns': {'p': 3, 'u': 0}, 'sigma_ns': {'p': 40, 'u': 100}}\n",
    "alpha 0.1\n",
    "mod\n",
    "{'TP': 86.0, 'FP': 41.0, 'TN': 8959.0, 'FN': 914.0}\n",
    "SR\t 0.0127\n",
    "PSR\t 0.0136\n",
    "PTPR\t 0.132\n",
    "PFPR\t 0.00044444444444444447\n",
    "USR\t 0.0118\n",
    "UTPR\t 0.04\n",
    "UFPR\t 0.008666666666666666\n",
    "alpha 0.25\n",
    "mod\n",
    "{'TP': 901.0, 'FP': 446.0, 'TN': 7054.0, 'FN': 1599.0}\n",
    "SR\t 0.1347\n",
    "PSR\t 0.1386\n",
    "PTPR\t 0.508\n",
    "PFPR\t 0.015466666666666667\n",
    "USR\t 0.1308\n",
    "UTPR\t 0.2128\n",
    "UFPR\t 0.10346666666666667\n",
    "alpha 0.5\n",
    "mod\n",
    "{'TP': 3611.0, 'FP': 1370.0, 'TN': 3630.0, 'FN': 1389.0}\n",
    "SR\t 0.4981\n",
    "PSR\t 0.4994\n",
    "PTPR\t 0.8596\n",
    "PFPR\t 0.1392\n",
    "USR\t 0.4968\n",
    "UTPR\t 0.5848\n",
    "UFPR\t 0.4088\n",
    "alpha 0.75\n",
    "mod\n",
    "{'TP': 7115.0, 'FP': 1639.0, 'TN': 861.0, 'FN': 385.0}\n",
    "SR\t 0.8754\n",
    "PSR\t 0.8618\n",
    "PTPR\t 0.9845333333333334\n",
    "PFPR\t 0.4936\n",
    "USR\t 0.889\n",
    "UTPR\t 0.9128\n",
    "UFPR\t 0.8176\n",
    "alpha 0.9\n",
    "mod\n",
    "{'TP': 8964.0, 'FP': 918.0, 'TN': 82.0, 'FN': 36.0}\n",
    "SR\t 0.9882\n",
    "PSR\t 0.9862\n",
    "PTPR\t 0.9995555555555555\n",
    "PFPR\t 0.866\n",
    "USR\t 0.9902\n",
    "UTPR\t 0.9924444444444445\n",
    "UFPR\t 0.97"
   ]
  },
  {
   "cell_type": "code",
   "execution_count": null,
   "id": "killing-mixer",
   "metadata": {
    "scrolled": true
   },
   "outputs": [],
   "source": [
    "sigma_1 = 40\n",
    "delta = 100\n",
    "r = 2.5\n",
    "for alpha in [0.1, 0.25, 0.5, 0.75, 0.9]:\n",
    "    priv = True\n",
    "    tp = get_selection_rate(sigma_1, delta, r, alpha, priv, True)\n",
    "    fp = get_selection_rate(sigma_1, delta, r, alpha, priv, False)\n",
    "    psr = alpha * tp + (1-alpha) * fp\n",
    "    priv = False\n",
    "    tp = get_selection_rate(sigma_1, delta, r, alpha, priv, True)\n",
    "    fp = get_selection_rate(sigma_1, delta, r, alpha, priv, False)\n",
    "    usr = alpha * tp + (1-alpha) * fp\n",
    "    # print(psr, usr, psr - usr)\n",
    "    # print(tp, fp)"
   ]
  },
  {
   "cell_type": "code",
   "execution_count": null,
   "id": "spoken-prior",
   "metadata": {},
   "outputs": [],
   "source": [
    "sigma_1 = 2\n",
    "delta = 10\n",
    "alpha = 0.25\n",
    "\n",
    "for r in [1, 1.25, 2.5, 5, 10, 20, 40]:\n",
    "    priv = True\n",
    "    tp = get_selection_rate(sigma_1, delta, r, alpha, priv, True)\n",
    "    fp = get_selection_rate(sigma_1, delta, r, alpha, priv, False)\n",
    "    psr = alpha * tp + (1-alpha) * fp\n",
    "    priv = False\n",
    "    tp = get_selection_rate(sigma_1, delta, r, alpha, priv, True)\n",
    "    fp = get_selection_rate(sigma_1, delta, r, alpha, priv, False)\n",
    "    usr = alpha * tp + (1-alpha) * fp\n",
    "    # print(psr, usr, psr - usr)\n",
    "    # print(tp, fp)"
   ]
  },
  {
   "cell_type": "code",
   "execution_count": null,
   "id": "incomplete-american",
   "metadata": {},
   "outputs": [],
   "source": [
    "sigma_1 = 20\n",
    "delta = 100\n",
    "alpha = 0.25\n",
    "r = 2.5\n",
    "for delta in [10, 20, 30, 40, 50]:\n",
    "    priv = True\n",
    "    tp = get_selection_rate(sigma_1, delta, r, alpha, priv, True)\n",
    "    fp = get_selection_rate(sigma_1, delta, r, alpha, priv, False)\n",
    "    psr = alpha * tp + (1-alpha) * fp\n",
    "    priv = False\n",
    "    tp = get_selection_rate(sigma_1, delta, r, alpha, priv, True)\n",
    "    fp = get_selection_rate(sigma_1, delta, r, alpha, priv, False)\n",
    "    usr = alpha * tp + (1-alpha) * fp\n",
    "    # print(psr, usr, psr - usr)\n",
    "    # print(tp, fp)\n",
    "    \n",
    "print()\n",
    "alpha = 0.75\n",
    "for delta in [10, 20, 30, 40, 50]:\n",
    "    priv = True\n",
    "    tp = get_selection_rate(sigma_1, delta, r, alpha, priv, True)\n",
    "    fp = get_selection_rate(sigma_1, delta, r, alpha, priv, False)\n",
    "    psr = alpha * tp + (1-alpha) * fp\n",
    "    priv = False\n",
    "    tp = get_selection_rate(sigma_1, delta, r, alpha, priv, True)\n",
    "    fp = get_selection_rate(sigma_1, delta, r, alpha, priv, False)\n",
    "    usr = alpha * tp + (1-alpha) * fp\n",
    "    # print(psr, usr, psr - usr)\n",
    "    # print(tp, fp)"
   ]
  },
  {
   "cell_type": "code",
   "execution_count": null,
   "id": "distributed-translator",
   "metadata": {},
   "outputs": [],
   "source": [
    "sigma_1 = 20\n",
    "delta = 100\n",
    "alpha = 0.25\n",
    "r = 2.5\n",
    "for sigma_1 in [40, 60, 80, 100, 120, 200, 300]:\n",
    "    priv = True\n",
    "    tp = get_selection_rate(sigma_1, delta, r, alpha, priv, True)\n",
    "    fp = get_selection_rate(sigma_1, delta, r, alpha, priv, False)\n",
    "    psr = alpha * tp + (1-alpha) * fp\n",
    "    priv = False\n",
    "    tp = get_selection_rate(sigma_1, delta, r, alpha, priv, True)\n",
    "    fp = get_selection_rate(sigma_1, delta, r, alpha, priv, False)\n",
    "    usr = alpha * tp + (1-alpha) * fp\n",
    "    #print(psr, usr, psr - usr)\n",
    "    # print(tp, fp)\n",
    "    \n",
    "#print()\n",
    "alpha = 0.75\n",
    "for sigma_1 in [40, 60, 80, 100, 120, 200, 300]:\n",
    "    priv = True\n",
    "    tp = get_selection_rate(sigma_1, delta, r, alpha, priv, True)\n",
    "    fp = get_selection_rate(sigma_1, delta, r, alpha, priv, False)\n",
    "    psr = alpha * tp + (1-alpha) * fp\n",
    "    priv = False\n",
    "    tp = get_selection_rate(sigma_1, delta, r, alpha, priv, True)\n",
    "    fp = get_selection_rate(sigma_1, delta, r, alpha, priv, False)\n",
    "    usr = alpha * tp + (1-alpha) * fp\n",
    "    #print(psr, usr, psr - usr)\n",
    "    # print(tp, fp)"
   ]
  },
  {
   "cell_type": "code",
   "execution_count": null,
   "id": "typical-authority",
   "metadata": {},
   "outputs": [],
   "source": [
    "sigma_1 = 20\n",
    "delta = 100\n",
    "alpha = 0.25\n",
    "r = 2.5\n",
    "hs = []\n",
    "for sigma_1 in [20, 40, 60, 80, 100, 120, 200, 300]:\n",
    "    for delta in [10, 20, 30, 40, 50, 100]:\n",
    "        for r in [1, 1.5, 2, 2.5, 5, 10, 20]:\n",
    "            #print(sigma_1, delta, r, r*sigma_1)\n",
    "            new_hs = []\n",
    "            for alpha in [0.1, 0.25, 0.5, 0.75, 0.9]:\n",
    "                priv = True\n",
    "                tp = get_selection_rate(sigma_1, delta, r, alpha, priv, True)\n",
    "                fp = get_selection_rate(sigma_1, delta, r, alpha, priv, False)\n",
    "                psr = alpha * tp + (1-alpha) * fp\n",
    "                priv = False\n",
    "                tp = get_selection_rate(sigma_1, delta, r, alpha, priv, True)\n",
    "                fp = get_selection_rate(sigma_1, delta, r, alpha, priv, False)\n",
    "                usr = alpha * tp + (1-alpha) * fp\n",
    "                new_hs.append(psr - usr)\n",
    "            hs.append(new_hs)\n",
    "            #print(new_hs)"
   ]
  },
  {
   "cell_type": "markdown",
   "id": "nonprofit-sport",
   "metadata": {},
   "source": [
    "##### Plot erf function"
   ]
  },
  {
   "cell_type": "code",
   "execution_count": null,
   "id": "caroline-hometown",
   "metadata": {},
   "outputs": [],
   "source": [
    "# (1, 3, 1.25)\n",
    "sigma_1 = 2\n",
    "delta = 10\n",
    "r = 2.5\n",
    "alpha = 0.25\n",
    "\n",
    "erfs = []\n",
    "start = - 250\n",
    "end = 250\n",
    "for i in range(start, end + 1):\n",
    "    erfs.append(erf(i/100))\n",
    "    \n",
    "plt.plot([i/100 for i in range(start, end + 1)], erfs, color='black')\n",
    "\n",
    "calpha = np.log(alpha/(1-alpha))\n",
    "c1, c2, c3 = get_c123(sigma_1, r * sigma_1, delta)\n",
    "print(calpha, c1, c2, c3)\n",
    "points = [c1, c3, c1+c2*calpha, c3+c2*calpha, c3-c2*calpha, c1-c2*calpha]\n",
    "print(points)\n",
    "plt.plot(points, [erf(p) for p in points], 'o', color='black')\n",
    "\n",
    "texts = [r'$c_1$', r'$c_3$', r'$c_1+c_2*c_\\alpha$', r'$c_3+c_2*c_\\alpha$', r'$c_3 - c_2*c_\\alpha$', r'$c_1 - c_2*c_\\alpha$']\n",
    "\n",
    "ax = plt.gca()\n",
    "    \n",
    "fontsize = 18.33\n",
    "    \n",
    "ax.annotate(texts[0], (points[0] - 0.3, erf(points[0]) + 0.1), fontsize=fontsize)\n",
    "ax.annotate(texts[1], (points[1] - 0.3, erf(points[1]) + 0.1), fontsize=fontsize)\n",
    "ax.annotate(texts[2], (points[2] - 1.5, erf(points[2]) + 0.1), fontsize=fontsize)\n",
    "ax.annotate(texts[3], (points[3] - 1.5, erf(points[3]) + 0.1), fontsize=fontsize)\n",
    "ax.annotate(texts[4], (points[4] , erf(points[4]) - 1.1), fontsize=fontsize, rotation=90)\n",
    "ax.annotate(texts[5], (points[5] , erf(points[5]) - 1.1), fontsize=fontsize, rotation=90)\n",
    "\n",
    "plt.ylim(-1.1, 1.3)\n",
    "plt.xlim(-2.5, 2.5)\n",
    "plt.axvline(0, color='black')\n",
    "plt.axhline(0, color='black')\n",
    "plt.xlabel('x')\n",
    "plt.ylabel('erf(x)')\n",
    "plt.tight_layout()\n",
    "\n",
    "cdiff = c1 - c3\n",
    "mid_points = [(c1+c3)/2, (c1+c3)/2 + c2*calpha, (c1+c3)/2 - c2*calpha]\n",
    "mid_texts = [r'$\\dfrac{c_1 + c_3}{2}$', \n",
    "             r'$\\dfrac{c_1 + c_3}{2} + c_2 c_{\\alpha}$', \n",
    "             r'$\\dfrac{c_1 + c_3}{2} - c_2 c_{\\alpha}$']\n",
    "plt.plot(mid_points, [erf(i) for i in mid_points], 'o', color='black')\n",
    "\n",
    "ax = plt.gca()\n",
    "for i, p in enumerate(mid_points[:-1]):\n",
    "    # ax.annotate(mid_texts[i], (p, erf(p) + 0.2))\n",
    "    pass\n",
    "\n",
    "plt.plot([c1+c2*calpha, c3+c2*calpha], [erf(i) for i in [c1+c2*calpha, c3+c2*calpha]], color='black')\n",
    "plt.plot([c1+c2*calpha, c1+c2*calpha], [erf(c1+c2*calpha), erf(c3+c2*calpha)], color='black')\n",
    "plt.plot([c3+c2*calpha, c1+c2*calpha], [erf(c3+c2*calpha), erf(c3+c2*calpha)], color='black')\n",
    "\n",
    "plt.plot([c1-c2*calpha, c3-c2*calpha], [erf(c1-c2*calpha), erf(c3-c2*calpha)], color='black')\n",
    "plt.plot([c1-c2*calpha, c1-c2*calpha], [erf(c1-c2*calpha), erf(c3-c2*calpha)], color='black')\n",
    "plt.plot([c3-c2*calpha, c1-c2*calpha], [erf(c3-c2*calpha), erf(c3-c2*calpha)], color='black')\n",
    "\n",
    "plt.savefig('erf_plot.pdf', format='pdf')"
   ]
  },
  {
   "cell_type": "code",
   "execution_count": null,
   "id": "direct-austin",
   "metadata": {},
   "outputs": [],
   "source": [
    "sigma_1 = 1000\n",
    "sigma_2 = 2500\n",
    " \n",
    "c2s = {}\n",
    "for delta in range(5, 10000, 5):\n",
    "    _, c2, _ = get_c123(sigma_1, sigma_2, delta/10)\n",
    "    c2s[delta/10] = 2*c2\n",
    "    \n",
    "print(min(c2s.values()))\n",
    "plt.plot(c2s.keys(), c2s.values())\n",
    "plt.hlines(1, -5, 150)"
   ]
  }
 ],
 "metadata": {
  "kernelspec": {
   "display_name": "Python 3",
   "language": "python",
   "name": "python3"
  },
  "language_info": {
   "codemirror_mode": {
    "name": "ipython",
    "version": 3
   },
   "file_extension": ".py",
   "mimetype": "text/x-python",
   "name": "python",
   "nbconvert_exporter": "python",
   "pygments_lexer": "ipython3",
   "version": "3.8.0"
  }
 },
 "nbformat": 4,
 "nbformat_minor": 5
}
