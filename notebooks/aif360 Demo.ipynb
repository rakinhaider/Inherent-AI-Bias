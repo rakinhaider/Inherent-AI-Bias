{
 "cells": [
  {
   "cell_type": "code",
   "execution_count": 1,
   "metadata": {
    "pycharm": {
     "is_executing": false
    }
   },
   "outputs": [
    {
     "name": "stderr",
     "output_type": "stream",
     "text": [
      "WARNING:root:No module named 'numba.decorators': LFR will be unavailable. To install, run:\n",
      "pip install 'aif360[LFR]'\n"
     ]
    }
   ],
   "source": [
    "import numpy as np\n",
    "import pandas as pd\n",
    "\n",
    "from aif360.datasets import (\n",
    "                            CompasDataset,\n",
    "                            GermanDataset\n",
    ")\n",
    "from aif360.metrics import (\n",
    "                            BinaryLabelDatasetMetric,\n",
    "                            ClassificationMetric\n",
    ")\n",
    "from aif360.algorithms.preprocessing import DisparateImpactRemover\n",
    "from sklearn.linear_model import LogisticRegression "
   ]
  },
  {
   "cell_type": "code",
   "execution_count": 2,
   "metadata": {
    "pycharm": {
     "is_executing": false
    }
   },
   "outputs": [
    {
     "name": "stderr",
     "output_type": "stream",
     "text": [
      "WARNING:root:Missing Data: 5 rows removed from CompasDataset.\n"
     ]
    }
   ],
   "source": [
    "data = CompasDataset()\n",
    "\n",
    "data_train, data_test = data.split([0.7], shuffle=True)\n",
    "\n",
    "protected = 'sex'\n",
    "\n",
    "privileged_groups = [{protected: 1}]\n",
    "unprivileged_groups = [{protected: 0}]"
   ]
  },
  {
   "cell_type": "code",
   "execution_count": 3,
   "metadata": {},
   "outputs": [
    {
     "data": {
      "text/plain": [
       "array([[0., 0.],\n",
       "       [0., 0.],\n",
       "       [0., 0.],\n",
       "       ...,\n",
       "       [0., 0.],\n",
       "       [1., 0.],\n",
       "       [1., 0.]])"
      ]
     },
     "execution_count": 3,
     "metadata": {},
     "output_type": "execute_result"
    }
   ],
   "source": [
    "data.protected_attributes"
   ]
  },
  {
   "cell_type": "code",
   "execution_count": 3,
   "metadata": {
    "pycharm": {
     "is_executing": false
    }
   },
   "outputs": [
    {
     "name": "stdout",
     "output_type": "stream",
     "text": [
      "#### Original training dataset\n",
      "Difference in mean outcomes between unprivileged and privileged groups = -0.107636\n",
      "-0.10763593145089434\n",
      "0.5465708989805376\n",
      "0.6339066339066339\n",
      "0.5262707024557396\n"
     ]
    }
   ],
   "source": [
    "metric_orig_train = BinaryLabelDatasetMetric(data_train,\n",
    "                                             unprivileged_groups=unprivileged_groups,\n",
    "                                             privileged_groups=privileged_groups)\n",
    "print(\"#### Original training dataset\")\n",
    "print(\"Difference in mean outcomes \"\n",
    "      \"between unprivileged and privileged \"\n",
    "      \"groups = %f\"\n",
    "      % metric_orig_train.mean_difference())\n",
    "\n",
    "print(metric_orig_train.mean_difference())\n",
    "print(metric_orig_train.base_rate(privileged=None))\n",
    "print(metric_orig_train.base_rate(privileged=True))\n",
    "print(metric_orig_train.base_rate(privileged=False))"
   ]
  },
  {
   "cell_type": "code",
   "execution_count": 4,
   "metadata": {
    "pycharm": {
     "is_executing": false
    }
   },
   "outputs": [
    {
     "data": {
      "text/plain": [
       "array([1., 0., 1., ..., 1., 1., 0.])"
      ]
     },
     "execution_count": 4,
     "metadata": {},
     "output_type": "execute_result"
    }
   ],
   "source": [
    "data_train.labels.ravel()"
   ]
  },
  {
   "cell_type": "code",
   "execution_count": 5,
   "metadata": {
    "pycharm": {
     "is_executing": false
    }
   },
   "outputs": [
    {
     "data": {
      "text/plain": [
       "LogisticRegression(C=1.0, class_weight='balanced', dual=False,\n",
       "                   fit_intercept=True, intercept_scaling=1, l1_ratio=None,\n",
       "                   max_iter=100, multi_class='warn', n_jobs=None, penalty='l2',\n",
       "                   random_state=None, solver='liblinear', tol=0.0001, verbose=0,\n",
       "                   warm_start=False)"
      ]
     },
     "execution_count": 5,
     "metadata": {},
     "output_type": "execute_result"
    }
   ],
   "source": [
    "X_tr = data_train.features\n",
    "X_te = data_test.features\n",
    "y_tr = data_train.labels.ravel()\n",
    "\n",
    "lmod = LogisticRegression(class_weight='balanced', solver='liblinear')\n",
    "lmod.fit(X_tr, y_tr)"
   ]
  },
  {
   "cell_type": "code",
   "execution_count": 6,
   "metadata": {
    "pycharm": {
     "is_executing": false
    }
   },
   "outputs": [
    {
     "name": "stdout",
     "output_type": "stream",
     "text": [
      "-0.2794215388291874\n",
      "0.5407887628309023\n",
      "0.766016713091922\n",
      "0.4865951742627346\n",
      "0.6352278820375336\n"
     ]
    }
   ],
   "source": [
    "data_test_pred = data_test.copy()\n",
    "data_test_pred.labels = lmod.predict(X_te)\n",
    "\n",
    "p = [{protected: 1}]\n",
    "u = [{protected: 0}]\n",
    "cm = BinaryLabelDatasetMetric(data_test_pred, privileged_groups=p, unprivileged_groups=u)\n",
    "print(cm.mean_difference())\n",
    "print(cm.base_rate(privileged=None))\n",
    "print(cm.base_rate(privileged=True))\n",
    "print(cm.base_rate(privileged=False))\n",
    "print(cm.disparate_impact())"
   ]
  },
  {
   "cell_type": "code",
   "execution_count": 7,
   "metadata": {
    "pycharm": {
     "is_executing": false
    }
   },
   "outputs": [
    {
     "name": "stdout",
     "output_type": "stream",
     "text": [
      "-0.2794215388291874\n",
      "0.539708265802269\n",
      "0.6796657381615598\n",
      "0.5060321715817694\n",
      "0.6352278820375336\n"
     ]
    }
   ],
   "source": [
    "classifier_metric = ClassificationMetric(data_test, data_test_pred, privileged_groups=p, unprivileged_groups=u)\n",
    "print(classifier_metric.mean_difference())\n",
    "print(classifier_metric.base_rate(privileged=None))\n",
    "print(classifier_metric.base_rate(privileged=True))\n",
    "print(classifier_metric.base_rate(privileged=False))\n",
    "print(classifier_metric.disparate_impact())"
   ]
  }
 ],
 "metadata": {
  "kernelspec": {
   "display_name": "Python 3",
   "language": "python",
   "name": "python3"
  },
  "language_info": {
   "codemirror_mode": {
    "name": "ipython",
    "version": 3
   },
   "file_extension": ".py",
   "mimetype": "text/x-python",
   "name": "python",
   "nbconvert_exporter": "python",
   "pygments_lexer": "ipython3",
   "version": "3.7.5"
  },
  "pycharm": {
   "stem_cell": {
    "cell_type": "raw",
    "metadata": {
     "collapsed": false
    },
    "source": []
   }
  }
 },
 "nbformat": 4,
 "nbformat_minor": 1
}
