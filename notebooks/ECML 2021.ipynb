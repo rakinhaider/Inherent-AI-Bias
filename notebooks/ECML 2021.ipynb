{
 "cells": [
  {
   "cell_type": "code",
   "execution_count": 47,
   "id": "novel-doctor",
   "metadata": {},
   "outputs": [],
   "source": [
    "import sys\n",
    "sys.path.insert(1, \"../\")\n",
    "\n",
    "import importlib\n",
    "import matplotlib.pyplot as plt\n",
    "import matplotlib\n",
    "%matplotlib inline\n",
    "import numpy as np\n",
    "from sklearn.linear_model import LogisticRegression \n",
    "from sklearn.tree import DecisionTreeClassifier\n",
    "from sklearn.naive_bayes import GaussianNB"
   ]
  },
  {
   "cell_type": "code",
   "execution_count": 48,
   "id": "ready-morrison",
   "metadata": {},
   "outputs": [],
   "source": [
    "def reload_modules():\n",
    "    import ghost_unfairness\n",
    "    importlib.reload(ghost_unfairness.fair_dataset)\n",
    "    importlib.reload(ghost_unfairness.utils)\n",
    "    \n",
    "reload_modules()\n",
    "\n",
    "from ghost_unfairness.fair_dataset import FairDataset, default_mappings\n",
    "\n",
    "from ghost_unfairness.utils import *"
   ]
  },
  {
   "cell_type": "code",
   "execution_count": 49,
   "id": "polish-collaboration",
   "metadata": {},
   "outputs": [],
   "source": [
    "protected = [\"sex\"]\n",
    "privileged_classes = [['Male']]\n",
    "metadata = default_mappings.copy()\n",
    "metadata['protected_attribute_maps'] = [{1.0: 'Male', 0.0: 'Female'}]\n",
    "\n",
    "alpha = 0.5\n",
    "beta = 1\n",
    "\n",
    "kwargs = {'protected_attribute_names': protected,\n",
    "          'privileged_classes': [['Male']],\n",
    "          'metadata':metadata,\n",
    "          'favorable_classes': [1],\n",
    "          'beta': beta,\n",
    "          'alpha': alpha\n",
    "         }\n",
    "\n",
    "random_state = 47\n",
    "model_type = GaussianNB"
   ]
  },
  {
   "cell_type": "code",
   "execution_count": null,
   "id": "willing-gambling",
   "metadata": {
    "scrolled": true
   },
   "outputs": [],
   "source": [
    "from copy import deepcopy\n",
    "dist = {\n",
    "    'mu_ps': {'p': 3, 'u': 0},\n",
    "    'sigma_ps': {'p': 2, 'u': 5},\n",
    "    'mu_ns': {'p': 3, 'u': 0},\n",
    "    'sigma_ns': {'p': 2, 'u': 5},\n",
    "}\n",
    "\n",
    "results = {'p' : [], 'u': [], 'm': []}\n",
    "deltas = []\n",
    "start = 1\n",
    "end = 20\n",
    "for i in range(start, end):\n",
    "    temp_dist = deepcopy(dist)\n",
    "    mu_ps = temp_dist['mu_ps']\n",
    "    for k in mu_ps:\n",
    "        mu_ps[k] = mu_ps[k] + i\n",
    "    kwargs['dist'] = temp_dist\n",
    "    print(kwargs['dist'])    \n",
    "    \n",
    "    kwargs['verbose'] = False\n",
    "    train_fd, test_fd = get_datasets(10000, 2, 1, kwargs, test_random_state=23)\n",
    "    pmod, pmod_results = get_groupwise_performance(train_fd, train_fd, model_type,\n",
    "                                                   privileged=True, pos_rate=True)\n",
    "    umod, umod_results = get_groupwise_performance(train_fd, train_fd, model_type,\n",
    "                                                   privileged=False, pos_rate=True)\n",
    "    mod, mod_results = get_groupwise_performance(train_fd, train_fd, model_type,\n",
    "                                                 privileged=None, pos_rate=True)\n",
    "    \n",
    "    # is_u_optimal = umod_results[4] >= pmod_results[4] and umod_results[4] >= mod_results[4] \n",
    "    is_u_optimal = umod_results[4] > pmod_results[4]\n",
    "    # is_p_optimal = pmod_results[3] >= umod_results[3] and pmod_results[3] >= mod_results[3]\n",
    "    is_p_optimal = pmod_results[3] > umod_results[3]\n",
    "    is_m_optimal = mod_results[2] > umod_results[2] and mod_results[2] > pmod_results[2]\n",
    "    \n",
    "    opt_diff = is_u_optimal and is_p_optimal and is_m_optimal\n",
    "    \n",
    "    violates = mod_results[1] > umod_results[1] and mod_results[1] > pmod_results[1]\n",
    "    \n",
    "    kwargs['verbose'] = True\n",
    "    if kwargs['verbose']:\n",
    "        print(opt_diff)\n",
    "    \n",
    "        print('Violates', opt_diff and violates)\n",
    "    \n",
    "        print('pmod_results', *pmod_results, sep='\\t')\n",
    "        print('umod_results', *umod_results, sep='\\t')\n",
    "        print('mod_results', *mod_results, sep='\\t')\n",
    "    assert not (opt_diff and violates)\n",
    "    \n",
    "    # if opt_diff and not violates:\n",
    "    results['p'].append(pmod_results)\n",
    "    results['u'].append(umod_results)\n",
    "    results['m'].append(mod_results)\n",
    "\n",
    "    # print(kwargs)"
   ]
  },
  {
   "cell_type": "code",
   "execution_count": null,
   "id": "precise-consent",
   "metadata": {},
   "outputs": [],
   "source": [
    "plt.plot(range(start, end), [i[1] for i in results['p']], '*-', label='p')\n",
    "plt.plot(range(start, end), [i[1] for i in results['u']], '*-', label='u')\n",
    "plt.plot(range(start, end), [i[1] for i in results['m']], '*-', label='m')\n",
    "plt.legend()"
   ]
  },
  {
   "cell_type": "code",
   "execution_count": null,
   "id": "functioning-resource",
   "metadata": {},
   "outputs": [],
   "source": [
    "c_by_ds = []\n",
    "di_diffs = []\n",
    "for i in range(0, end - start):\n",
    "    pmod_res = results['p'][i]\n",
    "    umod_res = results['u'][i]\n",
    "    mod_res = results['m'][i]\n",
    "    di_u = umod_res[1]\n",
    "    di = mod_res[1]\n",
    "    acc_diff_u =  umod_res[4] - mod_res[4]\n",
    "    acc_diff_p = pmod_res[3] - mod_res[3]\n",
    "    print(acc_diff_u, acc_diff_p)\n",
    "    del_p_plus = pmod_res[5] - mod_res[5] \n",
    "    del_p_minus = pmod_res[6] - mod_res[6]\n",
    "\n",
    "    del_u_plus = umod_res[7] - mod_res[7]\n",
    "    del_u_minus = umod_res[8] - mod_res[8]\n",
    "    print(del_p_plus, del_p_minus, del_u_plus, del_u_minus)\n",
    "    c = acc_diff_u + 2 * (1-alpha) * del_u_minus\n",
    "    d = acc_diff_p + 2 * (1-alpha) * del_p_minus\n",
    "    if d == 0:\n",
    "        break\n",
    "    c_by_ds.append(c/d)\n",
    "    di_diffs.append(di_u - di)\n",
    "    if c > d:\n",
    "        assert di < di_u\n",
    "        \n",
    "print(*list(zip(c_by_ds, di_diffs)),sep='\\n')\n",
    "\n",
    "plt.plot(-np.log(np.abs(c_by_ds)), di_diffs, '*-')"
   ]
  },
  {
   "cell_type": "code",
   "execution_count": null,
   "id": "hairy-hostel",
   "metadata": {},
   "outputs": [],
   "source": [
    "acc_diff_u = [(i[0][4] - i[1][4]) for i in zip(results['u'], results['m'])]\n",
    "acc_diff_u\n",
    "acc_diff_p = [(i[0][3] - i[1][3]) for i in zip(results['p'], results['m'])]\n",
    "acc_diff_p\n",
    "di_diff = [i[0][1] - i[1][1] for i in zip(results['u'], results['m'])]\n",
    "di_diff"
   ]
  },
  {
   "cell_type": "code",
   "execution_count": null,
   "id": "artificial-popularity",
   "metadata": {
    "scrolled": true
   },
   "outputs": [],
   "source": [
    "#plt.plot(range(-10, n), [i[3] for i in results['p']], '*-', label='p')\n",
    "plt.plot(range(start, end), [abs(i[3] - i[4]) for i in results['u']], '*-', label='u')\n",
    "#plt.plot(range(-10, n), [i[2] for i in results['m']], '*-', label='m')\n",
    "plt.legend()"
   ]
  },
  {
   "cell_type": "code",
   "execution_count": null,
   "id": "facial-october",
   "metadata": {},
   "outputs": [],
   "source": [
    "dist = {\n",
    "    'mu_ps': {'p': 13, 'u': 10},\n",
    "    'sigma_ps': {'p': 2, 'u': 5},\n",
    "    'mu_ns': {'p': 3, 'u': 0},\n",
    "    'sigma_ns': {'p': 2, 'u': 5},\n",
    "}\n",
    "\n",
    "model_results = {'p': [], 'u': [], 'm': []}\n",
    "kwargs['dist'] = dist\n",
    "model_types = [GaussianNB, LogisticRegression, DecisionTreeClassifier]\n",
    "for model_type in model_types:\n",
    "    \n",
    "    kwargs['verbose'] = False\n",
    "    train_fd, test_fd = get_datasets(10000, 10, 3, kwargs, test_random_state=47)\n",
    "    pmod, pmod_results = get_groupwise_performance(train_fd, train_fd, model_type,\n",
    "                                                   privileged=True, pos_rate=True)\n",
    "    umod, umod_results = get_groupwise_performance(train_fd, train_fd, model_type,\n",
    "                                                   privileged=False, pos_rate=True)\n",
    "    mod, mod_results = get_groupwise_performance(train_fd, train_fd, model_type,\n",
    "                                                 privileged=None, pos_rate=True)\n",
    "    \n",
    "    kwargs['verbose'] = True\n",
    "    if kwargs['verbose']:\n",
    "        print(opt_diff)\n",
    "    \n",
    "        print('Violates', opt_diff and violates)\n",
    "    \n",
    "        print('pmod_results', *pmod_results, sep='\\t')\n",
    "        print('umod_results', *umod_results, sep='\\t')\n",
    "        print('mod_results', *mod_results, sep='\\t')\n",
    "    model_results['p'].append(pmod_results)\n",
    "    model_results['u'].append(umod_results)\n",
    "    model_results['m'].append(mod_results)\n"
   ]
  },
  {
   "cell_type": "code",
   "execution_count": null,
   "id": "confirmed-chemical",
   "metadata": {},
   "outputs": [],
   "source": [
    "dist"
   ]
  },
  {
   "cell_type": "code",
   "execution_count": null,
   "id": "involved-service",
   "metadata": {},
   "outputs": [],
   "source": [
    "plt.bar(range(0, len(model_types)*2, 2), [i[1] for i in model_results['u']], label='u')\n",
    "plt.bar(range(1, len(model_types)*2, 2), [i[1] for i in model_results['m']], label= 'm')\n",
    "plt.ylim(0.9, 1.1)\n",
    "plt.legend()"
   ]
  },
  {
   "cell_type": "code",
   "execution_count": 18,
   "id": "checked-economics",
   "metadata": {},
   "outputs": [
    {
     "name": "stdout",
     "output_type": "stream",
     "text": [
      "{'mu_ps': {'p': 13, 'u': 10}, 'sigma_ps': {'p': 2, 'u': 5}, 'mu_ns': {'p': 3, 'u': 0}, 'sigma_ns': {'p': 2, 'u': 5}}\n",
      "{'mu_ps': {'p': 13, 'u': 10}, 'sigma_ps': {'p': 2, 'u': 6}, 'mu_ns': {'p': 3, 'u': 0}, 'sigma_ns': {'p': 2, 'u': 6}}\n",
      "{'mu_ps': {'p': 13, 'u': 10}, 'sigma_ps': {'p': 2, 'u': 7}, 'mu_ns': {'p': 3, 'u': 0}, 'sigma_ns': {'p': 2, 'u': 7}}\n"
     ]
    },
    {
     "ename": "KeyboardInterrupt",
     "evalue": "",
     "output_type": "error",
     "traceback": [
      "\u001b[1;31m---------------------------------------------------------------------------\u001b[0m",
      "\u001b[1;31mKeyboardInterrupt\u001b[0m                         Traceback (most recent call last)",
      "\u001b[1;32m<ipython-input-18-5754fa9637cc>\u001b[0m in \u001b[0;36m<module>\u001b[1;34m\u001b[0m\n\u001b[0;32m     24\u001b[0m     pmod, pmod_results = get_groupwise_performance(train_fd, train_fd, model_type,\n\u001b[0;32m     25\u001b[0m                                                    privileged=True, pos_rate=True)\n\u001b[1;32m---> 26\u001b[1;33m     umod, umod_results = get_groupwise_performance(train_fd, train_fd, model_type,\n\u001b[0m\u001b[0;32m     27\u001b[0m                                                    privileged=False, pos_rate=True)\n\u001b[0;32m     28\u001b[0m     mod, mod_results = get_groupwise_performance(train_fd, train_fd, model_type,\n",
      "\u001b[1;32mD:\\Thesis\\MachineFairness\\ContexualFairness\\2021Spring\\GhostUnfairness\\ghost_unfairness\\utils.py\u001b[0m in \u001b[0;36mget_groupwise_performance\u001b[1;34m(train_fd, test_fd, model_type, privileged, params, pos_rate)\u001b[0m\n\u001b[0;32m    140\u001b[0m \u001b[1;33m\u001b[0m\u001b[0m\n\u001b[0;32m    141\u001b[0m     \u001b[1;32melif\u001b[0m \u001b[0mprivileged\u001b[0m \u001b[1;33m==\u001b[0m \u001b[1;32mFalse\u001b[0m\u001b[1;33m:\u001b[0m\u001b[1;33m\u001b[0m\u001b[1;33m\u001b[0m\u001b[0m\n\u001b[1;32m--> 142\u001b[1;33m         \u001b[0mtrain_fd\u001b[0m \u001b[1;33m=\u001b[0m \u001b[0mtrain_fd\u001b[0m\u001b[1;33m.\u001b[0m\u001b[0mget_unprivileged_group\u001b[0m\u001b[1;33m(\u001b[0m\u001b[1;33m)\u001b[0m\u001b[1;33m\u001b[0m\u001b[1;33m\u001b[0m\u001b[0m\n\u001b[0m\u001b[0;32m    143\u001b[0m \u001b[1;33m\u001b[0m\u001b[0m\n\u001b[0;32m    144\u001b[0m     \u001b[1;32mif\u001b[0m \u001b[1;32mnot\u001b[0m \u001b[0mparams\u001b[0m\u001b[1;33m:\u001b[0m\u001b[1;33m\u001b[0m\u001b[1;33m\u001b[0m\u001b[0m\n",
      "\u001b[1;32mD:\\Thesis\\MachineFairness\\ContexualFairness\\2021Spring\\GhostUnfairness\\ghost_unfairness\\fair_dataset.py\u001b[0m in \u001b[0;36mget_unprivileged_group\u001b[1;34m(self)\u001b[0m\n\u001b[0;32m    194\u001b[0m         \u001b[0mselected_rows\u001b[0m \u001b[1;33m=\u001b[0m \u001b[1;33m[\u001b[0m\u001b[1;33m]\u001b[0m\u001b[1;33m\u001b[0m\u001b[1;33m\u001b[0m\u001b[0m\n\u001b[0;32m    195\u001b[0m         \u001b[1;32mfor\u001b[0m \u001b[0mi\u001b[0m \u001b[1;32min\u001b[0m \u001b[0mself\u001b[0m\u001b[1;33m.\u001b[0m\u001b[0minstance_names\u001b[0m\u001b[1;33m:\u001b[0m\u001b[1;33m\u001b[0m\u001b[1;33m\u001b[0m\u001b[0m\n\u001b[1;32m--> 196\u001b[1;33m             \u001b[1;32mif\u001b[0m \u001b[0mi\u001b[0m \u001b[1;32mnot\u001b[0m \u001b[1;32min\u001b[0m \u001b[0mfd_priv\u001b[0m\u001b[1;33m.\u001b[0m\u001b[0minstance_names\u001b[0m\u001b[1;33m:\u001b[0m\u001b[1;33m\u001b[0m\u001b[1;33m\u001b[0m\u001b[0m\n\u001b[0m\u001b[0;32m    197\u001b[0m                 \u001b[0mindex\u001b[0m \u001b[1;33m=\u001b[0m \u001b[0mself\u001b[0m\u001b[1;33m.\u001b[0m\u001b[0minstance_names\u001b[0m\u001b[1;33m.\u001b[0m\u001b[0mindex\u001b[0m\u001b[1;33m(\u001b[0m\u001b[0mi\u001b[0m\u001b[1;33m)\u001b[0m\u001b[1;33m\u001b[0m\u001b[1;33m\u001b[0m\u001b[0m\n\u001b[0;32m    198\u001b[0m                 \u001b[0mselected_rows\u001b[0m\u001b[1;33m.\u001b[0m\u001b[0mappend\u001b[0m\u001b[1;33m(\u001b[0m\u001b[0mindex\u001b[0m\u001b[1;33m)\u001b[0m\u001b[1;33m\u001b[0m\u001b[1;33m\u001b[0m\u001b[0m\n",
      "\u001b[1;31mKeyboardInterrupt\u001b[0m: "
     ]
    }
   ],
   "source": [
    "from copy import deepcopy\n",
    "dist = {\n",
    "    'mu_ps': {'p': 13, 'u': 10},\n",
    "    'sigma_ps': {'p': 2, 'u': 5},\n",
    "    'mu_ns': {'p': 3, 'u': 0},\n",
    "    'sigma_ns': {'p': 2, 'u': 5},\n",
    "}\n",
    "\n",
    "results = {'p' : [], 'u': [], 'm': []}\n",
    "start = 0\n",
    "end = 10\n",
    "for i in range(start, end):\n",
    "    temp_dist = deepcopy(dist)\n",
    "    sigma_ps = temp_dist['sigma_ps']\n",
    "    sigma_ns = temp_dist['sigma_ns']\n",
    "    sigma_ps['u'] = sigma_ps['u'] + i\n",
    "    sigma_ns['u'] = sigma_ns['u'] + i\n",
    "\n",
    "    print(temp_dist)    \n",
    "    kwargs['dist'] = temp_dist\n",
    "    kwargs['verbose'] = False\n",
    "    \n",
    "    train_fd, test_fd = get_datasets(10000, 2, 1, kwargs, test_random_state=47)\n",
    "    pmod, pmod_results = get_groupwise_performance(train_fd, train_fd, model_type,\n",
    "                                                   privileged=True, pos_rate=True)\n",
    "    umod, umod_results = get_groupwise_performance(train_fd, train_fd, model_type,\n",
    "                                                   privileged=False, pos_rate=True)\n",
    "    mod, mod_results = get_groupwise_performance(train_fd, train_fd, model_type,\n",
    "                                                 privileged=None, pos_rate=True)\n",
    "    \n",
    "    results['p'].append(pmod_results)\n",
    "    results['u'].append(umod_results)\n",
    "    results['m'].append(mod_results)\n",
    "\n",
    "    # print(kwargs)"
   ]
  },
  {
   "cell_type": "code",
   "execution_count": null,
   "id": "indoor-regular",
   "metadata": {},
   "outputs": [],
   "source": [
    "plt.plot(range(start, end), [i[1] for i in results['u']], '*-', label='u')\n",
    "plt.plot(range(start, end), [i[1] for i in results['m']], '*-', label='m')\n",
    "plt.legend()"
   ]
  },
  {
   "cell_type": "code",
   "execution_count": null,
   "id": "technical-suite",
   "metadata": {},
   "outputs": [],
   "source": [
    "#plt.plot(range(-10, n), [i[3] for i in results['p']], '*-', label='p')\n",
    "plt.plot(range(start, end), [abs(i[3] - i[4]) for i in results['u']], '*-', label='p-u')\n",
    "#plt.plot(range(-10, n), [i[2] for i in results['m']], '*-', label='m')\n",
    "plt.legend()"
   ]
  },
  {
   "cell_type": "code",
   "execution_count": 58,
   "id": "associate-equilibrium",
   "metadata": {},
   "outputs": [
    {
     "name": "stdout",
     "output_type": "stream",
     "text": [
      "{'mu_ps': {'p': 10, 'u': 4}, 'sigma_ps': {'p': 2, 'u': 5}, 'mu_ns': {'p': 0, 'u': 2}, 'sigma_ns': {'p': 2, 'u': 5}}\n",
      "alpha 0.25\n",
      "pmod_results\t0.0542\t1.2153\t0.2153\t0.8247\t0.9954\t0.6540\t0.9944\t0.0043\t0.4200\t0.2680\n",
      "umod_results\t0.1662\t1.5149\t0.5149\t0.7475\t0.9272\t0.5678\t1.0000\t0.0971\t0.6136\t0.4475\n",
      "mod_results\t0.0976\t1.3745\t0.3745\t0.8122\t0.9894\t0.6350\t1.0000\t0.0141\t0.4864\t0.3155\n",
      "alpha 0.5\n",
      "pmod_results\t-0.1576\t0.6842\t0.3158\t0.7838\t0.9950\t0.5726\t0.9940\t0.0040\t0.4140\t0.2688\n",
      "umod_results\t-0.0206\t0.9623\t0.0377\t0.7661\t0.9534\t0.5788\t1.0000\t0.0932\t0.6048\t0.4472\n",
      "mod_results\t-0.1070\t0.7885\t0.2115\t0.7857\t0.9926\t0.5788\t0.9984\t0.0132\t0.4776\t0.3200\n",
      "alpha 0.75\n",
      "pmod_results\t-0.3686\t0.5058\t0.4942\t0.7449\t0.9938\t0.4960\t0.9931\t0.0040\t0.4155\t0.2624\n",
      "umod_results\t-0.2212\t0.7138\t0.2862\t0.7836\t0.9770\t0.5902\t1.0000\t0.0920\t0.5947\t0.4232\n",
      "mod_results\t-0.3156\t0.5801\t0.4199\t0.7626\t0.9956\t0.5296\t0.9981\t0.0120\t0.4771\t0.3128\n"
     ]
    }
   ],
   "source": [
    "dist = {\n",
    "    'mu_ps': {'p': 10, 'u': 4},\n",
    "    'sigma_ps': {'p': 2, 'u': 5},\n",
    "    'mu_ns': {'p': 0, 'u': 2},\n",
    "    'sigma_ns': {'p': 2, 'u': 5},\n",
    "}\n",
    "\n",
    "results = {'p' : [], 'u': [], 'm': []}\n",
    "temp_dist = deepcopy(dist)\n",
    "kwargs['dist'] = temp_dist\n",
    "print(kwargs['dist'])   \n",
    "model_type = GaussianNB\n",
    "\n",
    "for alpha in [0.25, 0.5, 0.75]:\n",
    "    print('alpha', alpha)\n",
    "    kwargs['alpha'] = alpha\n",
    "    kwargs['verbose'] = False\n",
    "    train_fd, test_fd = get_datasets(10000, 0, 1, kwargs, test_random_state=23)\n",
    "    pmod, pmod_results = get_groupwise_performance(train_fd, test_fd, model_type,\n",
    "                                                   privileged=True, pos_rate=True)\n",
    "    umod, umod_results = get_groupwise_performance(train_fd, test_fd, model_type,\n",
    "                                                   privileged=False, pos_rate=True)\n",
    "    mod, mod_results = get_groupwise_performance(train_fd, test_fd, model_type,\n",
    "                                                 privileged=None, pos_rate=True)\n",
    "    if kwargs['verbose']:\n",
    "        print('Theta')\n",
    "        print(pmod.theta_)\n",
    "        print(umod.theta_)\n",
    "        print(mod.theta_)\n",
    "\n",
    "        print('Sigma')\n",
    "        print(pmod.sigma_)\n",
    "        print(umod.sigma_)\n",
    "        print(mod.sigma_)\n",
    "    \n",
    "    is_u_optimal = umod_results[4] > pmod_results[4]\n",
    "    is_p_optimal = pmod_results[3] > umod_results[3]\n",
    "    is_m_optimal = mod_results[2] > umod_results[2] and mod_results[2] > pmod_results[2]\n",
    "\n",
    "    opt_diff = is_u_optimal and is_p_optimal and is_m_optimal\n",
    "\n",
    "    violates = mod_results[1] > umod_results[1] and mod_results[1] > pmod_results[1]\n",
    "\n",
    "    # print(opt_diff)\n",
    "\n",
    "    # print('Violates', opt_diff and violates)\n",
    "\n",
    "    \n",
    "    print('pmod_results', *['{:.4f}'.format(i) for i in pmod_results], sep='\\t')\n",
    "    print('umod_results', *['{:.4f}'.format(i) for i in umod_results], sep='\\t')\n",
    "    print('mod_results', *['{:.4f}'.format(i) for i in mod_results], sep='\\t')\n"
   ]
  },
  {
   "cell_type": "code",
   "execution_count": 60,
   "id": "human-specialist",
   "metadata": {},
   "outputs": [
    {
     "data": {
      "text/plain": [
       "<matplotlib.legend.Legend at 0x2567965eb50>"
      ]
     },
     "execution_count": 60,
     "metadata": {},
     "output_type": "execute_result"
    },
    {
     "data": {
      "image/png": "[encoded data removed]",
      "text/plain": [
       "<Figure size 432x288 with 1 Axes>"
      ]
     },
     "metadata": {
      "needs_background": "light"
     },
     "output_type": "display_data"
    }
   ],
   "source": [
    "plot_normal(10, 2, label='P Neg')\n",
    "plot_normal(0, 2, label='P Pos')\n",
    "# plt.vlines(5, 0, 0.2, label = 'P Boundary', color='red')\n",
    "plot_normal(2, 5, label='U Neg')\n",
    "plot_normal(4, 5, label='U Pos')\n",
    "plt.vlines(5, 0, 0.2, label = 'U Boundary', color='blue')\n",
    "# plot_non_linear_boundary(, mu2, sigma1, sigma2, p, d, label=None)\n",
    "# plot_normal(1.5, 4.09, label='Pos')\n",
    "# plot_normal(11.5, 4.09, label='Neg')\n",
    "# plt.vlines(4, 0, 0.2, label='Boundary', color='orange')\n",
    "# plt.xlim(-25, 35)\n",
    "# plt.ylim(-0.005, 0.205)\n",
    "plt.legend()"
   ]
  },
  {
   "cell_type": "code",
   "execution_count": null,
   "id": "physical-birthday",
   "metadata": {},
   "outputs": [],
   "source": [
    "test_fd_x, test_fd_y = test_fd.get_xy(keep_protected=False)\n",
    "print(np.unique(test_fd_y, return_counts=True)), \n",
    "np.unique(umod.predict(test_fd_x), return_counts=True)"
   ]
  },
  {
   "cell_type": "code",
   "execution_count": null,
   "id": "killing-specific",
   "metadata": {},
   "outputs": [],
   "source": [
    "umod.__dict__"
   ]
  },
  {
   "cell_type": "code",
   "execution_count": 10,
   "id": "devoted-liability",
   "metadata": {},
   "outputs": [
    {
     "name": "stdout",
     "output_type": "stream",
     "text": [
      "{'TP': 1250.0, 'FP': 364.0, 'TN': 3386.0, 'FN': 0.0}\n",
      "{'TP': 767.0, 'FP': 1678.0, 'TN': 2072.0, 'FN': 483.0}\n",
      "{'TP': 2017.0, 'FP': 2042.0, 'TN': 5458.0, 'FN': 483.0}\n",
      "1.0\n",
      "0.09706666666666666\n",
      "0.6136\n",
      "0.4474666666666667\n"
     ]
    }
   ],
   "source": [
    "unprivileged_groups = test_fd.unprivileged_groups\n",
    "privileged_groups = test_fd.privileged_groups\n",
    "\n",
    "\n",
    "test_fd_pred = test_fd.copy()\n",
    "test_fd_x, test_fd_y = test_fd.get_xy(keep_protected=False)\n",
    "test_fd_pred.labels = umod.predict(test_fd_x)\n",
    "\n",
    "metrics = ClassificationMetric(test_fd,\n",
    "                               test_fd_pred,\n",
    "                               privileged_groups=privileged_groups,\n",
    "                               unprivileged_groups=unprivileged_groups)\n",
    "\n",
    "print(metrics.binary_confusion_matrix(privileged=True))\n",
    "print(metrics.binary_confusion_matrix(privileged=False))\n",
    "print(metrics.binary_confusion_matrix(privileged=None))\n",
    "for pg in [True, False]:\n",
    "    for sr in [True, False]:\n",
    "        print(get_positive_rate(metrics, pg, sr))"
   ]
  },
  {
   "cell_type": "code",
   "execution_count": null,
   "id": "personalized-duration",
   "metadata": {},
   "outputs": [],
   "source": [
    "unprivileged_groups = test_fd.unprivileged_groups\n",
    "privileged_groups = test_fd.privileged_groups\n",
    "\n",
    "\n",
    "test_fd_pred = test_fd.copy()\n",
    "test_fd_x, test_fd_y = test_fd.get_xy(keep_protected=False)\n",
    "test_fd_pred.labels = pmod.predict(test_fd_x)\n",
    "\n",
    "metrics = ClassificationMetric(test_fd,\n",
    "                               test_fd_pred,\n",
    "                               privileged_groups=privileged_groups,\n",
    "                               unprivileged_groups=unprivileged_groups)\n",
    "\n",
    "print(metrics.binary_confusion_matrix(privileged=True))\n",
    "print(metrics.binary_confusion_matrix(privileged=False))\n",
    "print(metrics.binary_confusion_matrix(privileged=None))\n",
    "for pg in [True, False]:\n",
    "    for sr in [True, False]:\n",
    "        print(get_positive_rate(metrics, pg, sr))"
   ]
  },
  {
   "cell_type": "code",
   "execution_count": null,
   "id": "strange-appliance",
   "metadata": {},
   "outputs": [],
   "source": [
    "umod.__dict__"
   ]
  },
  {
   "cell_type": "code",
   "execution_count": 36,
   "id": "alive-identifier",
   "metadata": {},
   "outputs": [
    {
     "name": "stdout",
     "output_type": "stream",
     "text": [
      "{'TP': 2877.0, 'FP': 1250.0, 'TN': 0.0, 'FN': 873.0}\n",
      "{'TP': 2807.0, 'FP': 1065.0, 'TN': 185.0, 'FN': 943.0}\n",
      "{'TP': 5684.0, 'FP': 2315.0, 'TN': 185.0, 'FN': 1816.0}\n",
      "0.7672\n",
      "1.0\n",
      "0.7485333333333334\n",
      "0.852\n"
     ]
    }
   ],
   "source": [
    "umod.theta_ = np.array([[8, 7, 7], [6, 7, 7]])\n",
    "umod.sigma_ = np.array([[25, 81, 81], [25, 49, 49]])\n",
    "umod.class_prior_ = np.array([0.5, 0.5])\n",
    "unprivileged_groups = test_fd.unprivileged_groups\n",
    "privileged_groups = test_fd.privileged_groups\n",
    "\n",
    "\n",
    "test_fd_pred = test_fd.copy()\n",
    "test_fd_x, test_fd_y = test_fd.get_xy(keep_protected=False)\n",
    "test_fd_pred.labels = umod.predict(test_fd_x)\n",
    "\n",
    "metrics = ClassificationMetric(test_fd,\n",
    "                               test_fd_pred,\n",
    "                               privileged_groups=privileged_groups,\n",
    "                               unprivileged_groups=unprivileged_groups)\n",
    "\n",
    "print(metrics.binary_confusion_matrix(privileged=True))\n",
    "print(metrics.binary_confusion_matrix(privileged=False))\n",
    "print(metrics.binary_confusion_matrix(privileged=None))\n",
    "\n",
    "for pg in [True, False]:\n",
    "    for sr in [True, False]:\n",
    "        print(get_positive_rate(metrics, pg, sr))"
   ]
  },
  {
   "cell_type": "code",
   "execution_count": null,
   "id": "civic-explosion",
   "metadata": {},
   "outputs": [],
   "source": [
    "(0.8712*0.25 + 0.75*0.43573333) / (0.25*0.6024 +0.75*0.557066)"
   ]
  },
  {
   "cell_type": "code",
   "execution_count": null,
   "id": "muslim-application",
   "metadata": {},
   "outputs": [],
   "source": []
  }
 ],
 "metadata": {
  "kernelspec": {
   "display_name": "Python 3",
   "language": "python",
   "name": "python3"
  },
  "language_info": {
   "codemirror_mode": {
    "name": "ipython",
    "version": 3
   },
   "file_extension": ".py",
   "mimetype": "text/x-python",
   "name": "python",
   "nbconvert_exporter": "python",
   "pygments_lexer": "ipython3",
   "version": "3.8.0"
  }
 },
 "nbformat": 4,
 "nbformat_minor": 5
}
