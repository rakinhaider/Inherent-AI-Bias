{
 "cells": [
  {
   "cell_type": "code",
   "execution_count": 1,
   "id": "novel-doctor",
   "metadata": {},
   "outputs": [],
   "source": [
    "import sys\n",
    "sys.path.insert(1, \"../\")\n",
    "\n",
    "import importlib\n",
    "import matplotlib.pyplot as plt\n",
    "import matplotlib\n",
    "%matplotlib inline\n",
    "import numpy as np\n",
    "from sklearn.linear_model import LogisticRegression \n",
    "from sklearn.tree import DecisionTreeClassifier\n",
    "from sklearn.naive_bayes import GaussianNB"
   ]
  },
  {
   "cell_type": "code",
   "execution_count": 2,
   "id": "ready-morrison",
   "metadata": {},
   "outputs": [],
   "source": [
    "def reload_modules():\n",
    "    import ghost_unfairness\n",
    "    importlib.reload(ghost_unfairness.fair_dataset)\n",
    "    importlib.reload(ghost_unfairness.utils)\n",
    "    \n",
    "reload_modules()\n",
    "\n",
    "from ghost_unfairness.fair_dataset import FairDataset, default_mappings\n",
    "\n",
    "from ghost_unfairness.utils import *"
   ]
  },
  {
   "cell_type": "code",
   "execution_count": 3,
   "id": "polish-collaboration",
   "metadata": {},
   "outputs": [],
   "source": [
    "protected = [\"sex\"]\n",
    "privileged_classes = [['Male']]\n",
    "metadata = default_mappings.copy()\n",
    "metadata['protected_attribute_maps'] = [{1.0: 'Male', 0.0: 'Female'}]\n",
    "\n",
    "alpha = 0.5\n",
    "beta = 1\n",
    "\n",
    "kwargs = {'protected_attribute_names': protected,\n",
    "          'privileged_classes': [['Male']],\n",
    "          'metadata':metadata,\n",
    "          'favorable_classes': [1],\n",
    "          'beta': beta,\n",
    "          'alpha': alpha,\n",
    "          'ds': True\n",
    "         }\n",
    "\n",
    "random_state = 47\n",
    "model_type = GaussianNB"
   ]
  },
  {
   "cell_type": "code",
   "execution_count": 4,
   "id": "willing-gambling",
   "metadata": {
    "scrolled": true
   },
   "outputs": [
    {
     "name": "stdout",
     "output_type": "stream",
     "text": [
      "{'mu_ps': {'p': 4, 'u': 1}, 'sigma_ps': {'p': 2, 'u': 5}, 'mu_ns': {'p': 3, 'u': 0}, 'sigma_ns': {'p': 2, 'u': 5}}\n",
      "False\n",
      "Violates False\n",
      "pmod_results\t-0.0008000000000000229\t0.9983964722389256\t0.0016035277610744192\t0.5525\t0.5991\t0.5059\t0.598\t0.3998\t0.504\t0.4922\n",
      "umod_results\t0.012799999999999978\t1.0257389905489644\t0.025738990548964447\t0.5214\t0.5029\t0.5399\t0.5002\t0.4944\t0.55\t0.4702\n",
      "mod_results\t0.0024999999999999467\t1.0048933255040124\t0.004893325504012447\t0.55225\t0.5859\t0.5186\t0.5968\t0.425\t0.532\t0.4948\n",
      "{'mu_ps': {'p': 5, 'u': 2}, 'sigma_ps': {'p': 2, 'u': 5}, 'mu_ns': {'p': 3, 'u': 0}, 'sigma_ns': {'p': 2, 'u': 5}}\n",
      "False\n",
      "Violates False\n",
      "pmod_results\t-0.0006999999999999784\t0.9985963505113294\t0.0014036494886705553\t0.59745\t0.6893\t0.5056\t0.688\t0.3094\t0.5036\t0.4924\n",
      "umod_results\t0.0131\t1.0265773990667477\t0.02657739906674772\t0.54465\t0.5099\t0.5794\t0.5028\t0.483\t0.5854\t0.4266\n",
      "mod_results\t-0.0012999999999999678\t0.9974257425742575\t0.0025742574257424655\t0.60455\t0.6746\t0.5345\t0.6796\t0.3304\t0.5382\t0.4692\n",
      "{'mu_ps': {'p': 6, 'u': 3}, 'sigma_ps': {'p': 2, 'u': 5}, 'mu_ns': {'p': 3, 'u': 0}, 'sigma_ns': {'p': 2, 'u': 5}}\n",
      "False\n",
      "Violates False\n",
      "pmod_results\t-0.0025000000000000022\t0.9950089838291076\t0.004991016170892371\t0.63645\t0.7673\t0.5056\t0.7682\t0.2336\t0.504\t0.4928\n",
      "umod_results\t0.015300000000000036\t1.0311926605504589\t0.031192660550458884\t0.56375\t0.5109\t0.6166\t0.5014\t0.4796\t0.6224\t0.3892\n",
      "mod_results\t-0.006399999999999961\t0.9873141724479684\t0.012685827552031625\t0.6524\t0.7517\t0.5531\t0.7562\t0.2528\t0.5512\t0.445\n",
      "{'mu_ps': {'p': 7, 'u': 4}, 'sigma_ps': {'p': 2, 'u': 5}, 'mu_ns': {'p': 3, 'u': 0}, 'sigma_ns': {'p': 2, 'u': 5}}\n",
      "False\n",
      "Violates False\n",
      "pmod_results\t-0.0048000000000000265\t0.990453460620525\t0.009546539379475028\t0.6705\t0.8352\t0.5058\t0.838\t0.1676\t0.5038\t0.4922\n",
      "umod_results\t0.01899999999999996\t1.0390625\t0.0390625\t0.583\t0.5104\t0.6556\t0.4968\t0.476\t0.661\t0.3498\n",
      "mod_results\t-0.011499999999999955\t0.9772906793048974\t0.022709320695102564\t0.69435\t0.8144\t0.5743\t0.8208\t0.192\t0.5692\t0.4206\n",
      "{'mu_ps': {'p': 8, 'u': 5}, 'sigma_ps': {'p': 2, 'u': 5}, 'mu_ns': {'p': 3, 'u': 0}, 'sigma_ns': {'p': 2, 'u': 5}}\n",
      "False\n",
      "Violates False\n",
      "pmod_results\t-0.0025000000000000577\t0.9950069902137008\t0.004993009786299241\t0.69945\t0.8931\t0.5058\t0.8938\t0.1076\t0.504\t0.4924\n",
      "umod_results\t0.020399999999999974\t1.0422360248447204\t0.04223602484472044\t0.6009\t0.5094\t0.6924\t0.4924\t0.4736\t0.6958\t0.311\n",
      "mod_results\t-0.013899999999999968\t0.9725892328929205\t0.02741076710707946\t0.73155\t0.8649\t0.5982\t0.872\t0.1422\t0.5914\t0.395\n",
      "{'mu_ps': {'p': 9, 'u': 6}, 'sigma_ps': {'p': 2, 'u': 5}, 'mu_ns': {'p': 3, 'u': 0}, 'sigma_ns': {'p': 2, 'u': 5}}\n",
      "False\n",
      "Violates False\n",
      "pmod_results\t-0.0037000000000000366\t0.992625074745864\t0.007374925254135967\t0.71825\t0.9307\t0.5058\t0.9324\t0.071\t0.5038\t0.4922\n",
      "umod_results\t0.019999999999999962\t1.041631973355537\t0.04163197335553703\t0.6181\t0.5088\t0.7274\t0.4892\t0.4716\t0.7278\t0.273\n",
      "mod_results\t-0.010099999999999942\t0.9799364322606279\t0.020063567739372123\t0.76305\t0.9024\t0.6237\t0.9058\t0.101\t0.617\t0.3696\n",
      "{'mu_ps': {'p': 10, 'u': 7}, 'sigma_ps': {'p': 2, 'u': 5}, 'mu_ns': {'p': 3, 'u': 0}, 'sigma_ns': {'p': 2, 'u': 5}}\n",
      "False\n",
      "Violates False\n",
      "pmod_results\t-0.0041999999999999815\t0.991640127388535\t0.00835987261146498\t0.7314\t0.9572\t0.5056\t0.9596\t0.0452\t0.5038\t0.4926\n",
      "umod_results\t0.022999999999999965\t1.0481675392670156\t0.04816753926701556\t0.6346\t0.5091\t0.7601\t0.4866\t0.4684\t0.7606\t0.2404\n",
      "mod_results\t-0.006299999999999972\t0.98740755546672\t0.012592444533280012\t0.79035\t0.9293\t0.6514\t0.9296\t0.071\t0.6454\t0.3426\n",
      "{'mu_ps': {'p': 11, 'u': 8}, 'sigma_ps': {'p': 2, 'u': 5}, 'mu_ns': {'p': 3, 'u': 0}, 'sigma_ns': {'p': 2, 'u': 5}}\n",
      "False\n",
      "Violates False\n",
      "pmod_results\t-0.0026000000000000467\t0.9948062325209748\t0.005193767479025224\t0.741\t0.9762\t0.5058\t0.9768\t0.0244\t0.5038\t0.4922\n",
      "umod_results\t0.027000000000000024\t1.056866048862679\t0.0568660488626791\t0.651\t0.5094\t0.7926\t0.4842\t0.4654\t0.7944\t0.2092\n",
      "mod_results\t-0.006799999999999973\t0.9864622735417082\t0.013537726458291766\t0.8152\t0.9479\t0.6825\t0.9502\t0.0544\t0.678\t0.313\n",
      "{'mu_ps': {'p': 12, 'u': 9}, 'sigma_ps': {'p': 2, 'u': 5}, 'mu_ns': {'p': 3, 'u': 0}, 'sigma_ns': {'p': 2, 'u': 5}}\n",
      "False\n",
      "Violates False\n",
      "pmod_results\t-0.0015999999999999903\t0.9967974379503604\t0.0032025620496396456\t0.7473\t0.9888\t0.5058\t0.9884\t0.0108\t0.5038\t0.4922\n",
      "umod_results\t0.03060000000000007\t1.0649681528662422\t0.06496815286624225\t0.6641\t0.5094\t0.8188\t0.4804\t0.4616\t0.8204\t0.1828\n",
      "mod_results\t-0.004699999999999982\t0.9906560636182903\t0.009343936381709717\t0.83865\t0.9608\t0.7165\t0.9638\t0.0422\t0.7148\t0.2818\n",
      "{'mu_ps': {'p': 13, 'u': 10}, 'sigma_ps': {'p': 2, 'u': 5}, 'mu_ns': {'p': 3, 'u': 0}, 'sigma_ns': {'p': 2, 'u': 5}}\n",
      "False\n",
      "Violates False\n",
      "pmod_results\t-0.0019000000000000128\t0.9961992398479695\t0.003800760152030458\t0.74975\t0.9939\t0.5056\t0.9938\t0.006\t0.5036\t0.4924\n",
      "umod_results\t0.03470000000000001\t1.07425636635994\t0.07425636635994004\t0.67555\t0.5087\t0.8424\t0.476\t0.4586\t0.8444\t0.1596\n",
      "mod_results\t-0.005699999999999927\t0.988679245283019\t0.011320754716981019\t0.86005\t0.9717\t0.7484\t0.9752\t0.0318\t0.7462\t0.2494\n",
      "{'mu_ps': {'p': 14, 'u': 11}, 'sigma_ps': {'p': 2, 'u': 5}, 'mu_ns': {'p': 3, 'u': 0}, 'sigma_ns': {'p': 2, 'u': 5}}\n",
      "False\n",
      "Violates False\n",
      "pmod_results\t-0.0022000000000000353\t0.9955991198239648\t0.004400880176035238\t0.7512\t0.9967\t0.5057\t0.9966\t0.0032\t0.5034\t0.492\n",
      "umod_results\t0.03739999999999999\t1.0804647160068848\t0.08046471600688476\t0.6884\t0.509\t0.8678\t0.4738\t0.4558\t0.87\t0.1344\n",
      "mod_results\t-0.0010000000000000009\t0.9980103461997613\t0.0019896538002387443\t0.8787\t0.9798\t0.7776\t0.9824\t0.0228\t0.7792\t0.224\n",
      "{'mu_ps': {'p': 15, 'u': 12}, 'sigma_ps': {'p': 2, 'u': 5}, 'mu_ns': {'p': 3, 'u': 0}, 'sigma_ns': {'p': 2, 'u': 5}}\n",
      "False\n",
      "Violates False\n",
      "pmod_results\t-0.0020000000000000018\t0.995995995995996\t0.004004004004004025\t0.7522\t0.9987\t0.5057\t0.9982\t0.0008\t0.5032\t0.4918\n",
      "umod_results\t0.03989999999999999\t1.0865509761388286\t0.08655097613882856\t0.69955\t0.5094\t0.8897\t0.4704\t0.4516\t0.8906\t0.1112\n",
      "mod_results\t0.0015999999999999348\t1.0031828128108213\t0.003182812810821334\t0.8954\t0.9845\t0.8063\t0.9872\t0.0182\t0.8106\t0.198\n",
      "{'mu_ps': {'p': 16, 'u': 13}, 'sigma_ps': {'p': 2, 'u': 5}, 'mu_ns': {'p': 3, 'u': 0}, 'sigma_ns': {'p': 2, 'u': 5}}\n",
      "False\n",
      "Violates False\n",
      "pmod_results\t-0.0025000000000000022\t0.99499899979996\t0.005001000200040018\t0.75255\t0.9995\t0.5056\t0.9994\t0.0004\t0.503\t0.4918\n",
      "umod_results\t0.04150000000000004\t1.0906509392747925\t0.09065093927479251\t0.70855\t0.5096\t0.9075\t0.4674\t0.4482\t0.9068\t0.0918\n",
      "mod_results\t0.0018000000000000238\t1.003587086488641\t0.0035870864886409226\t0.911\t0.9886\t0.8334\t0.9904\t0.0132\t0.837\t0.1702\n",
      "{'mu_ps': {'p': 17, 'u': 14}, 'sigma_ps': {'p': 2, 'u': 5}, 'mu_ns': {'p': 3, 'u': 0}, 'sigma_ns': {'p': 2, 'u': 5}}\n",
      "False\n",
      "Violates False\n",
      "pmod_results\t-0.0027000000000000357\t0.9945989197839568\t0.005401080216043241\t0.75255\t0.9997\t0.5054\t0.9996\t0.0002\t0.5026\t0.4918\n",
      "umod_results\t0.04259999999999997\t1.0935236004390778\t0.09352360043907781\t0.7158\t0.5093\t0.9223\t0.4648\t0.4462\t0.9204\t0.0758\n",
      "mod_results\t0.0016000000000000458\t1.0031904287138584\t0.0031904287138584397\t0.9246\t0.9913\t0.8579\t0.9928\t0.0102\t0.861\t0.1452\n",
      "{'mu_ps': {'p': 18, 'u': 15}, 'sigma_ps': {'p': 2, 'u': 5}, 'mu_ns': {'p': 3, 'u': 0}, 'sigma_ns': {'p': 2, 'u': 5}}\n",
      "False\n",
      "Violates False\n",
      "pmod_results\t-0.0027000000000000357\t0.9945989197839568\t0.005401080216043241\t0.75275\t0.9999\t0.5056\t0.9998\t0.0\t0.5028\t0.4916\n",
      "umod_results\t0.045899999999999996\t1.1013916500994037\t0.10139165009940365\t0.72325\t0.5105\t0.936\t0.4632\t0.4422\t0.9346\t0.0626\n",
      "mod_results\t0.0020999999999999908\t1.0041941282204914\t0.004194128220491367\t0.93575\t0.9935\t0.878\t0.9942\t0.0072\t0.8808\t0.1248\n",
      "{'mu_ps': {'p': 19, 'u': 16}, 'sigma_ps': {'p': 2, 'u': 5}, 'mu_ns': {'p': 3, 'u': 0}, 'sigma_ns': {'p': 2, 'u': 5}}\n",
      "False\n",
      "Violates False\n",
      "pmod_results\t-0.0028000000000000247\t0.9944\t0.005600000000000049\t0.7528\t1.0\t0.5056\t1.0\t0.0\t0.5028\t0.4916\n",
      "umod_results\t0.04909999999999998\t1.1094516272848862\t0.10945162728488622\t0.72955\t0.5104\t0.9487\t0.459\t0.4382\t0.9464\t0.049\n",
      "mod_results\t0.00039999999999995595\t1.0007988815658078\t0.000798881565807763\t0.9459\t0.9943\t0.8975\t0.995\t0.0064\t0.8986\t0.1036\n",
      "{'mu_ps': {'p': 20, 'u': 17}, 'sigma_ps': {'p': 2, 'u': 5}, 'mu_ns': {'p': 3, 'u': 0}, 'sigma_ns': {'p': 2, 'u': 5}}\n",
      "False\n",
      "Violates False\n",
      "pmod_results\t-0.0028000000000000247\t0.9944\t0.005600000000000049\t0.7528\t1.0\t0.5056\t1.0\t0.0\t0.5028\t0.4916\n",
      "umod_results\t0.051600000000000035\t1.115772941440431\t0.11577294144043093\t0.734\t0.5091\t0.9589\t0.4548\t0.4366\t0.9562\t0.0384\n",
      "mod_results\t-0.00040000000000006697\t0.9992009588493806\t0.0007990411506193507\t0.9548\t0.9954\t0.9142\t0.996\t0.0052\t0.9144\t0.086\n",
      "{'mu_ps': {'p': 21, 'u': 18}, 'sigma_ps': {'p': 2, 'u': 5}, 'mu_ns': {'p': 3, 'u': 0}, 'sigma_ns': {'p': 2, 'u': 5}}\n"
     ]
    },
    {
     "name": "stdout",
     "output_type": "stream",
     "text": [
      "False\n",
      "Violates False\n",
      "pmod_results\t-0.0028000000000000247\t0.9944\t0.005600000000000049\t0.7528\t1.0\t0.5056\t1.0\t0.0\t0.5028\t0.4916\n",
      "umod_results\t0.05629999999999996\t1.1271167306389702\t0.12711673063897022\t0.73865\t0.5089\t0.9684\t0.4518\t0.434\t0.9676\t0.0308\n",
      "mod_results\t0.0006000000000000449\t1.0011988011988013\t0.0011988011988013358\t0.9639\t0.9965\t0.9313\t0.997\t0.004\t0.9324\t0.0698\n",
      "{'mu_ps': {'p': 22, 'u': 19}, 'sigma_ps': {'p': 2, 'u': 5}, 'mu_ns': {'p': 3, 'u': 0}, 'sigma_ns': {'p': 2, 'u': 5}}\n",
      "False\n",
      "Violates False\n",
      "pmod_results\t-0.0029000000000000137\t0.9942\t0.005800000000000027\t0.75285\t1.0\t0.5057\t1.0\t0.0\t0.5028\t0.4914\n",
      "umod_results\t0.05940000000000001\t1.135092108255629\t0.1350921082556289\t0.7419\t0.5089\t0.9749\t0.4486\t0.4308\t0.974\t0.0242\n",
      "mod_results\t0.0034999999999999476\t1.0070014002800558\t0.007001400280055803\t0.97005\t0.9973\t0.9428\t0.9972\t0.0026\t0.9462\t0.0606\n"
     ]
    }
   ],
   "source": [
    "from copy import deepcopy\n",
    "dist = {\n",
    "    'mu_ps': {'p': 3, 'u': 0},\n",
    "    'sigma_ps': {'p': 2, 'u': 5},\n",
    "    'mu_ns': {'p': 3, 'u': 0},\n",
    "    'sigma_ns': {'p': 2, 'u': 5},\n",
    "}\n",
    "\n",
    "results = {'p' : [], 'u': [], 'm': []}\n",
    "deltas = []\n",
    "start = 1\n",
    "end = 20\n",
    "for i in range(start, end):\n",
    "    temp_dist = deepcopy(dist)\n",
    "    mu_ps = temp_dist['mu_ps']\n",
    "    for k in mu_ps:\n",
    "        mu_ps[k] = mu_ps[k] + i\n",
    "    kwargs['dist'] = temp_dist\n",
    "    print(kwargs['dist'])    \n",
    "    \n",
    "    kwargs['verbose'] = False\n",
    "    train_fd, test_fd = get_datasets(10000, 2, 1, kwargs, test_random_state=23)\n",
    "    pmod, pmod_results = get_groupwise_performance(train_fd, train_fd, model_type,\n",
    "                                                   privileged=True, pos_rate=True)\n",
    "    umod, umod_results = get_groupwise_performance(train_fd, train_fd, model_type,\n",
    "                                                   privileged=False, pos_rate=True)\n",
    "    mod, mod_results = get_groupwise_performance(train_fd, train_fd, model_type,\n",
    "                                                 privileged=None, pos_rate=True)\n",
    "    \n",
    "    # is_u_optimal = umod_results[4] >= pmod_results[4] and umod_results[4] >= mod_results[4] \n",
    "    is_u_optimal = umod_results[4] > pmod_results[4]\n",
    "    # is_p_optimal = pmod_results[3] >= umod_results[3] and pmod_results[3] >= mod_results[3]\n",
    "    is_p_optimal = pmod_results[3] > umod_results[3]\n",
    "    is_m_optimal = mod_results[2] > umod_results[2] and mod_results[2] > pmod_results[2]\n",
    "    \n",
    "    opt_diff = is_u_optimal and is_p_optimal and is_m_optimal\n",
    "    \n",
    "    violates = mod_results[1] > umod_results[1] and mod_results[1] > pmod_results[1]\n",
    "    \n",
    "    kwargs['verbose'] = True\n",
    "    if kwargs['verbose']:\n",
    "        print(opt_diff)\n",
    "    \n",
    "        print('Violates', opt_diff and violates)\n",
    "    \n",
    "        print('pmod_results', *pmod_results, sep='\\t')\n",
    "        print('umod_results', *umod_results, sep='\\t')\n",
    "        print('mod_results', *mod_results, sep='\\t')\n",
    "    assert not (opt_diff and violates)\n",
    "    \n",
    "    # if opt_diff and not violates:\n",
    "    results['p'].append(pmod_results)\n",
    "    results['u'].append(umod_results)\n",
    "    results['m'].append(mod_results)\n",
    "\n",
    "    # print(kwargs)"
   ]
  },
  {
   "cell_type": "code",
   "execution_count": 5,
   "id": "precise-consent",
   "metadata": {},
   "outputs": [
    {
     "data": {
      "text/plain": [
       "<matplotlib.legend.Legend at 0x20dc8037940>"
      ]
     },
     "execution_count": 5,
     "metadata": {},
     "output_type": "execute_result"
    },
    {
     "data": {
      "image/png": "[encoded data removed]",
      "text/plain": [
       "<Figure size 432x288 with 1 Axes>"
      ]
     },
     "metadata": {
      "needs_background": "light"
     },
     "output_type": "display_data"
    }
   ],
   "source": [
    "plt.plot(range(start, end), [i[1] for i in results['p']], '*-', label='p')\n",
    "plt.plot(range(start, end), [i[1] for i in results['u']], '*-', label='u')\n",
    "plt.plot(range(start, end), [i[1] for i in results['m']], '*-', label='m')\n",
    "plt.legend()"
   ]
  },
  {
   "cell_type": "code",
   "execution_count": 6,
   "id": "functioning-resource",
   "metadata": {},
   "outputs": [
    {
     "name": "stdout",
     "output_type": "stream",
     "text": [
      "-0.08299999999999996 0.00024999999999997247\n",
      "-0.012699999999999934 0.0011999999999999789 0.06940000000000002 0.018000000000000016\n",
      "-0.16469999999999996 -0.007099999999999995\n",
      "-0.028899999999999926 0.008399999999999963 0.15259999999999996 0.04720000000000002\n",
      "-0.24080000000000001 -0.01595000000000002\n",
      "-0.04749999999999999 0.01200000000000001 0.2268 0.07119999999999993\n",
      "-0.30400000000000005 -0.023850000000000038\n",
      "-0.0685 0.017199999999999993 0.284 0.09179999999999999\n",
      "-0.35550000000000004 -0.03210000000000002\n",
      "-0.09239999999999993 0.02180000000000004 0.33140000000000003 0.10439999999999994\n",
      "-0.39359999999999995 -0.04479999999999995\n",
      "-0.1179 0.026599999999999957 0.37060000000000004 0.11080000000000001\n",
      "-0.4202 -0.05894999999999995\n",
      "-0.14579999999999993 0.030000000000000027 0.3974 0.11520000000000008\n",
      "-0.4385 -0.07420000000000004\n",
      "-0.17669999999999997 0.026599999999999957 0.411 0.11639999999999995\n",
      "-0.4514 -0.09135000000000004\n",
      "-0.2107 0.024599999999999955 0.4194 0.10560000000000003\n",
      "-0.46299999999999997 -0.11029999999999995\n",
      "-0.2427999999999999 0.01860000000000006 0.4268 0.09820000000000007\n",
      "-0.4708 -0.12750000000000006\n",
      "-0.2718999999999999 0.01419999999999999 0.433 0.09079999999999999\n",
      "-0.4751000000000001 -0.1432\n",
      "-0.3006 0.01100000000000001 0.4334 0.07999999999999996\n",
      "-0.479 -0.15844999999999998\n",
      "-0.3278 0.009000000000000008 0.435 0.06980000000000008\n",
      "-0.482 -0.17204999999999993\n",
      "-0.35250000000000004 0.006800000000000028 0.436 0.05940000000000001\n",
      "-0.4830000000000001 -0.18299999999999994\n",
      "-0.37239999999999995 0.005600000000000049 0.435 0.05379999999999996\n",
      "-0.4839 -0.19309999999999994\n",
      "-0.3918999999999999 0.0050000000000000044 0.43179999999999996 0.047800000000000065\n",
      "-0.48629999999999995 -0.20199999999999996\n",
      "-0.40859999999999996 0.0040000000000000036 0.4314 0.04180000000000006\n",
      "-0.48760000000000003 -0.21109999999999995\n",
      "-0.42569999999999997 0.0030000000000000027 0.43 0.03520000000000001\n",
      "-0.48839999999999995 -0.21719999999999995\n",
      "-0.43709999999999993 0.0028000000000000247 0.4282 0.027799999999999936\n",
      "(-44.82758620689802, 0.020845665044952)\n",
      "(-90.38461538461758, 0.029151656492490186)\n",
      "(42.93670886075942, 0.04387848810249051)\n",
      "(31.909774436090018, 0.061771820695102564)\n",
      "(24.378640776699097, 0.0696467919517999)\n",
      "(15.53846153846154, 0.061695541094909156)\n",
      "(10.535405872193463, 0.06075998380029557)\n",
      "(6.766806722689064, 0.07040377532097086)\n",
      "(5.180524344569282, 0.07431208924795196)\n",
      "(3.978189749182119, 0.08557712107692106)\n",
      "(3.353927625772284, 0.0824543698071235)\n",
      "(2.988653555219366, 0.08336816332800723)\n",
      "(2.7380394780863164, 0.08706385278615159)\n",
      "(2.5573373676248123, 0.09033317172521937)\n",
      "(2.4193912063134184, 0.09719752187891229)\n",
      "(2.3184476342371085, 0.10865274571907846)\n",
      "(2.244949494949495, 0.11657198259105028)\n",
      "(2.1739548294089386, 0.12591792944016889)\n",
      "(2.1483208955223887, 0.1280907079755731)\n"
     ]
    },
    {
     "data": {
      "text/plain": [
       "[<matplotlib.lines.Line2D at 0x20dcebe6c10>]"
      ]
     },
     "execution_count": 6,
     "metadata": {},
     "output_type": "execute_result"
    },
    {
     "data": {
      "image/png": "[encoded data removed]",
      "text/plain": [
       "<Figure size 432x288 with 1 Axes>"
      ]
     },
     "metadata": {
      "needs_background": "light"
     },
     "output_type": "display_data"
    }
   ],
   "source": [
    "c_by_ds = []\n",
    "di_diffs = []\n",
    "for i in range(0, end - start):\n",
    "    pmod_res = results['p'][i]\n",
    "    umod_res = results['u'][i]\n",
    "    mod_res = results['m'][i]\n",
    "    di_u = umod_res[1]\n",
    "    di = mod_res[1]\n",
    "    acc_diff_u =  umod_res[4] - mod_res[4]\n",
    "    acc_diff_p = pmod_res[3] - mod_res[3]\n",
    "    print(acc_diff_u, acc_diff_p)\n",
    "    del_p_plus = pmod_res[5] - mod_res[5] \n",
    "    del_p_minus = pmod_res[6] - mod_res[6]\n",
    "\n",
    "    del_u_plus = umod_res[7] - mod_res[7]\n",
    "    del_u_minus = umod_res[8] - mod_res[8]\n",
    "    print(del_p_plus, del_p_minus, del_u_plus, del_u_minus)\n",
    "    c = acc_diff_u + 2 * (1-alpha) * del_u_minus\n",
    "    d = acc_diff_p + 2 * (1-alpha) * del_p_minus\n",
    "    if d == 0:\n",
    "        break\n",
    "    c_by_ds.append(c/d)\n",
    "    di_diffs.append(di_u - di)\n",
    "    if c > d:\n",
    "        assert di < di_u\n",
    "        \n",
    "print(*list(zip(c_by_ds, di_diffs)),sep='\\n')\n",
    "\n",
    "plt.plot(-np.log(np.abs(c_by_ds)), di_diffs, '*-')"
   ]
  },
  {
   "cell_type": "code",
   "execution_count": 7,
   "id": "hairy-hostel",
   "metadata": {},
   "outputs": [
    {
     "data": {
      "text/plain": [
       "[0.020845665044952,\n",
       " 0.029151656492490186,\n",
       " 0.04387848810249051,\n",
       " 0.061771820695102564,\n",
       " 0.0696467919517999,\n",
       " 0.061695541094909156,\n",
       " 0.06075998380029557,\n",
       " 0.07040377532097086,\n",
       " 0.07431208924795196,\n",
       " 0.08557712107692106,\n",
       " 0.0824543698071235,\n",
       " 0.08336816332800723,\n",
       " 0.08706385278615159,\n",
       " 0.09033317172521937,\n",
       " 0.09719752187891229,\n",
       " 0.10865274571907846,\n",
       " 0.11657198259105028,\n",
       " 0.12591792944016889,\n",
       " 0.1280907079755731]"
      ]
     },
     "execution_count": 7,
     "metadata": {},
     "output_type": "execute_result"
    }
   ],
   "source": [
    "acc_diff_u = [(i[0][4] - i[1][4]) for i in zip(results['u'], results['m'])]\n",
    "acc_diff_u\n",
    "acc_diff_p = [(i[0][3] - i[1][3]) for i in zip(results['p'], results['m'])]\n",
    "acc_diff_p\n",
    "di_diff = [i[0][1] - i[1][1] for i in zip(results['u'], results['m'])]\n",
    "di_diff"
   ]
  },
  {
   "cell_type": "code",
   "execution_count": 8,
   "id": "artificial-popularity",
   "metadata": {
    "scrolled": true
   },
   "outputs": [
    {
     "data": {
      "text/plain": [
       "<matplotlib.legend.Legend at 0x20dcec11310>"
      ]
     },
     "execution_count": 8,
     "metadata": {},
     "output_type": "execute_result"
    },
    {
     "data": {
      "image/png": "[encoded data removed]",
      "text/plain": [
       "<Figure size 432x288 with 1 Axes>"
      ]
     },
     "metadata": {
      "needs_background": "light"
     },
     "output_type": "display_data"
    }
   ],
   "source": [
    "#plt.plot(range(-10, n), [i[3] for i in results['p']], '*-', label='p')\n",
    "plt.plot(range(start, end), [abs(i[3] - i[4]) for i in results['u']], '*-', label='u')\n",
    "#plt.plot(range(-10, n), [i[2] for i in results['m']], '*-', label='m')\n",
    "plt.legend()"
   ]
  },
  {
   "cell_type": "code",
   "execution_count": 9,
   "id": "facial-october",
   "metadata": {},
   "outputs": [
    {
     "name": "stdout",
     "output_type": "stream",
     "text": [
      "False\n",
      "Violates False\n",
      "pmod_results\t-0.006599999999999995\t0.9868\t0.01319999999999999\t0.749\t1.0\t0.498\t1.0\t0.0\t0.4914\t0.4954\n",
      "umod_results\t0.011699999999999988\t1.024108798681228\t0.02410879868122806\t0.72925\t0.4971\t0.9614\t0.4824\t0.4882\t0.9584\t0.0356\n",
      "mod_results\t-0.00029999999999996696\t0.9994003597841296\t0.000599640215870445\t0.93305\t0.9997\t0.8664\t1.0\t0.0006\t0.8664\t0.1336\n",
      "False\n",
      "Violates False\n",
      "pmod_results\t0.06430000000000002\t1.1286\t0.12860000000000005\t0.65585\t0.9998\t0.3119\t0.9998\t0.0002\t0.3762\t0.7524\n",
      "umod_results\t-0.00029999999999996696\t0.9993989180524946\t0.0006010819475054108\t0.69875\t0.4365\t0.961\t0.4356\t0.5626\t0.9598\t0.0378\n",
      "mod_results\t0.0030000000000000027\t1.0060253062864029\t0.006025306286402854\t0.9604\t0.9879\t0.9329\t0.9858\t0.01\t0.9338\t0.068\n",
      "False\n",
      "Violates False\n",
      "pmod_results\t-0.031200000000000006\t0.9376\t0.06240000000000001\t0.7484\t1.0\t0.4968\t1.0\t0.0\t0.4656\t0.472\n",
      "umod_results\t-0.017200000000000104\t0.9675349188372969\t0.03246508116270308\t0.7278\t0.5018\t0.9538\t0.5316\t0.528\t0.9664\t0.0588\n",
      "mod_results\t0.03820000000000001\t1.075628588398337\t0.07562858839833697\t0.9312\t0.9557\t0.9067\t0.9608\t0.0494\t0.95\t0.1366\n"
     ]
    }
   ],
   "source": [
    "dist = {\n",
    "    'mu_ps': {'p': 13, 'u': 10},\n",
    "    'sigma_ps': {'p': 2, 'u': 5},\n",
    "    'mu_ns': {'p': 3, 'u': 0},\n",
    "    'sigma_ns': {'p': 2, 'u': 5},\n",
    "}\n",
    "\n",
    "model_results = {'p': [], 'u': [], 'm': []}\n",
    "kwargs['dist'] = dist\n",
    "model_types = [GaussianNB, LogisticRegression, DecisionTreeClassifier]\n",
    "for model_type in model_types:\n",
    "    \n",
    "    kwargs['verbose'] = False\n",
    "    train_fd, test_fd = get_datasets(10000, 10, 3, kwargs, test_random_state=47)\n",
    "    pmod, pmod_results = get_groupwise_performance(train_fd, train_fd, model_type,\n",
    "                                                   privileged=True, pos_rate=True)\n",
    "    umod, umod_results = get_groupwise_performance(train_fd, train_fd, model_type,\n",
    "                                                   privileged=False, pos_rate=True)\n",
    "    mod, mod_results = get_groupwise_performance(train_fd, train_fd, model_type,\n",
    "                                                 privileged=None, pos_rate=True)\n",
    "    \n",
    "    kwargs['verbose'] = True\n",
    "    if kwargs['verbose']:\n",
    "        print(opt_diff)\n",
    "    \n",
    "        print('Violates', opt_diff and violates)\n",
    "    \n",
    "        print('pmod_results', *pmod_results, sep='\\t')\n",
    "        print('umod_results', *umod_results, sep='\\t')\n",
    "        print('mod_results', *mod_results, sep='\\t')\n",
    "    model_results['p'].append(pmod_results)\n",
    "    model_results['u'].append(umod_results)\n",
    "    model_results['m'].append(mod_results)\n"
   ]
  },
  {
   "cell_type": "code",
   "execution_count": 10,
   "id": "involved-service",
   "metadata": {},
   "outputs": [
    {
     "data": {
      "text/plain": [
       "<matplotlib.legend.Legend at 0x20dcec7a970>"
      ]
     },
     "execution_count": 10,
     "metadata": {},
     "output_type": "execute_result"
    },
    {
     "data": {
      "image/png": "[encoded data removed]",
      "text/plain": [
       "<Figure size 432x288 with 1 Axes>"
      ]
     },
     "metadata": {
      "needs_background": "light"
     },
     "output_type": "display_data"
    }
   ],
   "source": [
    "plt.bar(range(0, len(model_types)*2, 2), [i[1] for i in model_results['u']], label='u')\n",
    "plt.bar(range(1, len(model_types)*2, 2), [i[1] for i in model_results['m']], label= 'm')\n",
    "plt.ylim(0.9, 1.1)\n",
    "plt.legend()"
   ]
  },
  {
   "cell_type": "code",
   "execution_count": 11,
   "id": "checked-economics",
   "metadata": {},
   "outputs": [
    {
     "name": "stdout",
     "output_type": "stream",
     "text": [
      "{'mu_ps': {'p': 13, 'u': 10}, 'sigma_ps': {'p': 2, 'u': 5}, 'mu_ns': {'p': 3, 'u': 0}, 'sigma_ns': {'p': 2, 'u': 5}}\n",
      "{'mu_ps': {'p': 13, 'u': 10}, 'sigma_ps': {'p': 2, 'u': 6}, 'mu_ns': {'p': 3, 'u': 0}, 'sigma_ns': {'p': 2, 'u': 6}}\n",
      "{'mu_ps': {'p': 13, 'u': 10}, 'sigma_ps': {'p': 2, 'u': 7}, 'mu_ns': {'p': 3, 'u': 0}, 'sigma_ns': {'p': 2, 'u': 7}}\n",
      "{'mu_ps': {'p': 13, 'u': 10}, 'sigma_ps': {'p': 2, 'u': 8}, 'mu_ns': {'p': 3, 'u': 0}, 'sigma_ns': {'p': 2, 'u': 8}}\n",
      "{'mu_ps': {'p': 13, 'u': 10}, 'sigma_ps': {'p': 2, 'u': 9}, 'mu_ns': {'p': 3, 'u': 0}, 'sigma_ns': {'p': 2, 'u': 9}}\n",
      "{'mu_ps': {'p': 13, 'u': 10}, 'sigma_ps': {'p': 2, 'u': 10}, 'mu_ns': {'p': 3, 'u': 0}, 'sigma_ns': {'p': 2, 'u': 10}}\n",
      "{'mu_ps': {'p': 13, 'u': 10}, 'sigma_ps': {'p': 2, 'u': 11}, 'mu_ns': {'p': 3, 'u': 0}, 'sigma_ns': {'p': 2, 'u': 11}}\n",
      "{'mu_ps': {'p': 13, 'u': 10}, 'sigma_ps': {'p': 2, 'u': 12}, 'mu_ns': {'p': 3, 'u': 0}, 'sigma_ns': {'p': 2, 'u': 12}}\n",
      "{'mu_ps': {'p': 13, 'u': 10}, 'sigma_ps': {'p': 2, 'u': 13}, 'mu_ns': {'p': 3, 'u': 0}, 'sigma_ns': {'p': 2, 'u': 13}}\n",
      "{'mu_ps': {'p': 13, 'u': 10}, 'sigma_ps': {'p': 2, 'u': 14}, 'mu_ns': {'p': 3, 'u': 0}, 'sigma_ns': {'p': 2, 'u': 14}}\n"
     ]
    }
   ],
   "source": [
    "from copy import deepcopy\n",
    "dist = {\n",
    "    'mu_ps': {'p': 13, 'u': 10},\n",
    "    'sigma_ps': {'p': 2, 'u': 5},\n",
    "    'mu_ns': {'p': 3, 'u': 0},\n",
    "    'sigma_ns': {'p': 2, 'u': 5},\n",
    "}\n",
    "\n",
    "results = {'p' : [], 'u': [], 'm': []}\n",
    "start = 0\n",
    "end = 10\n",
    "for i in range(start, end):\n",
    "    temp_dist = deepcopy(dist)\n",
    "    sigma_ps = temp_dist['sigma_ps']\n",
    "    sigma_ns = temp_dist['sigma_ns']\n",
    "    sigma_ps['u'] = sigma_ps['u'] + i\n",
    "    sigma_ns['u'] = sigma_ns['u'] + i\n",
    "\n",
    "    print(temp_dist)    \n",
    "    kwargs['dist'] = temp_dist\n",
    "    kwargs['verbose'] = False\n",
    "    \n",
    "    train_fd, test_fd = get_datasets(10000, 2, 1, kwargs, test_random_state=47)\n",
    "    pmod, pmod_results = get_groupwise_performance(train_fd, train_fd, model_type,\n",
    "                                                   privileged=True, pos_rate=True)\n",
    "    umod, umod_results = get_groupwise_performance(train_fd, train_fd, model_type,\n",
    "                                                   privileged=False, pos_rate=True)\n",
    "    mod, mod_results = get_groupwise_performance(train_fd, train_fd, model_type,\n",
    "                                                 privileged=None, pos_rate=True)\n",
    "    \n",
    "    results['p'].append(pmod_results)\n",
    "    results['u'].append(umod_results)\n",
    "    results['m'].append(mod_results)\n",
    "\n",
    "    # print(kwargs)"
   ]
  },
  {
   "cell_type": "code",
   "execution_count": 12,
   "id": "indoor-regular",
   "metadata": {},
   "outputs": [
    {
     "data": {
      "text/plain": [
       "<matplotlib.legend.Legend at 0x20dd08bdd90>"
      ]
     },
     "execution_count": 12,
     "metadata": {},
     "output_type": "execute_result"
    },
    {
     "data": {
      "image/png": "[encoded data removed]",
      "text/plain": [
       "<Figure size 432x288 with 1 Axes>"
      ]
     },
     "metadata": {
      "needs_background": "light"
     },
     "output_type": "display_data"
    }
   ],
   "source": [
    "plt.plot(range(start, end), [i[1] for i in results['u']], '*-', label='u')\n",
    "plt.plot(range(start, end), [i[1] for i in results['m']], '*-', label='m')\n",
    "plt.legend()"
   ]
  },
  {
   "cell_type": "code",
   "execution_count": 13,
   "id": "technical-suite",
   "metadata": {},
   "outputs": [
    {
     "data": {
      "text/plain": [
       "<matplotlib.legend.Legend at 0x20dd04cc3a0>"
      ]
     },
     "execution_count": 13,
     "metadata": {},
     "output_type": "execute_result"
    },
    {
     "data": {
      "image/png": "[encoded data removed]",
      "text/plain": [
       "<Figure size 432x288 with 1 Axes>"
      ]
     },
     "metadata": {
      "needs_background": "light"
     },
     "output_type": "display_data"
    }
   ],
   "source": [
    "#plt.plot(range(-10, n), [i[3] for i in results['p']], '*-', label='p')\n",
    "plt.plot(range(start, end), [abs(i[3] - i[4]) for i in results['u']], '*-', label='p-u')\n",
    "#plt.plot(range(-10, n), [i[2] for i in results['m']], '*-', label='m')\n",
    "plt.legend()"
   ]
  }
 ],
 "metadata": {
  "kernelspec": {
   "display_name": "Python 3",
   "language": "python",
   "name": "python3"
  },
  "language_info": {
   "codemirror_mode": {
    "name": "ipython",
    "version": 3
   },
   "file_extension": ".py",
   "mimetype": "text/x-python",
   "name": "python",
   "nbconvert_exporter": "python",
   "pygments_lexer": "ipython3",
   "version": "3.8.0"
  }
 },
 "nbformat": 4,
 "nbformat_minor": 5
}
