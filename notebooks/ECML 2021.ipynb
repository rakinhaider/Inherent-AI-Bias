{
 "cells": [
  {
   "cell_type": "code",
   "execution_count": 1,
   "id": "novel-doctor",
   "metadata": {},
   "outputs": [],
   "source": [
    "import sys\n",
    "sys.path.insert(1, \"../\")\n",
    "\n",
    "import importlib\n",
    "import matplotlib.pyplot as plt\n",
    "import matplotlib\n",
    "%matplotlib inline\n",
    "import numpy as np\n",
    "from sklearn.linear_model import LogisticRegression \n",
    "from sklearn.tree import DecisionTreeClassifier\n",
    "from sklearn.naive_bayes import GaussianNB"
   ]
  },
  {
   "cell_type": "code",
   "execution_count": 2,
   "id": "ready-morrison",
   "metadata": {},
   "outputs": [],
   "source": [
    "def reload_modules():\n",
    "    import ghost_unfairness\n",
    "    importlib.reload(ghost_unfairness.fair_dataset)\n",
    "    importlib.reload(ghost_unfairness.utils)\n",
    "    \n",
    "reload_modules()\n",
    "\n",
    "from ghost_unfairness.fair_dataset import FairDataset, default_mappings\n",
    "\n",
    "from ghost_unfairness.utils import *"
   ]
  },
  {
   "cell_type": "code",
   "execution_count": 3,
   "id": "polish-collaboration",
   "metadata": {},
   "outputs": [],
   "source": [
    "protected = [\"sex\"]\n",
    "privileged_classes = [['Male']]\n",
    "metadata = default_mappings.copy()\n",
    "metadata['protected_attribute_maps'] = [{1.0: 'Male', 0.0: 'Female'}]\n",
    "\n",
    "alpha = 0.5\n",
    "beta = 1\n",
    "\n",
    "kwargs = {'protected_attribute_names': protected,\n",
    "          'privileged_classes': [['Male']],\n",
    "          'metadata':metadata,\n",
    "          'favorable_classes': [1],\n",
    "          'beta': beta,\n",
    "          'alpha': alpha\n",
    "         }\n",
    "\n",
    "random_state = 47\n",
    "model_type = GaussianNB"
   ]
  },
  {
   "cell_type": "code",
   "execution_count": 4,
   "id": "willing-gambling",
   "metadata": {
    "scrolled": true
   },
   "outputs": [
    {
     "name": "stdout",
     "output_type": "stream",
     "text": [
      "{'mu_ps': {'p': 4, 'u': 1}, 'sigma_ps': {'p': 2, 'u': 5}, 'mu_ns': {'p': 3, 'u': 0}, 'sigma_ns': {'p': 2, 'u': 5}}\n",
      "False\n",
      "Violates False\n",
      "pmod_results\t-0.25599999999999995\t0.5308777716694155\t0.5998\t0.6359\t0.5637\t0.6816\t0.4098\t0.3534\t0.226\n",
      "umod_results\t-0.09160000000000001\t0.8676874187490972\t0.6035\t0.6019\t0.6051\t0.7942\t0.5904\t0.7058\t0.4956\n",
      "mod_results\t-0.1613\t0.7591818453269633\t0.60345\t0.6078\t0.5991\t0.7776\t0.562\t0.6076\t0.4094\n",
      "{'mu_ps': {'p': 5, 'u': 2}, 'sigma_ps': {'p': 2, 'u': 5}, 'mu_ns': {'p': 3, 'u': 0}, 'sigma_ns': {'p': 2, 'u': 5}}\n",
      "False\n",
      "Violates False\n",
      "pmod_results\t-0.23099999999999998\t0.5499707773232028\t0.6467\t0.7083\t0.5851\t0.7216\t0.305\t0.3674\t0.1972\n",
      "umod_results\t-0.1935\t0.737163814180929\t0.62335\t0.6232\t0.6235\t0.8594\t0.613\t0.6662\t0.4192\n",
      "mod_results\t-0.2562\t0.6256575102279369\t0.6334\t0.65\t0.6168\t0.8344\t0.5344\t0.545\t0.3114\n",
      "{'mu_ps': {'p': 6, 'u': 3}, 'sigma_ps': {'p': 2, 'u': 5}, 'mu_ns': {'p': 3, 'u': 0}, 'sigma_ns': {'p': 2, 'u': 5}}\n",
      "False\n",
      "Violates False\n",
      "pmod_results\t-0.22550000000000003\t0.556014963575507\t0.69675\t0.7819\t0.6116\t0.7898\t0.226\t0.394\t0.1708\n",
      "umod_results\t-0.2386999999999999\t0.6848428835489835\t0.65035\t0.6492\t0.6515\t0.9066\t0.6082\t0.6702\t0.3672\n",
      "mod_results\t-0.274\t0.5971773007938841\t0.6745\t0.7062\t0.6428\t0.8864\t0.474\t0.549\t0.2634\n",
      "{'mu_ps': {'p': 7, 'u': 4}, 'sigma_ps': {'p': 2, 'u': 5}, 'mu_ns': {'p': 3, 'u': 0}, 'sigma_ns': {'p': 2, 'u': 5}}\n",
      "False\n",
      "Violates False\n",
      "pmod_results\t-0.21529999999999994\t0.5740850642927795\t0.74395\t0.8461\t0.6418\t0.8516\t0.1594\t0.432\t0.1484\n",
      "umod_results\t-0.24970000000000003\t0.6719653179190751\t0.68395\t0.6842\t0.6837\t0.9454\t0.577\t0.6952\t0.3278\n",
      "mod_results\t-0.2633\t0.6020855372525313\t0.72235\t0.7675\t0.6772\t0.9292\t0.3942\t0.5756\t0.2212\n",
      "{'mu_ps': {'p': 8, 'u': 5}, 'sigma_ps': {'p': 2, 'u': 5}, 'mu_ns': {'p': 3, 'u': 0}, 'sigma_ns': {'p': 2, 'u': 5}}\n",
      "False\n",
      "Violates False\n",
      "pmod_results\t-0.20429999999999998\t0.5948839976204641\t0.78405\t0.8947\t0.6734\t0.899\t0.1096\t0.4734\t0.1266\n",
      "umod_results\t-0.24539999999999995\t0.6725380304243395\t0.7165\t0.7196\t0.7134\t0.969\t0.5298\t0.7174\t0.2906\n",
      "mod_results\t-0.2359\t0.6286793640799622\t0.76585\t0.8239\t0.7078\t0.9592\t0.3114\t0.6072\t0.1916\n",
      "{'mu_ps': {'p': 9, 'u': 6}, 'sigma_ps': {'p': 2, 'u': 5}, 'mu_ns': {'p': 3, 'u': 0}, 'sigma_ns': {'p': 2, 'u': 5}}\n",
      "False\n",
      "Violates False\n",
      "pmod_results\t-0.19429999999999997\t0.6132563694267517\t0.81645\t0.932\t0.7009\t0.9344\t0.0704\t0.509\t0.1072\n",
      "umod_results\t-0.22209999999999996\t0.6923822714681441\t0.75415\t0.7602\t0.7481\t0.9822\t0.4618\t0.748\t0.2518\n",
      "mod_results\t-0.20030000000000003\t0.6691443673604228\t0.80485\t0.8712\t0.7385\t0.9766\t0.2342\t0.6436\t0.1666\n",
      "{'mu_ps': {'p': 10, 'u': 7}, 'sigma_ps': {'p': 2, 'u': 5}, 'mu_ns': {'p': 3, 'u': 0}, 'sigma_ns': {'p': 2, 'u': 5}}\n",
      "False\n",
      "Violates False\n",
      "pmod_results\t-0.1846\t0.6324905434999004\t0.8447\t0.9595\t0.7299\t0.9618\t0.0428\t0.5476\t0.0878\n",
      "umod_results\t-0.1916\t0.7221174764321973\t0.7904\t0.8025\t0.7783\t0.992\t0.387\t0.7762\t0.2196\n",
      "mod_results\t-0.16609999999999997\t0.7126297577854671\t0.83765\t0.9088\t0.7665\t0.9868\t0.1692\t0.6784\t0.1454\n",
      "{'mu_ps': {'p': 11, 'u': 8}, 'sigma_ps': {'p': 2, 'u': 5}, 'mu_ns': {'p': 3, 'u': 0}, 'sigma_ns': {'p': 2, 'u': 5}}\n",
      "False\n",
      "Violates False\n",
      "pmod_results\t-0.1698\t0.6604679064187162\t0.8669\t0.9769\t0.7569\t0.977\t0.0232\t0.5872\t0.0734\n",
      "umod_results\t-0.15310000000000007\t0.7651119975452592\t0.82605\t0.8444\t0.8077\t0.9962\t0.3074\t0.8064\t0.191\n",
      "mod_results\t-0.1366\t0.7536519386834987\t0.8665\t0.9389\t0.7941\t0.9934\t0.1156\t0.712\t0.1238\n",
      "{'mu_ps': {'p': 12, 'u': 9}, 'sigma_ps': {'p': 2, 'u': 5}, 'mu_ns': {'p': 3, 'u': 0}, 'sigma_ns': {'p': 2, 'u': 5}}\n",
      "True\n",
      "Violates False\n",
      "pmod_results\t-0.15739999999999998\t0.6852\t0.8852\t0.9876\t0.7828\t0.9876\t0.0124\t0.6254\t0.0598\n",
      "umod_results\t-0.11699999999999994\t0.809879753006175\t0.8571\t0.8824\t0.8318\t0.9978\t0.233\t0.8302\t0.1666\n",
      "mod_results\t-0.11349999999999999\t0.7888764880952381\t0.88955\t0.9598\t0.8193\t0.9974\t0.0778\t0.7434\t0.1048\n",
      "{'mu_ps': {'p': 13, 'u': 10}, 'sigma_ps': {'p': 2, 'u': 5}, 'mu_ns': {'p': 3, 'u': 0}, 'sigma_ns': {'p': 2, 'u': 5}}\n",
      "True\n",
      "Violates False\n",
      "pmod_results\t-0.14439999999999997\t0.7114308553157475\t0.9006\t0.9934\t0.8078\t0.9938\t0.007\t0.6638\t0.0482\n",
      "umod_results\t-0.08549999999999996\t0.853821166011284\t0.88415\t0.9145\t0.8538\t0.9994\t0.1704\t0.8532\t0.1456\n",
      "mod_results\t-0.09459999999999996\t0.8196377502383223\t0.9088\t0.9747\t0.8429\t0.9992\t0.0498\t0.7728\t0.087\n",
      "{'mu_ps': {'p': 14, 'u': 11}, 'sigma_ps': {'p': 2, 'u': 5}, 'mu_ns': {'p': 3, 'u': 0}, 'sigma_ns': {'p': 2, 'u': 5}}\n",
      "True\n",
      "Violates False\n",
      "pmod_results\t-0.13169999999999998\t0.7367053178728509\t0.91295\t0.9964\t0.8295\t0.9966\t0.0038\t0.698\t0.039\n",
      "umod_results\t-0.06009999999999999\t0.8925634608509118\t0.90765\t0.9402\t0.8751\t0.9996\t0.1192\t0.8744\t0.1242\n",
      "mod_results\t-0.07839999999999997\t0.8475301439128744\t0.9243\t0.9852\t0.8634\t0.9994\t0.029\t0.7992\t0.0724\n",
      "{'mu_ps': {'p': 15, 'u': 12}, 'sigma_ps': {'p': 2, 'u': 5}, 'mu_ns': {'p': 3, 'u': 0}, 'sigma_ns': {'p': 2, 'u': 5}}\n",
      "True\n",
      "Violates False\n",
      "pmod_results\t-0.12110000000000004\t0.757703081232493\t0.92315\t0.9984\t0.8479\t0.9982\t0.0014\t0.7266\t0.0308\n",
      "umod_results\t-0.04289999999999994\t0.9206584057702979\t0.92655\t0.9593\t0.8938\t1.0\t0.0814\t0.8916\t0.104\n",
      "mod_results\t-0.06409999999999999\t0.8738933700570529\t0.93715\t0.9915\t0.8828\t0.9998\t0.0168\t0.827\t0.0614\n",
      "{'mu_ps': {'p': 16, 'u': 13}, 'sigma_ps': {'p': 2, 'u': 5}, 'mu_ns': {'p': 3, 'u': 0}, 'sigma_ns': {'p': 2, 'u': 5}}\n",
      "True\n",
      "Violates False\n",
      "pmod_results\t-0.1064\t0.7871574314862972\t0.9331\t0.9997\t0.8665\t0.9996\t0.0002\t0.76\t0.027\n",
      "umod_results\t-0.02699999999999997\t0.9486301369863014\t0.943\t0.9744\t0.9116\t1.0\t0.0512\t0.9102\t0.087\n",
      "mod_results\t-0.05329999999999996\t0.8943508424182359\t0.94845\t0.9955\t0.9014\t1.0\t0.009\t0.8526\t0.0498\n",
      "{'mu_ps': {'p': 17, 'u': 14}, 'sigma_ps': {'p': 2, 'u': 5}, 'mu_ns': {'p': 3, 'u': 0}, 'sigma_ns': {'p': 2, 'u': 5}}\n",
      "True\n",
      "Violates False\n",
      "pmod_results\t-0.09440000000000004\t0.8111244497799119\t0.9414\t0.9998\t0.883\t0.9996\t0.0\t0.7884\t0.0224\n",
      "umod_results\t-0.016900000000000026\t0.9672544080604534\t0.95515\t0.9839\t0.9264\t1.0\t0.0322\t0.9256\t0.0728\n",
      "mod_results\t-0.04600000000000004\t0.908475925189017\t0.9569\t0.9974\t0.9164\t1.0\t0.0052\t0.873\t0.0402\n",
      "{'mu_ps': {'p': 18, 'u': 15}, 'sigma_ps': {'p': 2, 'u': 5}, 'mu_ns': {'p': 3, 'u': 0}, 'sigma_ns': {'p': 2, 'u': 5}}\n",
      "False\n",
      "Violates False\n",
      "pmod_results\t-0.08360000000000001\t0.8327665533106621\t0.9495\t0.9999\t0.8991\t0.9998\t0.0\t0.8154\t0.0172\n",
      "umod_results\t-0.009799999999999975\t0.980720047216211\t0.9642\t0.9917\t0.9367\t1.0\t0.0166\t0.9352\t0.0618\n",
      "mod_results\t-0.039100000000000024\t0.9219560878243512\t0.96385\t0.999\t0.9287\t1.0\t0.002\t0.8906\t0.0332\n",
      "{'mu_ps': {'p': 19, 'u': 16}, 'sigma_ps': {'p': 2, 'u': 5}, 'mu_ns': {'p': 3, 'u': 0}, 'sigma_ns': {'p': 2, 'u': 5}}\n",
      "False\n",
      "Violates False\n",
      "pmod_results\t-0.0736\t0.8528\t0.9569\t1.0\t0.9138\t1.0\t0.0\t0.8402\t0.0126\n",
      "umod_results\t-0.006400000000000017\t0.9873267326732673\t0.972\t0.995\t0.949\t1.0\t0.01\t0.9476\t0.0496\n",
      "mod_results\t-0.033499999999999974\t0.9330401758944634\t0.97035\t0.9997\t0.941\t1.0\t0.0006\t0.9078\t0.0258\n",
      "{'mu_ps': {'p': 20, 'u': 17}, 'sigma_ps': {'p': 2, 'u': 5}, 'mu_ns': {'p': 3, 'u': 0}, 'sigma_ns': {'p': 2, 'u': 5}}\n",
      "False\n",
      "Violates False\n",
      "pmod_results\t-0.06309999999999999\t0.8738\t0.96365\t1.0\t0.9273\t1.0\t0.0\t0.8642\t0.0096\n",
      "umod_results\t-0.0048000000000000265\t0.990449661758854\t0.9776\t0.9974\t0.9578\t1.0\t0.0052\t0.9556\t0.04\n",
      "mod_results\t-0.028000000000000025\t0.944\t0.9753\t1.0\t0.9506\t1.0\t0.0\t0.9226\t0.0214\n",
      "{'mu_ps': {'p': 21, 'u': 18}, 'sigma_ps': {'p': 2, 'u': 5}, 'mu_ns': {'p': 3, 'u': 0}, 'sigma_ns': {'p': 2, 'u': 5}}\n",
      "False\n",
      "Violates False\n",
      "pmod_results\t-0.055300000000000016\t0.8894\t0.96865\t1.0\t0.9373\t1.0\t0.0\t0.882\t0.0074\n",
      "umod_results\t-0.003599999999999992\t0.9928172386272945\t0.9816\t0.9988\t0.9644\t1.0\t0.0024\t0.962\t0.0332\n",
      "mod_results\t-0.022899999999999976\t0.9542\t0.97975\t1.0\t0.9595\t1.0\t0.0\t0.9366\t0.0176\n",
      "{'mu_ps': {'p': 22, 'u': 19}, 'sigma_ps': {'p': 2, 'u': 5}, 'mu_ns': {'p': 3, 'u': 0}, 'sigma_ns': {'p': 2, 'u': 5}}\n",
      "False\n",
      "Violates False\n",
      "pmod_results\t-0.047599999999999976\t0.9048\t0.9733\t1.0\t0.9466\t1.0\t0.0\t0.899\t0.0058\n",
      "umod_results\t-0.004200000000000037\t0.9916100679184977\t0.9851\t0.9994\t0.9708\t1.0\t0.0012\t0.9672\t0.0256\n",
      "mod_results\t-0.020399999999999974\t0.9592\t0.983\t1.0\t0.966\t1.0\t0.0\t0.9456\t0.0136\n"
     ]
    }
   ],
   "source": [
    "from copy import deepcopy\n",
    "dist = {\n",
    "    'mu_ps': {'p': 3, 'u': 0},\n",
    "    'sigma_ps': {'p': 2, 'u': 5},\n",
    "    'mu_ns': {'p': 3, 'u': 0},\n",
    "    'sigma_ns': {'p': 2, 'u': 5},\n",
    "}\n",
    "\n",
    "results = {'p' : [], 'u': [], 'm': []}\n",
    "deltas = []\n",
    "start = 1\n",
    "end = 20\n",
    "for i in range(start, end):\n",
    "    temp_dist = deepcopy(dist)\n",
    "    mu_ps = temp_dist['mu_ps']\n",
    "    for k in mu_ps:\n",
    "        mu_ps[k] = mu_ps[k] + i\n",
    "    kwargs['dist'] = temp_dist\n",
    "    print(kwargs['dist'])    \n",
    "    \n",
    "    kwargs['verbose'] = False\n",
    "    train_fd, test_fd = get_datasets(10000, 2, 1, kwargs, test_random_state=23)\n",
    "    pmod, pmod_results = get_groupwise_performance(train_fd, train_fd, model_type,\n",
    "                                                   privileged=True, pos_rate=True)\n",
    "    umod, umod_results = get_groupwise_performance(train_fd, train_fd, model_type,\n",
    "                                                   privileged=False, pos_rate=True)\n",
    "    mod, mod_results = get_groupwise_performance(train_fd, train_fd, model_type,\n",
    "                                                 privileged=None, pos_rate=True)\n",
    "    \n",
    "    # is_u_optimal = umod_results[4] >= pmod_results[4] and umod_results[4] >= mod_results[4] \n",
    "    is_u_optimal = umod_results[4] > pmod_results[4]\n",
    "    # is_p_optimal = pmod_results[3] >= umod_results[3] and pmod_results[3] >= mod_results[3]\n",
    "    is_p_optimal = pmod_results[3] > umod_results[3]\n",
    "    is_m_optimal = mod_results[2] > umod_results[2] and mod_results[2] > pmod_results[2]\n",
    "    \n",
    "    opt_diff = is_u_optimal and is_p_optimal and is_m_optimal\n",
    "    \n",
    "    violates = mod_results[1] > umod_results[1] and mod_results[1] > pmod_results[1]\n",
    "    \n",
    "    kwargs['verbose'] = True\n",
    "    if kwargs['verbose']:\n",
    "        print(opt_diff)\n",
    "    \n",
    "        print('Violates', opt_diff and violates)\n",
    "    \n",
    "        print('pmod_results', *pmod_results, sep='\\t')\n",
    "        print('umod_results', *umod_results, sep='\\t')\n",
    "        print('mod_results', *mod_results, sep='\\t')\n",
    "    assert not (opt_diff and violates)\n",
    "    \n",
    "    # if opt_diff and not violates:\n",
    "    results['p'].append(pmod_results)\n",
    "    results['u'].append(umod_results)\n",
    "    results['m'].append(mod_results)\n",
    "\n",
    "    # print(kwargs)"
   ]
  },
  {
   "cell_type": "code",
   "execution_count": 5,
   "id": "precise-consent",
   "metadata": {},
   "outputs": [
    {
     "data": {
      "text/plain": [
       "<matplotlib.legend.Legend at 0x27a31366490>"
      ]
     },
     "execution_count": 5,
     "metadata": {},
     "output_type": "execute_result"
    },
    {
     "data": {
      "image/png": "[encoded data removed]",
      "text/plain": [
       "<Figure size 432x288 with 1 Axes>"
      ]
     },
     "metadata": {
      "needs_background": "light"
     },
     "output_type": "display_data"
    }
   ],
   "source": [
    "plt.plot(range(start, end), [i[1] for i in results['p']], '*-', label='p')\n",
    "plt.plot(range(start, end), [i[1] for i in results['u']], '*-', label='u')\n",
    "plt.plot(range(start, end), [i[1] for i in results['m']], '*-', label='m')\n",
    "plt.legend()"
   ]
  },
  {
   "cell_type": "code",
   "execution_count": 6,
   "id": "functioning-resource",
   "metadata": {},
   "outputs": [
    {
     "name": "stdout",
     "output_type": "stream",
     "text": [
      "0.006000000000000005 0.028100000000000014\n",
      "-0.09599999999999997 -0.15220000000000006 0.09819999999999995 0.0862\n",
      "0.006700000000000039 0.05830000000000002\n",
      "-0.11280000000000001 -0.2294 0.12119999999999997 0.1078\n",
      "0.00869999999999993 0.07569999999999999\n",
      "-0.09660000000000002 -0.24799999999999997 0.12119999999999997 0.1038\n",
      "0.00649999999999995 0.0786\n",
      "-0.0776 -0.2348 0.11960000000000004 0.10659999999999997\n",
      "0.005600000000000049 0.07080000000000009\n",
      "-0.06020000000000003 -0.2018 0.11020000000000008 0.09900000000000003\n",
      "0.009599999999999942 0.060800000000000076\n",
      "-0.042200000000000015 -0.1638 0.10440000000000005 0.08520000000000003\n",
      "0.011800000000000033 0.05069999999999997\n",
      "-0.025000000000000022 -0.12639999999999998 0.0978 0.07419999999999999\n",
      "0.013599999999999945 0.038000000000000034\n",
      "-0.01639999999999997 -0.0924 0.09440000000000004 0.06720000000000001\n",
      "0.012499999999999956 0.027800000000000047\n",
      "-0.00979999999999992 -0.0654 0.0868000000000001 0.061799999999999994\n",
      "0.01090000000000002 0.01869999999999994\n",
      "-0.00539999999999996 -0.0428 0.08039999999999992 0.05860000000000001\n",
      "0.011700000000000044 0.011199999999999988\n",
      "-0.0027999999999999137 -0.0252 0.07519999999999993 0.0518\n",
      "0.01100000000000001 0.006899999999999906\n",
      "-0.0016000000000000458 -0.015399999999999999 0.06459999999999999 0.04259999999999999\n",
      "0.010199999999999987 0.0041999999999999815\n",
      "-0.00039999999999995595 -0.008799999999999999 0.057599999999999985 0.0372\n",
      "0.010000000000000009 0.0024000000000000687\n",
      "-0.00039999999999995595 -0.0052 0.05259999999999998 0.032600000000000004\n",
      "0.008000000000000007 0.0009000000000000119\n",
      "-0.00019999999999997797 -0.002 0.044600000000000084 0.0286\n",
      "0.008000000000000007 0.00029999999999996696\n",
      "0.0 -0.0006 0.03979999999999995 0.023799999999999998\n",
      "0.007199999999999984 0.0\n",
      "0.0 0.0 0.03300000000000003 0.018600000000000002\n",
      "(-0.7429492344883156, 0.10850557342213385)\n",
      "(-0.6691992986557572, 0.1115063039529921)\n",
      "(-0.6529309344167147, 0.08766558275509939)\n",
      "(-0.7240717029449418, 0.06987978066654377)\n",
      "(-0.7984732824427492, 0.043858666344377295)\n",
      "(-0.9203883495145635, 0.023237904107721308)\n",
      "(-1.1360634081902246, 0.009487718646730148)\n",
      "(-1.485294117647059, 0.011460058861760491)\n",
      "(-1.9760638297872353, 0.021003264910936847)\n",
      "(-2.8838174273858863, 0.03418341577296169)\n",
      "(-4.535714285714285, 0.04503331693803736)\n",
      "(-6.305882352941108, 0.04676503571324497)\n",
      "(-10.304347826086914, 0.05427929456806546)\n",
      "(-15.214285714286094, 0.05877848287143639)\n",
      "(-33.272727272727636, 0.058763959391859744)\n",
      "(-105.99999999998838, 0.054286556778803896)\n"
     ]
    },
    {
     "data": {
      "text/plain": [
       "[<matplotlib.lines.Line2D at 0x27a3172d940>]"
      ]
     },
     "execution_count": 6,
     "metadata": {},
     "output_type": "execute_result"
    },
    {
     "data": {
      "image/png": "[encoded data removed]",
      "text/plain": [
       "<Figure size 432x288 with 1 Axes>"
      ]
     },
     "metadata": {
      "needs_background": "light"
     },
     "output_type": "display_data"
    }
   ],
   "source": [
    "c_by_ds = []\n",
    "di_diffs = []\n",
    "for i in range(0, end - start):\n",
    "    pmod_res = results['p'][i]\n",
    "    umod_res = results['u'][i]\n",
    "    mod_res = results['m'][i]\n",
    "    di_u = umod_res[1]\n",
    "    di = mod_res[1]\n",
    "    acc_diff_u =  umod_res[4] - mod_res[4]\n",
    "    acc_diff_p = pmod_res[3] - mod_res[3]\n",
    "    print(acc_diff_u, acc_diff_p)\n",
    "    del_p_plus = pmod_res[5] - mod_res[5] \n",
    "    del_p_minus = pmod_res[6] - mod_res[6]\n",
    "\n",
    "    del_u_plus = umod_res[7] - mod_res[7]\n",
    "    del_u_minus = umod_res[8] - mod_res[8]\n",
    "    print(del_p_plus, del_p_minus, del_u_plus, del_u_minus)\n",
    "    c = acc_diff_u + 2 * (1-alpha) * del_u_minus\n",
    "    d = acc_diff_p + 2 * (1-alpha) * del_p_minus\n",
    "    if d == 0:\n",
    "        break\n",
    "    c_by_ds.append(c/d)\n",
    "    di_diffs.append(di_u - di)\n",
    "    if c > d:\n",
    "        assert di < di_u\n",
    "        \n",
    "print(*list(zip(c_by_ds, di_diffs)),sep='\\n')\n",
    "\n",
    "plt.plot(-np.log(np.abs(c_by_ds)), di_diffs, '*-')"
   ]
  },
  {
   "cell_type": "code",
   "execution_count": 7,
   "id": "hairy-hostel",
   "metadata": {},
   "outputs": [
    {
     "data": {
      "text/plain": [
       "[0.10850557342213385,\n",
       " 0.1115063039529921,\n",
       " 0.08766558275509939,\n",
       " 0.06987978066654377,\n",
       " 0.043858666344377295,\n",
       " 0.023237904107721308,\n",
       " 0.009487718646730148,\n",
       " 0.011460058861760491,\n",
       " 0.021003264910936847,\n",
       " 0.03418341577296169,\n",
       " 0.04503331693803736,\n",
       " 0.04676503571324497,\n",
       " 0.05427929456806546,\n",
       " 0.05877848287143639,\n",
       " 0.058763959391859744,\n",
       " 0.054286556778803896,\n",
       " 0.04644966175885401,\n",
       " 0.03861723862729449,\n",
       " 0.032410067918497654]"
      ]
     },
     "execution_count": 7,
     "metadata": {},
     "output_type": "execute_result"
    }
   ],
   "source": [
    "acc_diff_u = [(i[0][4] - i[1][4]) for i in zip(results['u'], results['m'])]\n",
    "acc_diff_u\n",
    "acc_diff_p = [(i[0][3] - i[1][3]) for i in zip(results['p'], results['m'])]\n",
    "acc_diff_p\n",
    "di_diff = [i[0][1] - i[1][1] for i in zip(results['u'], results['m'])]\n",
    "di_diff"
   ]
  },
  {
   "cell_type": "code",
   "execution_count": 8,
   "id": "artificial-popularity",
   "metadata": {
    "scrolled": true
   },
   "outputs": [
    {
     "data": {
      "text/plain": [
       "<matplotlib.legend.Legend at 0x27a3174d790>"
      ]
     },
     "execution_count": 8,
     "metadata": {},
     "output_type": "execute_result"
    },
    {
     "data": {
      "image/png": "[encoded data removed]",
      "text/plain": [
       "<Figure size 432x288 with 1 Axes>"
      ]
     },
     "metadata": {
      "needs_background": "light"
     },
     "output_type": "display_data"
    }
   ],
   "source": [
    "#plt.plot(range(-10, n), [i[3] for i in results['p']], '*-', label='p')\n",
    "plt.plot(range(start, end), [abs(i[3] - i[4]) for i in results['u']], '*-', label='u')\n",
    "#plt.plot(range(-10, n), [i[2] for i in results['m']], '*-', label='m')\n",
    "plt.legend()"
   ]
  },
  {
   "cell_type": "code",
   "execution_count": 9,
   "id": "facial-october",
   "metadata": {},
   "outputs": [
    {
     "name": "stdout",
     "output_type": "stream",
     "text": [
      "False\n",
      "Violates False\n",
      "pmod_results\t-0.11830000000000002\t0.7634\t0.93905\t1.0\t0.8781\t1.0\t0.0\t0.7598\t0.0036\n",
      "umod_results\t-0.018900000000000028\t0.9637166442695334\t0.97215\t0.9791\t0.9652\t1.0\t0.0418\t0.9672\t0.0368\n",
      "mod_results\t-0.04320000000000007\t0.9137035557331201\t0.9732\t0.9994\t0.947\t1.0\t0.0012\t0.9044\t0.0104\n",
      "False\n",
      "Violates False\n",
      "pmod_results\t-0.11129999999999995\t0.7775334799120528\t0.94135\t0.9997\t0.883\t1.0\t0.0006\t0.772\t0.006\n",
      "umod_results\t-0.01770000000000005\t0.9659090909090908\t0.96805\t0.9808\t0.9553\t1.0\t0.0384\t0.9568\t0.0462\n",
      "mod_results\t-0.02510000000000001\t0.9501786423183803\t0.97455\t0.9962\t0.9529\t1.0\t0.0076\t0.9316\t0.0258\n",
      "False\n",
      "Violates False\n",
      "pmod_results\t-0.11009999999999998\t0.7798\t0.93075\t1.0\t0.8615\t1.0\t0.0\t0.7514\t0.0284\n",
      "umod_results\t-0.04690000000000005\t0.9159949847752104\t0.94815\t0.9417\t0.9546\t1.0\t0.1166\t0.966\t0.0568\n",
      "mod_results\t-0.027700000000000002\t0.9447326416600159\t0.97135\t0.9988\t0.9439\t1.0\t0.0024\t0.9174\t0.0296\n"
     ]
    }
   ],
   "source": [
    "dist = {\n",
    "    'mu_ps': {'p': 13, 'u': 10},\n",
    "    'sigma_ps': {'p': 2, 'u': 5},\n",
    "    'mu_ns': {'p': 3, 'u': 0},\n",
    "    'sigma_ns': {'p': 2, 'u': 5},\n",
    "}\n",
    "\n",
    "model_results = {'p': [], 'u': [], 'm': []}\n",
    "kwargs['dist'] = dist\n",
    "model_types = [GaussianNB, LogisticRegression, DecisionTreeClassifier]\n",
    "for model_type in model_types:\n",
    "    \n",
    "    kwargs['verbose'] = False\n",
    "    train_fd, test_fd = get_datasets(10000, 10, 3, kwargs, test_random_state=47)\n",
    "    pmod, pmod_results = get_groupwise_performance(train_fd, train_fd, model_type,\n",
    "                                                   privileged=True, pos_rate=True)\n",
    "    umod, umod_results = get_groupwise_performance(train_fd, train_fd, model_type,\n",
    "                                                   privileged=False, pos_rate=True)\n",
    "    mod, mod_results = get_groupwise_performance(train_fd, train_fd, model_type,\n",
    "                                                 privileged=None, pos_rate=True)\n",
    "    \n",
    "    kwargs['verbose'] = True\n",
    "    if kwargs['verbose']:\n",
    "        print(opt_diff)\n",
    "    \n",
    "        print('Violates', opt_diff and violates)\n",
    "    \n",
    "        print('pmod_results', *pmod_results, sep='\\t')\n",
    "        print('umod_results', *umod_results, sep='\\t')\n",
    "        print('mod_results', *mod_results, sep='\\t')\n",
    "    model_results['p'].append(pmod_results)\n",
    "    model_results['u'].append(umod_results)\n",
    "    model_results['m'].append(mod_results)\n"
   ]
  },
  {
   "cell_type": "code",
   "execution_count": 10,
   "id": "confirmed-chemical",
   "metadata": {},
   "outputs": [
    {
     "data": {
      "text/plain": [
       "{'mu_ps': {'p': 13, 'u': 10},\n",
       " 'sigma_ps': {'p': 2, 'u': 5},\n",
       " 'mu_ns': {'p': 3, 'u': 0},\n",
       " 'sigma_ns': {'p': 2, 'u': 5}}"
      ]
     },
     "execution_count": 10,
     "metadata": {},
     "output_type": "execute_result"
    }
   ],
   "source": [
    "dist"
   ]
  },
  {
   "cell_type": "code",
   "execution_count": 11,
   "id": "involved-service",
   "metadata": {},
   "outputs": [
    {
     "data": {
      "text/plain": [
       "<matplotlib.legend.Legend at 0x27a2b244f40>"
      ]
     },
     "execution_count": 11,
     "metadata": {},
     "output_type": "execute_result"
    },
    {
     "data": {
      "image/png": "[encoded data removed]",
      "text/plain": [
       "<Figure size 432x288 with 1 Axes>"
      ]
     },
     "metadata": {
      "needs_background": "light"
     },
     "output_type": "display_data"
    }
   ],
   "source": [
    "plt.bar(range(0, len(model_types)*2, 2), [i[1] for i in model_results['u']], label='u')\n",
    "plt.bar(range(1, len(model_types)*2, 2), [i[1] for i in model_results['m']], label= 'm')\n",
    "plt.ylim(0.9, 1.1)\n",
    "plt.legend()"
   ]
  },
  {
   "cell_type": "code",
   "execution_count": 12,
   "id": "checked-economics",
   "metadata": {},
   "outputs": [
    {
     "name": "stdout",
     "output_type": "stream",
     "text": [
      "{'mu_ps': {'p': 13, 'u': 10}, 'sigma_ps': {'p': 2, 'u': 5}, 'mu_ns': {'p': 3, 'u': 0}, 'sigma_ns': {'p': 2, 'u': 5}}\n",
      "{'mu_ps': {'p': 13, 'u': 10}, 'sigma_ps': {'p': 2, 'u': 6}, 'mu_ns': {'p': 3, 'u': 0}, 'sigma_ns': {'p': 2, 'u': 6}}\n",
      "{'mu_ps': {'p': 13, 'u': 10}, 'sigma_ps': {'p': 2, 'u': 7}, 'mu_ns': {'p': 3, 'u': 0}, 'sigma_ns': {'p': 2, 'u': 7}}\n",
      "{'mu_ps': {'p': 13, 'u': 10}, 'sigma_ps': {'p': 2, 'u': 8}, 'mu_ns': {'p': 3, 'u': 0}, 'sigma_ns': {'p': 2, 'u': 8}}\n",
      "{'mu_ps': {'p': 13, 'u': 10}, 'sigma_ps': {'p': 2, 'u': 9}, 'mu_ns': {'p': 3, 'u': 0}, 'sigma_ns': {'p': 2, 'u': 9}}\n",
      "{'mu_ps': {'p': 13, 'u': 10}, 'sigma_ps': {'p': 2, 'u': 10}, 'mu_ns': {'p': 3, 'u': 0}, 'sigma_ns': {'p': 2, 'u': 10}}\n",
      "{'mu_ps': {'p': 13, 'u': 10}, 'sigma_ps': {'p': 2, 'u': 11}, 'mu_ns': {'p': 3, 'u': 0}, 'sigma_ns': {'p': 2, 'u': 11}}\n",
      "{'mu_ps': {'p': 13, 'u': 10}, 'sigma_ps': {'p': 2, 'u': 12}, 'mu_ns': {'p': 3, 'u': 0}, 'sigma_ns': {'p': 2, 'u': 12}}\n",
      "{'mu_ps': {'p': 13, 'u': 10}, 'sigma_ps': {'p': 2, 'u': 13}, 'mu_ns': {'p': 3, 'u': 0}, 'sigma_ns': {'p': 2, 'u': 13}}\n",
      "{'mu_ps': {'p': 13, 'u': 10}, 'sigma_ps': {'p': 2, 'u': 14}, 'mu_ns': {'p': 3, 'u': 0}, 'sigma_ns': {'p': 2, 'u': 14}}\n"
     ]
    }
   ],
   "source": [
    "from copy import deepcopy\n",
    "dist = {\n",
    "    'mu_ps': {'p': 13, 'u': 10},\n",
    "    'sigma_ps': {'p': 2, 'u': 5},\n",
    "    'mu_ns': {'p': 3, 'u': 0},\n",
    "    'sigma_ns': {'p': 2, 'u': 5},\n",
    "}\n",
    "\n",
    "results = {'p' : [], 'u': [], 'm': []}\n",
    "start = 0\n",
    "end = 10\n",
    "for i in range(start, end):\n",
    "    temp_dist = deepcopy(dist)\n",
    "    sigma_ps = temp_dist['sigma_ps']\n",
    "    sigma_ns = temp_dist['sigma_ns']\n",
    "    sigma_ps['u'] = sigma_ps['u'] + i\n",
    "    sigma_ns['u'] = sigma_ns['u'] + i\n",
    "\n",
    "    print(temp_dist)    \n",
    "    kwargs['dist'] = temp_dist\n",
    "    kwargs['verbose'] = False\n",
    "    \n",
    "    train_fd, test_fd = get_datasets(10000, 2, 1, kwargs, test_random_state=47)\n",
    "    pmod, pmod_results = get_groupwise_performance(train_fd, train_fd, model_type,\n",
    "                                                   privileged=True, pos_rate=True)\n",
    "    umod, umod_results = get_groupwise_performance(train_fd, train_fd, model_type,\n",
    "                                                   privileged=False, pos_rate=True)\n",
    "    mod, mod_results = get_groupwise_performance(train_fd, train_fd, model_type,\n",
    "                                                 privileged=None, pos_rate=True)\n",
    "    \n",
    "    results['p'].append(pmod_results)\n",
    "    results['u'].append(umod_results)\n",
    "    results['m'].append(mod_results)\n",
    "\n",
    "    # print(kwargs)"
   ]
  },
  {
   "cell_type": "code",
   "execution_count": 13,
   "id": "indoor-regular",
   "metadata": {},
   "outputs": [
    {
     "data": {
      "text/plain": [
       "<matplotlib.legend.Legend at 0x27a3450b760>"
      ]
     },
     "execution_count": 13,
     "metadata": {},
     "output_type": "execute_result"
    },
    {
     "data": {
      "image/png": "[encoded data removed]",
      "text/plain": [
       "<Figure size 432x288 with 1 Axes>"
      ]
     },
     "metadata": {
      "needs_background": "light"
     },
     "output_type": "display_data"
    }
   ],
   "source": [
    "plt.plot(range(start, end), [i[1] for i in results['u']], '*-', label='u')\n",
    "plt.plot(range(start, end), [i[1] for i in results['m']], '*-', label='m')\n",
    "plt.legend()"
   ]
  },
  {
   "cell_type": "code",
   "execution_count": 14,
   "id": "technical-suite",
   "metadata": {},
   "outputs": [
    {
     "data": {
      "text/plain": [
       "<matplotlib.legend.Legend at 0x27a31a4c640>"
      ]
     },
     "execution_count": 14,
     "metadata": {},
     "output_type": "execute_result"
    },
    {
     "data": {
      "image/png": "[encoded data removed]",
      "text/plain": [
       "<Figure size 432x288 with 1 Axes>"
      ]
     },
     "metadata": {
      "needs_background": "light"
     },
     "output_type": "display_data"
    }
   ],
   "source": [
    "#plt.plot(range(-10, n), [i[3] for i in results['p']], '*-', label='p')\n",
    "plt.plot(range(start, end), [abs(i[3] - i[4]) for i in results['u']], '*-', label='p-u')\n",
    "#plt.plot(range(-10, n), [i[2] for i in results['m']], '*-', label='m')\n",
    "plt.legend()"
   ]
  },
  {
   "cell_type": "code",
   "execution_count": null,
   "id": "associate-equilibrium",
   "metadata": {},
   "outputs": [],
   "source": []
  }
 ],
 "metadata": {
  "kernelspec": {
   "display_name": "Python 3",
   "language": "python",
   "name": "python3"
  },
  "language_info": {
   "codemirror_mode": {
    "name": "ipython",
    "version": 3
   },
   "file_extension": ".py",
   "mimetype": "text/x-python",
   "name": "python",
   "nbconvert_exporter": "python",
   "pygments_lexer": "ipython3",
   "version": "3.8.0"
  }
 },
 "nbformat": 4,
 "nbformat_minor": 5
}
