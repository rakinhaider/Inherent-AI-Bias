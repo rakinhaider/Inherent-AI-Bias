{
 "cells": [
  {
   "cell_type": "code",
   "execution_count": 1,
   "id": "novel-doctor",
   "metadata": {},
   "outputs": [],
   "source": [
    "import sys\n",
    "sys.path.insert(1, \"../\")\n",
    "\n",
    "import importlib\n",
    "import matplotlib.pyplot as plt\n",
    "import matplotlib\n",
    "%matplotlib inline\n",
    "import numpy as np\n",
    "from sklearn.linear_model import LogisticRegression \n",
    "from sklearn.tree import DecisionTreeClassifier\n",
    "from sklearn.naive_bayes import GaussianNB"
   ]
  },
  {
   "cell_type": "code",
   "execution_count": 2,
   "id": "ready-morrison",
   "metadata": {},
   "outputs": [],
   "source": [
    "def reload_modules():\n",
    "    import ghost_unfairness\n",
    "    importlib.reload(ghost_unfairness.fair_dataset)\n",
    "    importlib.reload(ghost_unfairness.utils)\n",
    "    \n",
    "reload_modules()\n",
    "\n",
    "from ghost_unfairness.fair_dataset import FairDataset, default_mappings\n",
    "\n",
    "from ghost_unfairness.utils import *"
   ]
  },
  {
   "cell_type": "code",
   "execution_count": 3,
   "id": "polish-collaboration",
   "metadata": {},
   "outputs": [],
   "source": [
    "protected = [\"sex\"]\n",
    "privileged_classes = [['Male']]\n",
    "metadata = default_mappings.copy()\n",
    "metadata['protected_attribute_maps'] = [{1.0: 'Male', 0.0: 'Female'}]\n",
    "\n",
    "alpha = 0.5\n",
    "beta = 1\n",
    "\n",
    "kwargs = {'protected_attribute_names': protected,\n",
    "          'privileged_classes': [['Male']],\n",
    "          'metadata':metadata,\n",
    "          'favorable_classes': [1],\n",
    "          'beta': beta,\n",
    "          'alpha': alpha\n",
    "         }\n",
    "\n",
    "random_state = 47\n",
    "model_type = GaussianNB"
   ]
  },
  {
   "cell_type": "code",
   "execution_count": 4,
   "id": "willing-gambling",
   "metadata": {
    "scrolled": true
   },
   "outputs": [
    {
     "name": "stdout",
     "output_type": "stream",
     "text": [
      "{'mu_ps': {'p': 4, 'u': 1}, 'sigma_ps': {'p': 4, 'u': 10}, 'mu_ns': {'p': 3, 'u': 0}, 'sigma_ns': {'p': 4, 'u': 10}}\n",
      "True\n",
      "Violates False\n",
      "pmod_results\t-0.16720000000000002\t0.7155011060064659\t0.5853\t0.6045\t0.5661\t0.6922\t0.4832\t0.4866\t0.3544\n",
      "umod_results\t-0.01650000000000007\t0.9740075614366729\t0.59755\t0.594\t0.6011\t0.7288\t0.5408\t0.7194\t0.5172\n",
      "mod_results\t-0.03370000000000006\t0.9468202619536057\t0.59765\t0.5955\t0.5998\t0.7292\t0.5382\t0.6998\t0.5002\n",
      "{'mu_ps': {'p': 5, 'u': 2}, 'sigma_ps': {'p': 4, 'u': 10}, 'mu_ns': {'p': 3, 'u': 0}, 'sigma_ns': {'p': 4, 'u': 10}}\n",
      "True\n",
      "Violates False\n",
      "pmod_results\t-0.14689999999999998\t0.7308044713212388\t0.60155\t0.6359\t0.5672\t0.6816\t0.4098\t0.466\t0.3316\n",
      "umod_results\t-0.04820000000000002\t0.9257204499922946\t0.6047\t0.6043\t0.6051\t0.7532\t0.5446\t0.7058\t0.4956\n",
      "mod_results\t-0.11209999999999998\t0.8255252918287938\t0.60545\t0.6101\t0.6008\t0.7526\t0.5324\t0.6312\t0.4296\n",
      "{'mu_ps': {'p': 6, 'u': 3}, 'sigma_ps': {'p': 4, 'u': 10}, 'mu_ns': {'p': 3, 'u': 0}, 'sigma_ns': {'p': 4, 'u': 10}}\n",
      "False\n",
      "Violates False\n",
      "pmod_results\t-0.1341\t0.7447173043974872\t0.62485\t0.6707\t0.579\t0.696\t0.3546\t0.4702\t0.3122\n",
      "umod_results\t-0.09199999999999997\t0.8612786489746683\t0.6129\t0.6168\t0.609\t0.78\t0.5464\t0.6802\t0.4622\n",
      "mod_results\t-0.1506\t0.7646507266760432\t0.6217\t0.6363\t0.6071\t0.7762\t0.5036\t0.5964\t0.3822\n",
      "{'mu_ps': {'p': 7, 'u': 4}, 'sigma_ps': {'p': 4, 'u': 10}, 'mu_ns': {'p': 3, 'u': 0}, 'sigma_ns': {'p': 4, 'u': 10}}\n",
      "False\n",
      "Violates False\n",
      "pmod_results\t-0.12629999999999997\t0.7539450613676213\t0.65285\t0.7083\t0.5974\t0.7216\t0.305\t0.4844\t0.2896\n",
      "umod_results\t-0.126\t0.8115746971736204\t0.6293\t0.6351\t0.6235\t0.8038\t0.5336\t0.6662\t0.4192\n",
      "mod_results\t-0.16150000000000003\t0.7440164843873831\t0.64075\t0.6647\t0.6168\t0.7956\t0.4662\t0.5862\t0.3526\n",
      "{'mu_ps': {'p': 8, 'u': 5}, 'sigma_ps': {'p': 4, 'u': 10}, 'mu_ns': {'p': 3, 'u': 0}, 'sigma_ns': {'p': 4, 'u': 10}}\n",
      "False\n",
      "Violates False\n",
      "pmod_results\t-0.1215\t0.7613904163393559\t0.67875\t0.7454\t0.6121\t0.7546\t0.2638\t0.4998\t0.2756\n",
      "umod_results\t-0.14469999999999994\t0.7849286563614745\t0.64715\t0.6574\t0.6369\t0.8302\t0.5154\t0.665\t0.3912\n",
      "mod_results\t-0.1609\t0.7410268791244166\t0.66485\t0.6995\t0.6302\t0.8208\t0.4218\t0.5906\t0.3302\n",
      "{'mu_ps': {'p': 9, 'u': 6}, 'sigma_ps': {'p': 4, 'u': 10}, 'mu_ns': {'p': 3, 'u': 0}, 'sigma_ns': {'p': 4, 'u': 10}}\n",
      "False\n",
      "Violates False\n",
      "pmod_results\t-0.1199\t0.7639299074620989\t0.70555\t0.7819\t0.6292\t0.7898\t0.226\t0.5172\t0.2588\n",
      "umod_results\t-0.1533\t0.771875\t0.66745\t0.6834\t0.6515\t0.8554\t0.4886\t0.6702\t0.3672\n",
      "mod_results\t-0.15520000000000006\t0.7453650533223953\t0.6912\t0.7369\t0.6455\t0.8464\t0.3726\t0.5998\t0.3088\n",
      "{'mu_ps': {'p': 10, 'u': 7}, 'sigma_ps': {'p': 4, 'u': 10}, 'mu_ns': {'p': 3, 'u': 0}, 'sigma_ns': {'p': 4, 'u': 10}}\n",
      "False\n",
      "Violates False\n",
      "pmod_results\t-0.11489999999999995\t0.7726103304967347\t0.72985\t0.8139\t0.6458\t0.8192\t0.1914\t0.5362\t0.2446\n",
      "umod_results\t-0.1519999999999999\t0.7723528530777296\t0.6873\t0.7079\t0.6667\t0.8756\t0.4598\t0.6824\t0.349\n",
      "mod_results\t-0.14679999999999999\t0.7552517505835279\t0.717\t0.771\t0.663\t0.8708\t0.3288\t0.616\t0.29\n",
      "{'mu_ps': {'p': 11, 'u': 8}, 'sigma_ps': {'p': 4, 'u': 10}, 'mu_ns': {'p': 3, 'u': 0}, 'sigma_ns': {'p': 4, 'u': 10}}\n",
      "False\n",
      "Violates False\n",
      "pmod_results\t-0.11419999999999997\t0.7740850642927795\t0.7547\t0.8461\t0.6633\t0.8516\t0.1594\t0.5546\t0.228\n",
      "umod_results\t-0.14780000000000004\t0.7758228424086151\t0.7112\t0.7387\t0.6837\t0.898\t0.4206\t0.6952\t0.3278\n",
      "mod_results\t-0.13689999999999997\t0.7671372682428985\t0.74215\t0.8035\t0.6808\t0.8914\t0.2844\t0.6318\t0.2702\n",
      "{'mu_ps': {'p': 12, 'u': 9}, 'sigma_ps': {'p': 4, 'u': 10}, 'mu_ns': {'p': 3, 'u': 0}, 'sigma_ns': {'p': 4, 'u': 10}}\n",
      "False\n",
      "Violates False\n",
      "pmod_results\t-0.11089999999999994\t0.7800912155463019\t0.77565\t0.8715\t0.6798\t0.8758\t0.1328\t0.5732\t0.2136\n",
      "umod_results\t-0.13849999999999996\t0.7856700711853916\t0.73445\t0.7702\t0.6987\t0.9164\t0.376\t0.7064\t0.309\n",
      "mod_results\t-0.12969999999999993\t0.7760317734415474\t0.76725\t0.8361\t0.6984\t0.9152\t0.243\t0.6478\t0.251\n",
      "{'mu_ps': {'p': 13, 'u': 10}, 'sigma_ps': {'p': 4, 'u': 10}, 'mu_ns': {'p': 3, 'u': 0}, 'sigma_ns': {'p': 4, 'u': 10}}\n",
      "False\n",
      "Violates False\n",
      "pmod_results\t-0.10959999999999998\t0.7826690462026572\t0.7948\t0.8947\t0.6949\t0.899\t0.1096\t0.5896\t0.1998\n",
      "umod_results\t-0.13160000000000005\t0.7929515418502202\t0.7547\t0.796\t0.7134\t0.9316\t0.3396\t0.7174\t0.2906\n",
      "mod_results\t-0.121\t0.7876075127259962\t0.7879\t0.8625\t0.7133\t0.9322\t0.2072\t0.662\t0.2354\n",
      "{'mu_ps': {'p': 14, 'u': 11}, 'sigma_ps': {'p': 4, 'u': 10}, 'mu_ns': {'p': 3, 'u': 0}, 'sigma_ns': {'p': 4, 'u': 10}}\n",
      "False\n",
      "Violates False\n",
      "pmod_results\t-0.10339999999999994\t0.7942288557213931\t0.8135\t0.9159\t0.7111\t0.9184\t0.0866\t0.6102\t0.188\n",
      "umod_results\t-0.12139999999999995\t0.805448717948718\t0.7779\t0.8242\t0.7316\t0.9482\t0.2998\t0.7342\t0.271\n",
      "mod_results\t-0.11060000000000003\t0.8025\t0.8086\t0.8882\t0.729\t0.9482\t0.1718\t0.6784\t0.2204\n",
      "{'mu_ps': {'p': 15, 'u': 12}, 'sigma_ps': {'p': 4, 'u': 10}, 'mu_ns': {'p': 3, 'u': 0}, 'sigma_ns': {'p': 4, 'u': 10}}\n",
      "False\n",
      "Violates False\n",
      "pmod_results\t-0.09979999999999994\t0.8013535031847134\t0.8295\t0.932\t0.727\t0.9344\t0.0704\t0.6296\t0.1756\n",
      "umod_results\t-0.11080000000000001\t0.8185688554118224\t0.7992\t0.8503\t0.7481\t0.961\t0.2604\t0.748\t0.2518\n",
      "mod_results\t-0.1013\t0.8166515837104072\t0.82605\t0.9079\t0.7442\t0.9604\t0.1446\t0.6954\t0.207\n",
      "{'mu_ps': {'p': 16, 'u': 13}, 'sigma_ps': {'p': 4, 'u': 10}, 'mu_ns': {'p': 3, 'u': 0}, 'sigma_ns': {'p': 4, 'u': 10}}\n",
      "False\n",
      "Violates False\n",
      "pmod_results\t-0.09769999999999995\t0.8054559936280368\t0.84515\t0.947\t0.7433\t0.9492\t0.0552\t0.6478\t0.1612\n",
      "umod_results\t-0.09940000000000004\t0.8333892054978209\t0.8179\t0.8728\t0.763\t0.9694\t0.2238\t0.7602\t0.2342\n",
      "mod_results\t-0.0912\t0.8325068870523415\t0.8423\t0.9259\t0.7587\t0.9704\t0.1186\t0.712\t0.1946\n",
      "{'mu_ps': {'p': 17, 'u': 14}, 'sigma_ps': {'p': 4, 'u': 10}, 'mu_ns': {'p': 3, 'u': 0}, 'sigma_ns': {'p': 4, 'u': 10}}\n",
      "False\n",
      "Violates False\n",
      "pmod_results\t-0.0948\t0.8112681664344017\t0.8587\t0.9595\t0.7579\t0.9618\t0.0428\t0.6654\t0.1496\n",
      "umod_results\t-0.08399999999999996\t0.8556452998797045\t0.836\t0.8937\t0.7783\t0.9756\t0.1882\t0.7762\t0.2196\n",
      "mod_results\t-0.0827\t0.846139534883721\t0.85655\t0.9395\t0.7736\t0.977\t0.098\t0.7284\t0.1812\n",
      "{'mu_ps': {'p': 18, 'u': 15}, 'sigma_ps': {'p': 4, 'u': 10}, 'mu_ns': {'p': 3, 'u': 0}, 'sigma_ns': {'p': 4, 'u': 10}}\n",
      "False\n",
      "Violates False\n",
      "pmod_results\t-0.08979999999999999\t0.8208300079808459\t0.8712\t0.9696\t0.7728\t0.9708\t0.0316\t0.6842\t0.1386\n",
      "umod_results\t-0.07240000000000008\t0.8727815849587066\t0.8523\t0.9115\t0.7931\t0.9806\t0.1576\t0.7898\t0.2036\n",
      "mod_results\t-0.07490000000000002\t0.8587325537533006\t0.87015\t0.952\t0.7883\t0.9822\t0.0782\t0.7436\t0.167\n",
      "{'mu_ps': {'p': 19, 'u': 16}, 'sigma_ps': {'p': 4, 'u': 10}, 'mu_ns': {'p': 3, 'u': 0}, 'sigma_ns': {'p': 4, 'u': 10}}\n",
      "True\n",
      "Violates False\n",
      "pmod_results\t-0.08789999999999998\t0.8242351529694062\t0.88185\t0.9769\t0.7868\t0.977\t0.0232\t0.699\t0.1254\n",
      "umod_results\t-0.060199999999999976\t0.8922884236893899\t0.8677\t0.9277\t0.8077\t0.9866\t0.1312\t0.8064\t0.191\n",
      "mod_results\t-0.06600000000000006\t0.8742138364779873\t0.882\t0.9625\t0.8015\t0.9872\t0.0622\t0.7602\t0.1572\n",
      "{'mu_ps': {'p': 20, 'u': 17}, 'sigma_ps': {'p': 4, 'u': 10}, 'mu_ns': {'p': 3, 'u': 0}, 'sigma_ns': {'p': 4, 'u': 10}}\n",
      "True\n",
      "Violates False\n",
      "pmod_results\t-0.08629999999999999\t0.827469012395042\t0.89085\t0.9834\t0.7983\t0.9836\t0.0168\t0.7122\t0.1156\n",
      "umod_results\t-0.050000000000000044\t0.9089584850691915\t0.8812\t0.9418\t0.8206\t0.991\t0.1074\t0.8198\t0.1786\n",
      "mod_results\t-0.06070000000000003\t0.8832916746779464\t0.89185\t0.9703\t0.8134\t0.9904\t0.0498\t0.7728\t0.146\n",
      "{'mu_ps': {'p': 21, 'u': 18}, 'sigma_ps': {'p': 4, 'u': 10}, 'mu_ns': {'p': 3, 'u': 0}, 'sigma_ns': {'p': 4, 'u': 10}}\n",
      "True\n",
      "Violates False\n",
      "pmod_results\t-0.08229999999999998\t0.8354\t0.89975\t0.9876\t0.8119\t0.9876\t0.0124\t0.7296\t0.1058\n",
      "umod_results\t-0.042800000000000005\t0.9209164818920916\t0.8922\t0.9526\t0.8318\t0.9938\t0.0886\t0.8302\t0.1666\n",
      "mod_results\t-0.055800000000000016\t0.8918185343156262\t0.9017\t0.9776\t0.8258\t0.9934\t0.0382\t0.7858\t0.1342\n",
      "{'mu_ps': {'p': 22, 'u': 19}, 'sigma_ps': {'p': 4, 'u': 10}, 'mu_ns': {'p': 3, 'u': 0}, 'sigma_ns': {'p': 4, 'u': 10}}\n",
      "True\n",
      "Violates False\n",
      "pmod_results\t-0.07889999999999997\t0.8422315536892622\t0.90765\t0.9909\t0.8244\t0.991\t0.0092\t0.7456\t0.0968\n",
      "umod_results\t-0.03340000000000004\t0.9372180451127818\t0.9039\t0.9634\t0.8444\t0.9954\t0.0686\t0.843\t0.1542\n",
      "mod_results\t-0.050399999999999945\t0.901658536585366\t0.9099\t0.9829\t0.8369\t0.9954\t0.0296\t0.799\t0.1252\n"
     ]
    }
   ],
   "source": [
    "from copy import deepcopy\n",
    "dist = {\n",
    "    'mu_ps': {'p': 3, 'u': 0},\n",
    "    'sigma_ps': {'p': 4, 'u': 10},\n",
    "    'mu_ns': {'p': 3, 'u': 0},\n",
    "    'sigma_ns': {'p': 4, 'u': 10},\n",
    "}\n",
    "\n",
    "results = {'p' : [], 'u': [], 'm': []}\n",
    "deltas = []\n",
    "start = 1\n",
    "end = 20\n",
    "for i in range(start, end):\n",
    "    temp_dist = deepcopy(dist)\n",
    "    mu_ps = temp_dist['mu_ps']\n",
    "    for k in mu_ps:\n",
    "        mu_ps[k] = mu_ps[k] + i\n",
    "    kwargs['dist'] = temp_dist\n",
    "    print(kwargs['dist'])    \n",
    "    \n",
    "    kwargs['verbose'] = False\n",
    "    train_fd, test_fd = get_datasets(10000, 2, 1, kwargs, test_random_state=23)\n",
    "    pmod, pmod_results = get_groupwise_performance(train_fd, train_fd, model_type,\n",
    "                                                   privileged=True, pos_rate=True)\n",
    "    umod, umod_results = get_groupwise_performance(train_fd, train_fd, model_type,\n",
    "                                                   privileged=False, pos_rate=True)\n",
    "    mod, mod_results = get_groupwise_performance(train_fd, train_fd, model_type,\n",
    "                                                 privileged=None, pos_rate=True)\n",
    "    \n",
    "    # is_u_optimal = umod_results[4] >= pmod_results[4] and umod_results[4] >= mod_results[4] \n",
    "    is_u_optimal = umod_results[4] > pmod_results[4]\n",
    "    # is_p_optimal = pmod_results[3] >= umod_results[3] and pmod_results[3] >= mod_results[3]\n",
    "    is_p_optimal = pmod_results[3] > umod_results[3]\n",
    "    is_m_optimal = mod_results[2] > umod_results[2] and mod_results[2] > pmod_results[2]\n",
    "    \n",
    "    opt_diff = is_u_optimal and is_p_optimal and is_m_optimal\n",
    "    \n",
    "    violates = mod_results[1] > umod_results[1] and mod_results[1] > pmod_results[1]\n",
    "    \n",
    "    kwargs['verbose'] = True\n",
    "    if kwargs['verbose']:\n",
    "        print(opt_diff)\n",
    "    \n",
    "        print('Violates', opt_diff and violates)\n",
    "    \n",
    "        print('pmod_results', *pmod_results, sep='\\t')\n",
    "        print('umod_results', *umod_results, sep='\\t')\n",
    "        print('mod_results', *mod_results, sep='\\t')\n",
    "    assert not (opt_diff and violates)\n",
    "    \n",
    "    # if opt_diff and not violates:\n",
    "    results['p'].append(pmod_results)\n",
    "    results['u'].append(umod_results)\n",
    "    results['m'].append(mod_results)\n",
    "\n",
    "    # print(kwargs)"
   ]
  },
  {
   "cell_type": "code",
   "execution_count": 5,
   "id": "precise-consent",
   "metadata": {},
   "outputs": [
    {
     "data": {
      "text/plain": [
       "<matplotlib.legend.Legend at 0x201d9b09a30>"
      ]
     },
     "execution_count": 5,
     "metadata": {},
     "output_type": "execute_result"
    },
    {
     "data": {
      "image/png": "[encoded data removed]",
      "text/plain": [
       "<Figure size 432x288 with 1 Axes>"
      ]
     },
     "metadata": {
      "needs_background": "light"
     },
     "output_type": "display_data"
    }
   ],
   "source": [
    "plt.plot(range(start, end), [i[1] for i in results['p']], '*-', label='p')\n",
    "plt.plot(range(start, end), [i[1] for i in results['u']], '*-', label='u')\n",
    "plt.plot(range(start, end), [i[1] for i in results['m']], '*-', label='m')\n",
    "plt.legend()"
   ]
  },
  {
   "cell_type": "code",
   "execution_count": 6,
   "id": "functioning-resource",
   "metadata": {},
   "outputs": [
    {
     "name": "stdout",
     "output_type": "stream",
     "text": [
      "0.0012999999999999678 0.009000000000000008\n",
      "-0.03699999999999992 -0.05499999999999999 0.019600000000000062 0.017000000000000015\n",
      "0.0042999999999999705 0.025800000000000045\n",
      "-0.07100000000000006 -0.12259999999999999 0.0746 0.066\n",
      "0.0019000000000000128 0.034399999999999986\n",
      "-0.08020000000000005 -0.14900000000000002 0.08379999999999999 0.08000000000000002\n",
      "0.006700000000000039 0.04360000000000008\n",
      "-0.07399999999999995 -0.1612 0.07999999999999996 0.06659999999999999\n",
      "0.006700000000000039 0.04589999999999994\n",
      "-0.06619999999999993 -0.15800000000000003 0.07440000000000002 0.061\n",
      "0.006000000000000005 0.04500000000000004\n",
      "-0.056600000000000095 -0.14659999999999998 0.07040000000000002 0.05840000000000001\n",
      "0.0036999999999999256 0.04289999999999994\n",
      "-0.05159999999999998 -0.1374 0.06640000000000001 0.059\n",
      "0.0029000000000000137 0.04259999999999997\n",
      "-0.03979999999999995 -0.125 0.06340000000000001 0.057599999999999985\n",
      "0.00029999999999996696 0.0354000000000001\n",
      "-0.03939999999999999 -0.11019999999999999 0.058599999999999985 0.057999999999999996\n",
      "9.999999999998899e-05 0.032200000000000006\n",
      "-0.03320000000000001 -0.09759999999999999 0.055400000000000005 0.05520000000000003\n",
      "0.0026000000000000467 0.027700000000000058\n",
      "-0.02980000000000005 -0.08520000000000001 0.05579999999999996 0.050600000000000006\n",
      "0.0039000000000000146 0.02410000000000001\n",
      "-0.026000000000000023 -0.0742 0.05259999999999998 0.044800000000000034\n",
      "0.0042999999999999705 0.021100000000000008\n",
      "-0.021199999999999997 -0.0634 0.04820000000000002 0.039599999999999996\n",
      "0.0047000000000000375 0.020000000000000018\n",
      "-0.015199999999999991 -0.055200000000000006 0.047799999999999954 0.03839999999999999\n",
      "0.0048000000000000265 0.01760000000000006\n",
      "-0.011399999999999966 -0.0466 0.04619999999999991 0.036599999999999994\n",
      "0.006199999999999983 0.014399999999999968\n",
      "-0.010199999999999987 -0.039 0.04620000000000002 0.0338\n",
      "0.007199999999999984 0.0131\n",
      "-0.006799999999999917 -0.033 0.04699999999999993 0.03260000000000002\n",
      "0.006000000000000005 0.010000000000000009\n",
      "-0.005799999999999916 -0.025799999999999997 0.044399999999999995 0.032399999999999984\n",
      "0.007500000000000062 0.008000000000000007\n",
      "-0.0043999999999999595 -0.0204 0.04399999999999993 0.028999999999999998\n",
      "(-0.3978260869565215, 0.027187299483067195)\n",
      "(-0.7262396694214878, 0.10019515816350089)\n",
      "(-0.7146596858638744, 0.09662792229862516)\n",
      "(-0.6232993197278918, 0.0675582127862373)\n",
      "(-0.6039250669045494, 0.043901777237057904)\n",
      "(-0.633858267716536, 0.026509946677604646)\n",
      "(-0.6634920634920622, 0.017101102494201714)\n",
      "(-0.7342233009708735, 0.00868557416571658)\n",
      "(-0.7794117647058829, 0.00963829774384417)\n",
      "(-0.8455657492354745, 0.005344029124224048)\n",
      "(-0.9252173913043494, 0.0029487179487179827)\n",
      "(-0.972055888223554, 0.0019172717014152019)\n",
      "(-1.0378250591016542, 0.0008823184454793687)\n",
      "(-1.2244318181818195, 0.009505764995983546)\n",
      "(-1.4275862068965552, 0.014049031205406015)\n",
      "(-1.6260162601625987, 0.018074587211402537)\n",
      "(-2.0, 0.025666810391245076)\n",
      "(-2.4303797468354444, 0.029097947576465444)\n",
      "(-2.9435483870967802, 0.03555950852741585)\n"
     ]
    },
    {
     "data": {
      "text/plain": [
       "[<matplotlib.lines.Line2D at 0x201df6fe3d0>]"
      ]
     },
     "execution_count": 6,
     "metadata": {},
     "output_type": "execute_result"
    },
    {
     "data": {
      "image/png": "[encoded data removed]",
      "text/plain": [
       "<Figure size 432x288 with 1 Axes>"
      ]
     },
     "metadata": {
      "needs_background": "light"
     },
     "output_type": "display_data"
    }
   ],
   "source": [
    "c_by_ds = []\n",
    "di_diffs = []\n",
    "for i in range(0, end - start):\n",
    "    pmod_res = results['p'][i]\n",
    "    umod_res = results['u'][i]\n",
    "    mod_res = results['m'][i]\n",
    "    di_u = umod_res[1]\n",
    "    di = mod_res[1]\n",
    "    acc_diff_u =  umod_res[4] - mod_res[4]\n",
    "    acc_diff_p = pmod_res[3] - mod_res[3]\n",
    "    print(acc_diff_u, acc_diff_p)\n",
    "    del_p_plus = pmod_res[5] - mod_res[5] \n",
    "    del_p_minus = pmod_res[6] - mod_res[6]\n",
    "\n",
    "    del_u_plus = umod_res[7] - mod_res[7]\n",
    "    del_u_minus = umod_res[8] - mod_res[8]\n",
    "    print(del_p_plus, del_p_minus, del_u_plus, del_u_minus)\n",
    "    c = acc_diff_u + 2 * (1-alpha) * del_u_minus\n",
    "    d = acc_diff_p + 2 * (1-alpha) * del_p_minus\n",
    "    if d == 0:\n",
    "        break\n",
    "    c_by_ds.append(c/d)\n",
    "    di_diffs.append(di_u - di)\n",
    "    if c > d:\n",
    "        assert di < di_u\n",
    "        \n",
    "print(*list(zip(c_by_ds, di_diffs)),sep='\\n')\n",
    "\n",
    "plt.plot(-np.log(np.abs(c_by_ds)), di_diffs, '*-')"
   ]
  },
  {
   "cell_type": "code",
   "execution_count": 7,
   "id": "hairy-hostel",
   "metadata": {},
   "outputs": [
    {
     "data": {
      "text/plain": [
       "[0.027187299483067195,\n",
       " 0.10019515816350089,\n",
       " 0.09662792229862516,\n",
       " 0.0675582127862373,\n",
       " 0.043901777237057904,\n",
       " 0.026509946677604646,\n",
       " 0.017101102494201714,\n",
       " 0.00868557416571658,\n",
       " 0.00963829774384417,\n",
       " 0.005344029124224048,\n",
       " 0.0029487179487179827,\n",
       " 0.0019172717014152019,\n",
       " 0.0008823184454793687,\n",
       " 0.009505764995983546,\n",
       " 0.014049031205406015,\n",
       " 0.018074587211402537,\n",
       " 0.025666810391245076,\n",
       " 0.029097947576465444,\n",
       " 0.03555950852741585]"
      ]
     },
     "execution_count": 7,
     "metadata": {},
     "output_type": "execute_result"
    }
   ],
   "source": [
    "acc_diff_u = [(i[0][4] - i[1][4]) for i in zip(results['u'], results['m'])]\n",
    "acc_diff_u\n",
    "acc_diff_p = [(i[0][3] - i[1][3]) for i in zip(results['p'], results['m'])]\n",
    "acc_diff_p\n",
    "di_diff = [i[0][1] - i[1][1] for i in zip(results['u'], results['m'])]\n",
    "di_diff"
   ]
  },
  {
   "cell_type": "code",
   "execution_count": 8,
   "id": "artificial-popularity",
   "metadata": {
    "scrolled": true
   },
   "outputs": [
    {
     "data": {
      "text/plain": [
       "<matplotlib.legend.Legend at 0x201df728820>"
      ]
     },
     "execution_count": 8,
     "metadata": {},
     "output_type": "execute_result"
    },
    {
     "data": {
      "image/png": "[encoded data removed]",
      "text/plain": [
       "<Figure size 432x288 with 1 Axes>"
      ]
     },
     "metadata": {
      "needs_background": "light"
     },
     "output_type": "display_data"
    }
   ],
   "source": [
    "#plt.plot(range(-10, n), [i[3] for i in results['p']], '*-', label='p')\n",
    "plt.plot(range(start, end), [abs(i[3] - i[4]) for i in results['u']], '*-', label='u')\n",
    "#plt.plot(range(-10, n), [i[2] for i in results['m']], '*-', label='m')\n",
    "plt.legend()"
   ]
  },
  {
   "cell_type": "code",
   "execution_count": 18,
   "id": "facial-october",
   "metadata": {},
   "outputs": [
    {
     "name": "stdout",
     "output_type": "stream",
     "text": [
      "True\n",
      "Violates False\n",
      "pmod_results\t-0.11830000000000002\t0.7634\t0.93905\t1.0\t0.8781\t1.0\t0.0\t0.7598\t0.0036\n",
      "umod_results\t-0.018900000000000028\t0.9637166442695334\t0.97215\t0.9791\t0.9652\t1.0\t0.0418\t0.9672\t0.0368\n",
      "mod_results\t-0.04320000000000007\t0.9137035557331201\t0.9732\t0.9994\t0.947\t1.0\t0.0012\t0.9044\t0.0104\n",
      "True\n",
      "Violates False\n",
      "pmod_results\t-0.11129999999999995\t0.7775334799120528\t0.94135\t0.9997\t0.883\t1.0\t0.0006\t0.772\t0.006\n",
      "umod_results\t-0.01770000000000005\t0.9659090909090908\t0.96805\t0.9808\t0.9553\t1.0\t0.0384\t0.9568\t0.0462\n",
      "mod_results\t-0.02510000000000001\t0.9501786423183803\t0.97455\t0.9962\t0.9529\t1.0\t0.0076\t0.9316\t0.0258\n",
      "True\n",
      "Violates False\n",
      "pmod_results\t-0.11009999999999998\t0.7798\t0.93075\t1.0\t0.8615\t1.0\t0.0\t0.7514\t0.0284\n",
      "umod_results\t-0.04690000000000005\t0.9159949847752104\t0.94815\t0.9417\t0.9546\t1.0\t0.1166\t0.966\t0.0568\n",
      "mod_results\t-0.027700000000000002\t0.9447326416600159\t0.97135\t0.9988\t0.9439\t1.0\t0.0024\t0.9174\t0.0296\n"
     ]
    }
   ],
   "source": [
    "dist = {\n",
    "    'mu_ps': {'p': 13, 'u': 10},\n",
    "    'sigma_ps': {'p': 2, 'u': 5},\n",
    "    'mu_ns': {'p': 3, 'u': 0},\n",
    "    'sigma_ns': {'p': 2, 'u': 5},\n",
    "}\n",
    "\n",
    "model_results = {'p': [], 'u': [], 'm': []}\n",
    "kwargs['dist'] = dist\n",
    "model_types = [GaussianNB, LogisticRegression, DecisionTreeClassifier]\n",
    "for model_type in model_types:\n",
    "    \n",
    "    kwargs['verbose'] = False\n",
    "    train_fd, test_fd = get_datasets(10000, 10, 3, kwargs, test_random_state=47)\n",
    "    pmod, pmod_results = get_groupwise_performance(train_fd, train_fd, model_type,\n",
    "                                                   privileged=True, pos_rate=True)\n",
    "    umod, umod_results = get_groupwise_performance(train_fd, train_fd, model_type,\n",
    "                                                   privileged=False, pos_rate=True)\n",
    "    mod, mod_results = get_groupwise_performance(train_fd, train_fd, model_type,\n",
    "                                                 privileged=None, pos_rate=True)\n",
    "    \n",
    "    kwargs['verbose'] = True\n",
    "    if kwargs['verbose']:\n",
    "        print(opt_diff)\n",
    "    \n",
    "        print('Violates', opt_diff and violates)\n",
    "    \n",
    "        print('pmod_results', *pmod_results, sep='\\t')\n",
    "        print('umod_results', *umod_results, sep='\\t')\n",
    "        print('mod_results', *mod_results, sep='\\t')\n",
    "    model_results['p'].append(pmod_results)\n",
    "    model_results['u'].append(umod_results)\n",
    "    model_results['m'].append(mod_results)\n"
   ]
  },
  {
   "cell_type": "code",
   "execution_count": 19,
   "id": "confirmed-chemical",
   "metadata": {},
   "outputs": [
    {
     "data": {
      "text/plain": [
       "{'mu_ps': {'p': 13, 'u': 10},\n",
       " 'sigma_ps': {'p': 2, 'u': 5},\n",
       " 'mu_ns': {'p': 3, 'u': 0},\n",
       " 'sigma_ns': {'p': 2, 'u': 5}}"
      ]
     },
     "execution_count": 19,
     "metadata": {},
     "output_type": "execute_result"
    }
   ],
   "source": [
    "dist"
   ]
  },
  {
   "cell_type": "code",
   "execution_count": 21,
   "id": "involved-service",
   "metadata": {},
   "outputs": [
    {
     "data": {
      "text/plain": [
       "<matplotlib.legend.Legend at 0x201e42952e0>"
      ]
     },
     "execution_count": 21,
     "metadata": {},
     "output_type": "execute_result"
    },
    {
     "data": {
      "image/png": "[encoded data removed]",
      "text/plain": [
       "<Figure size 432x288 with 1 Axes>"
      ]
     },
     "metadata": {
      "needs_background": "light"
     },
     "output_type": "display_data"
    }
   ],
   "source": [
    "plt.bar(range(0, len(model_types)*2, 2), [i[1] for i in model_results['u']], label='u')\n",
    "plt.bar(range(1, len(model_types)*2, 2), [i[1] for i in model_results['m']], label= 'm')\n",
    "plt.ylim(0.9, 1.1)\n",
    "plt.legend()"
   ]
  },
  {
   "cell_type": "code",
   "execution_count": 31,
   "id": "checked-economics",
   "metadata": {},
   "outputs": [
    {
     "name": "stdout",
     "output_type": "stream",
     "text": [
      "{'mu_ps': {'p': 13, 'u': 10}, 'sigma_ps': {'p': 2, 'u': 5}, 'mu_ns': {'p': 3, 'u': 0}, 'sigma_ns': {'p': 2, 'u': 5}}\n",
      "{'mu_ps': {'p': 13, 'u': 10}, 'sigma_ps': {'p': 2, 'u': 6}, 'mu_ns': {'p': 3, 'u': 0}, 'sigma_ns': {'p': 2, 'u': 6}}\n",
      "{'mu_ps': {'p': 13, 'u': 10}, 'sigma_ps': {'p': 2, 'u': 7}, 'mu_ns': {'p': 3, 'u': 0}, 'sigma_ns': {'p': 2, 'u': 7}}\n",
      "{'mu_ps': {'p': 13, 'u': 10}, 'sigma_ps': {'p': 2, 'u': 8}, 'mu_ns': {'p': 3, 'u': 0}, 'sigma_ns': {'p': 2, 'u': 8}}\n",
      "{'mu_ps': {'p': 13, 'u': 10}, 'sigma_ps': {'p': 2, 'u': 9}, 'mu_ns': {'p': 3, 'u': 0}, 'sigma_ns': {'p': 2, 'u': 9}}\n",
      "{'mu_ps': {'p': 13, 'u': 10}, 'sigma_ps': {'p': 2, 'u': 10}, 'mu_ns': {'p': 3, 'u': 0}, 'sigma_ns': {'p': 2, 'u': 10}}\n",
      "{'mu_ps': {'p': 13, 'u': 10}, 'sigma_ps': {'p': 2, 'u': 11}, 'mu_ns': {'p': 3, 'u': 0}, 'sigma_ns': {'p': 2, 'u': 11}}\n",
      "{'mu_ps': {'p': 13, 'u': 10}, 'sigma_ps': {'p': 2, 'u': 12}, 'mu_ns': {'p': 3, 'u': 0}, 'sigma_ns': {'p': 2, 'u': 12}}\n",
      "{'mu_ps': {'p': 13, 'u': 10}, 'sigma_ps': {'p': 2, 'u': 13}, 'mu_ns': {'p': 3, 'u': 0}, 'sigma_ns': {'p': 2, 'u': 13}}\n",
      "{'mu_ps': {'p': 13, 'u': 10}, 'sigma_ps': {'p': 2, 'u': 14}, 'mu_ns': {'p': 3, 'u': 0}, 'sigma_ns': {'p': 2, 'u': 14}}\n"
     ]
    }
   ],
   "source": [
    "from copy import deepcopy\n",
    "dist = {\n",
    "    'mu_ps': {'p': 13, 'u': 10},\n",
    "    'sigma_ps': {'p': 2, 'u': 5},\n",
    "    'mu_ns': {'p': 3, 'u': 0},\n",
    "    'sigma_ns': {'p': 2, 'u': 5},\n",
    "}\n",
    "\n",
    "results = {'p' : [], 'u': [], 'm': []}\n",
    "start = 0\n",
    "end = 10\n",
    "for i in range(start, end):\n",
    "    temp_dist = deepcopy(dist)\n",
    "    sigma_ps = temp_dist['sigma_ps']\n",
    "    sigma_ns = temp_dist['sigma_ns']\n",
    "    sigma_ps['u'] = sigma_ps['u'] + i\n",
    "    sigma_ns['u'] = sigma_ns['u'] + i\n",
    "\n",
    "    print(temp_dist)    \n",
    "    kwargs['dist'] = temp_dist\n",
    "    kwargs['verbose'] = False\n",
    "    \n",
    "    train_fd, test_fd = get_datasets(10000, 2, 1, kwargs, test_random_state=47)\n",
    "    pmod, pmod_results = get_groupwise_performance(train_fd, train_fd, model_type,\n",
    "                                                   privileged=True, pos_rate=True)\n",
    "    umod, umod_results = get_groupwise_performance(train_fd, train_fd, model_type,\n",
    "                                                   privileged=False, pos_rate=True)\n",
    "    mod, mod_results = get_groupwise_performance(train_fd, train_fd, model_type,\n",
    "                                                 privileged=None, pos_rate=True)\n",
    "    \n",
    "    results['p'].append(pmod_results)\n",
    "    results['u'].append(umod_results)\n",
    "    results['m'].append(mod_results)\n",
    "\n",
    "    # print(kwargs)"
   ]
  },
  {
   "cell_type": "code",
   "execution_count": 32,
   "id": "indoor-regular",
   "metadata": {},
   "outputs": [
    {
     "data": {
      "text/plain": [
       "<matplotlib.legend.Legend at 0x201efee7670>"
      ]
     },
     "execution_count": 32,
     "metadata": {},
     "output_type": "execute_result"
    },
    {
     "data": {
      "image/png": "[encoded data removed]",
      "text/plain": [
       "<Figure size 432x288 with 1 Axes>"
      ]
     },
     "metadata": {
      "needs_background": "light"
     },
     "output_type": "display_data"
    }
   ],
   "source": [
    "plt.plot(range(start, end), [i[1] for i in results['u']], '*-', label='u')\n",
    "plt.plot(range(start, end), [i[1] for i in results['m']], '*-', label='m')\n",
    "plt.legend()"
   ]
  },
  {
   "cell_type": "code",
   "execution_count": 33,
   "id": "technical-suite",
   "metadata": {},
   "outputs": [
    {
     "data": {
      "text/plain": [
       "<matplotlib.legend.Legend at 0x201efdbbd90>"
      ]
     },
     "execution_count": 33,
     "metadata": {},
     "output_type": "execute_result"
    },
    {
     "data": {
      "image/png": "[encoded data removed]",
      "text/plain": [
       "<Figure size 432x288 with 1 Axes>"
      ]
     },
     "metadata": {
      "needs_background": "light"
     },
     "output_type": "display_data"
    }
   ],
   "source": [
    "#plt.plot(range(-10, n), [i[3] for i in results['p']], '*-', label='p')\n",
    "plt.plot(range(start, end), [abs(i[3] - i[4]) for i in results['u']], '*-', label='p-u')\n",
    "#plt.plot(range(-10, n), [i[2] for i in results['m']], '*-', label='m')\n",
    "plt.legend()"
   ]
  },
  {
   "cell_type": "code",
   "execution_count": null,
   "id": "associate-equilibrium",
   "metadata": {},
   "outputs": [],
   "source": []
  }
 ],
 "metadata": {
  "kernelspec": {
   "display_name": "Python 3",
   "language": "python",
   "name": "python3"
  },
  "language_info": {
   "codemirror_mode": {
    "name": "ipython",
    "version": 3
   },
   "file_extension": ".py",
   "mimetype": "text/x-python",
   "name": "python",
   "nbconvert_exporter": "python",
   "pygments_lexer": "ipython3",
   "version": "3.8.0"
  }
 },
 "nbformat": 4,
 "nbformat_minor": 5
}
