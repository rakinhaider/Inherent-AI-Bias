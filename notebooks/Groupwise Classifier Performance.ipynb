{
 "cells": [
  {
   "cell_type": "code",
   "execution_count": 1,
   "metadata": {},
   "outputs": [],
   "source": [
    "import sys\n",
    "sys.path.insert(1, \"../\")\n",
    "\n",
    "import importlib\n",
    "import matplotlib.pyplot as plt\n",
    "import matplotlib\n",
    "%matplotlib inline\n",
    "import numpy as np\n",
    "from sklearn.linear_model import LogisticRegression \n",
    "from sklearn.tree import DecisionTreeClassifier\n",
    "from sklearn.naive_bayes import GaussianNB"
   ]
  },
  {
   "cell_type": "code",
   "execution_count": 2,
   "metadata": {},
   "outputs": [],
   "source": [
    "def reload_modules():\n",
    "    import ghost_unfairness\n",
    "    importlib.reload(ghost_unfairness.fair_dataset)\n",
    "    importlib.reload(ghost_unfairness.utils)\n",
    "    \n",
    "reload_modules()\n",
    "\n",
    "from ghost_unfairness.fair_dataset import FairDataset, default_mappings\n",
    "\n",
    "from ghost_unfairness.utils import *"
   ]
  },
  {
   "cell_type": "code",
   "execution_count": 3,
   "metadata": {},
   "outputs": [],
   "source": [
    "protected = [\"sex\"]\n",
    "privileged_classes = [['Male']]\n",
    "metadata = default_mappings.copy()\n",
    "metadata['protected_attribute_maps'] = [{1.0: 'Male', 0.0: 'Female'}]\n",
    "\n",
    "alpha = 0.5\n",
    "beta = 1\n",
    "\n",
    "kwargs = {'protected_attribute_names': protected,\n",
    "          'privileged_classes': [['Male']],\n",
    "          'metadata':metadata,\n",
    "          'favorable_classes': [1],\n",
    "          'beta': beta,\n",
    "          'alpha': alpha\n",
    "         }\n",
    "\n",
    "random_state = 47"
   ]
  },
  {
   "cell_type": "code",
   "execution_count": 4,
   "metadata": {},
   "outputs": [],
   "source": [
    "model_type = GaussianNB"
   ]
  },
  {
   "cell_type": "code",
   "execution_count": 5,
   "metadata": {},
   "outputs": [],
   "source": [
    "train_fd, test_fd = get_datasets(10000, 1, kwargs, test_random_state=23)\n",
    "pmod, pmod_results = get_groupwise_preformance(train_fd, test_fd, model_type,\n",
    "                                               privileged=True)\n",
    "umod, umod_results = get_groupwise_preformance(train_fd, test_fd, model_type,\n",
    "                                               privileged=False)\n",
    "mod, mod_results = get_groupwise_preformance(train_fd, test_fd, model_type,\n",
    "                                             privileged=None)"
   ]
  },
  {
   "cell_type": "code",
   "execution_count": 6,
   "metadata": {},
   "outputs": [
    {
     "name": "stdout",
     "output_type": "stream",
     "text": [
      "pmod_results\t-0.14939999999999998\t0.7006012024048097\t0.8955\t0.995\t0.796\n",
      "umod_results\t-0.07740000000000002\t0.8665977249224405\t0.8793\t0.9198\t0.8388\n",
      "mod_results\t-0.09419999999999995\t0.8183571153104513\t0.9037\t0.981\t0.8264\n"
     ]
    }
   ],
   "source": [
    "print('pmod_results', *pmod_results, sep='\\t')\n",
    "print('umod_results', *umod_results, sep='\\t')\n",
    "print('mod_results', *mod_results, sep='\\t')"
   ]
  },
  {
   "cell_type": "code",
   "execution_count": 7,
   "metadata": {},
   "outputs": [
    {
     "name": "stdout",
     "output_type": "stream",
     "text": [
      "                  0      sex         label\n",
      "count  10000.000000  10000.0  10000.000000\n",
      "mean       4.961304      0.0      0.500000\n",
      "std        7.097277      0.0      0.500025\n",
      "min      -18.399566      0.0      0.000000\n",
      "25%       -0.290851      0.0      0.000000\n",
      "50%        5.104661      0.0      0.500000\n",
      "75%       10.160836      0.0      1.000000\n",
      "max       31.222150      0.0      1.000000\n",
      "                  0      sex         label\n",
      "count  10000.000000  10000.0  10000.000000\n",
      "mean       8.005930      1.0      0.500000\n",
      "std        5.374212      0.0      0.500025\n",
      "min       -3.772758      1.0      0.000000\n",
      "25%        3.025029      1.0      0.000000\n",
      "50%        8.007648      1.0      0.500000\n",
      "75%       12.999936      1.0      1.000000\n",
      "max       19.927426      1.0      1.000000\n"
     ]
    }
   ],
   "source": [
    "df, _ = train_fd.convert_to_dataframe()\n",
    "for s, group in df.groupby(['sex']):\n",
    "    print(group.describe())"
   ]
  },
  {
   "cell_type": "code",
   "execution_count": 8,
   "metadata": {},
   "outputs": [],
   "source": [
    "from aif360.algorithms.preprocessing import DisparateImpactRemover\n",
    "\n",
    "di = DisparateImpactRemover(repair_level=1)\n",
    "train_repd = di.fit_transform(train_fd)\n",
    "test_repd = di.fit_transform(test_fd)\n",
    "model_type = GaussianNB\n",
    "rep_pmod, rep_pmod_results = get_groupwise_preformance(train_repd, test_repd, model_type,\n",
    "                                               privileged=True)\n",
    "rep_umod, rep_umod_results = get_groupwise_preformance(train_repd, test_repd, model_type,\n",
    "                                               privileged=False)\n",
    "rep_mod, rep_mod_results = get_groupwise_preformance(train_repd, test_repd, model_type,\n",
    "                                             privileged=None)"
   ]
  },
  {
   "cell_type": "code",
   "execution_count": 9,
   "metadata": {},
   "outputs": [
    {
     "name": "stdout",
     "output_type": "stream",
     "text": [
      "pmod_results\t0.0\t1.0\t0.9156\t0.9918\t0.8394\n",
      "umod_results\t0.0\t1.0\t0.9152\t0.9912\t0.8392\n",
      "mod_results\t0.0\t1.0\t0.9168\t0.9948\t0.8388\n"
     ]
    }
   ],
   "source": [
    "print('pmod_results', *rep_pmod_results, sep='\\t')\n",
    "print('umod_results', *rep_umod_results, sep='\\t')\n",
    "print('mod_results', *rep_mod_results, sep='\\t')"
   ]
  },
  {
   "cell_type": "code",
   "execution_count": 10,
   "metadata": {},
   "outputs": [
    {
     "name": "stdout",
     "output_type": "stream",
     "text": [
      "                  0      sex         label\n",
      "count  10000.000000  10000.0  10000.000000\n",
      "mean       4.830502      0.0      0.500000\n",
      "std        6.848710      0.0      0.500025\n",
      "min      -18.399566      0.0      0.000000\n",
      "25%       -0.290851      0.0      0.000000\n",
      "50%        5.104661      0.0      0.500000\n",
      "75%       10.160836      0.0      1.000000\n",
      "max       19.927426      0.0      1.000000\n",
      "                  0      sex         label\n",
      "count  10000.000000  10000.0  10000.000000\n",
      "mean       4.830502      1.0      0.500000\n",
      "std        6.848710      0.0      0.500025\n",
      "min      -18.399566      1.0      0.000000\n",
      "25%       -0.290851      1.0      0.000000\n",
      "50%        5.104661      1.0      0.500000\n",
      "75%       10.160836      1.0      1.000000\n",
      "max       19.927426      1.0      1.000000\n"
     ]
    }
   ],
   "source": [
    "df, _ = train_repd.convert_to_dataframe()\n",
    "for s, group in df.groupby(['sex']):\n",
    "    print(group.describe())"
   ]
  },
  {
   "cell_type": "code",
   "execution_count": 11,
   "metadata": {},
   "outputs": [
    {
     "name": "stdout",
     "output_type": "stream",
     "text": [
      "[[1.99842399]\n",
      " [1.99701377]]\n",
      "[[5.11499565]\n",
      " [4.97410084]]\n",
      "[[4.17130264]\n",
      " [4.0839225 ]]\n",
      "\n",
      "[[ 3.01710348]\n",
      " [12.99475632]]\n",
      "[[-0.03007637]\n",
      " [ 9.95268372]]\n",
      "[[ 1.49351355]\n",
      " [11.47372002]]\n"
     ]
    }
   ],
   "source": [
    "print(np.sqrt(pmod.sigma_))\n",
    "print(np.sqrt(umod.sigma_))\n",
    "print(np.sqrt(mod.sigma_))\n",
    "\n",
    "print()\n",
    "print(pmod.theta_)\n",
    "print(umod.theta_)\n",
    "print(mod.theta_)"
   ]
  },
  {
   "cell_type": "code",
   "execution_count": 12,
   "metadata": {},
   "outputs": [
    {
     "name": "stdout",
     "output_type": "stream",
     "text": [
      "[[4.08745357]\n",
      " [3.4708501 ]]\n",
      "[[5.11340262]\n",
      " [4.51584763]]\n",
      "[[4.64803627]\n",
      " [4.04932089]]\n",
      "\n",
      "[[-0.87240052]\n",
      " [10.53340505]]\n",
      "[[-0.03059387]\n",
      " [ 9.6915984 ]]\n",
      "[[-0.4514972 ]\n",
      " [10.11250172]]\n"
     ]
    }
   ],
   "source": [
    "print(np.sqrt(rep_pmod.sigma_))\n",
    "print(np.sqrt(rep_umod.sigma_))\n",
    "print(np.sqrt(rep_mod.sigma_))\n",
    "\n",
    "print()\n",
    "print(rep_pmod.theta_)\n",
    "print(rep_umod.theta_)\n",
    "print(rep_mod.theta_)"
   ]
  },
  {
   "cell_type": "code",
   "execution_count": 13,
   "metadata": {},
   "outputs": [],
   "source": [
    "import scipy.stats as stats\n",
    "import math\n",
    "\n",
    "def plot_normal(mu, sigma, label=None):\n",
    "    x = np.linspace(mu - 3*sigma, mu + 3*sigma, 100)\n",
    "    plt.plot(x, stats.norm.pdf(x, mu, sigma), label=label)\n",
    "    \n",
    "def plot_non_linear_boundary(mu1, mu2, sigma1, sigma2, p, d, label=None):\n",
    "    x = np.linspace(-200, 200, 10000)\n",
    "    y = np.log(p/(1-p)) - d*np.log(sigma1/sigma1) \n",
    "    y -= 1/(2*sigma1**2)*(x-mu1)**2 \n",
    "    y += 1/(2*sigma2**2)*(x-mu2)**2\n",
    "    plt.plot(x, y, label=label)\n",
    "    plt.legend()"
   ]
  },
  {
   "cell_type": "code",
   "execution_count": 14,
   "metadata": {},
   "outputs": [],
   "source": [
    "plot_non_linear_boundary(1.5, 11.5, 4.15, 4.15, 0.5, 1, 'Boundary')"
   ]
  },
  {
   "cell_type": "code",
   "execution_count": 15,
   "metadata": {},
   "outputs": [],
   "source": [
    "plot_normal(-3, 2, label='P Neg')\n",
    "plot_normal(13, 2, label='P Pos')\n",
    "plt.vlines(5, 0, 0.2, label = 'P Boundary')\n",
    "plt.xlim(-15, 25)\n",
    "plt.ylim(-0.005, 0.205)\n",
    "plt.legend()\n",
    "plt.tight_layout()"
   ]
  },
  {
   "cell_type": "code",
   "execution_count": 16,
   "metadata": {},
   "outputs": [],
   "source": [
    "plot_normal(0, 5, label='P Neg')\n",
    "plot_normal(10, 5, label='P Pos')\n",
    "plt.vlines(5, 0, 0.2, label = 'P Boundary')\n",
    "plt.xlim(-15, 25)\n",
    "plt.ylim(-0.005, 0.205)\n",
    "plt.legend()\n",
    "plt.tight_layout()"
   ]
  },
  {
   "cell_type": "code",
   "execution_count": 17,
   "metadata": {},
   "outputs": [],
   "source": [
    "plot_normal(1.5, 4.09, label='Pos')\n",
    "plot_normal(11.5, 4.09, label='Neg')\n",
    "plt.vlines(6.5, 0, 0.2, label='Boundary')\n",
    "plt.xlim(-15, 25)\n",
    "plt.ylim(-0.005, 0.205)\n",
    "plt.legend()\n",
    "plt.tight_layout()"
   ]
  },
  {
   "cell_type": "code",
   "execution_count": 18,
   "metadata": {},
   "outputs": [
    {
     "data": {
      "text/plain": [
       "(0.0, 0.2)"
      ]
     },
     "execution_count": 18,
     "metadata": {},
     "output_type": "execute_result"
    }
   ],
   "source": [
    "plot_normal(3, 2)\n",
    "plot_normal(13, 2)\n",
    "# plt.vlines(6.5, 0, 0.2)\n",
    "# plot_normal(0, 5)\n",
    "# plot_normal(10, 5)\n",
    "plt.vlines(5.5, 0, 0.2)\n",
    "plt.vlines(6.5, 0, 0.2)\n",
    "plt.xlim(0, 15)\n",
    "plt.ylim(0, 0.2)"
   ]
  },
  {
   "cell_type": "code",
   "execution_count": 19,
   "metadata": {},
   "outputs": [
    {
     "data": {
      "text/plain": [
       "(0.0, 0.2)"
      ]
     },
     "execution_count": 19,
     "metadata": {},
     "output_type": "execute_result"
    }
   ],
   "source": [
    "# plot_normal(3, 2)\n",
    "# plot_normal(10, 2)\n",
    "# plt.vlines(6.5, 0, 0.2)\n",
    "plot_normal(0, 5)\n",
    "plot_normal(10, 5)\n",
    "plt.vlines(5, 0, 0.2)\n",
    "plt.vlines(6.5, 0, 0.2)\n",
    "plt.xlim(0, 15)\n",
    "plt.ylim(0, 0.2)"
   ]
  },
  {
   "cell_type": "code",
   "execution_count": 20,
   "metadata": {},
   "outputs": [],
   "source": [
    "model_type = LogisticRegression\n",
    "train_fd, test_fd = get_datasets(10000, 2, kwargs, test_random_state=23)\n",
    "pmod, pmod_results = get_groupwise_preformance(train_fd, test_fd, model_type,\n",
    "                                               privileged=True)\n",
    "umod, umod_results = get_groupwise_preformance(train_fd, test_fd, model_type,\n",
    "                                               privileged=False)\n",
    "mod, mod_results = get_groupwise_preformance(train_fd, test_fd, model_type,\n",
    "                                             privileged=None)"
   ]
  },
  {
   "cell_type": "code",
   "execution_count": 21,
   "metadata": {},
   "outputs": [
    {
     "name": "stderr",
     "output_type": "stream",
     "text": [
      "<ipython-input-21-a512f64947f5>:4: UserWarning: Matplotlib is currently using agg, which is a non-GUI backend, so cannot show the figure.\n",
      "  plt.show()\n"
     ]
    }
   ],
   "source": [
    "plot_lr_boundary(pmod, plt, \"pos\")\n",
    "plot_lr_boundary(umod, plt, \"neg\")\n",
    "plot_lr_boundary(mod, plt, \"mod\")\n",
    "plt.show()"
   ]
  },
  {
   "cell_type": "code",
   "execution_count": 22,
   "metadata": {},
   "outputs": [
    {
     "name": "stdout",
     "output_type": "stream",
     "text": [
      "Loss D_p t_p 0.00019999999999997797\n",
      "Loss D_u t_u 0.07540000000000002\n",
      "Loss D t 0.04530000000000001\n"
     ]
    }
   ],
   "source": [
    "print(\"Loss D_p t_p\", 1 - pmod_results[3])\n",
    "print(\"Loss D_u t_u\", 1 - umod_results[4])\n",
    "print(\"Loss D t\", 1 - mod_results[2])"
   ]
  },
  {
   "cell_type": "code",
   "execution_count": 23,
   "metadata": {},
   "outputs": [
    {
     "name": "stdout",
     "output_type": "stream",
     "text": [
      "0.9998 0.9246 0.9547\n",
      "0.0378\n",
      "0.04530000000000001\n"
     ]
    }
   ],
   "source": [
    "mods = [pmod, umod, mod]\n",
    "mods_results = [pmod_results, umod_results, mod_results]\n",
    "theta_p = None\n",
    "theta_u = None\n",
    "theta = None\n",
    "min_loss_p = 1\n",
    "min_loss_u = 1\n",
    "min_loss = 1\n",
    "for i in range(len(mods)):\n",
    "    if (1 - mods_results[i][3]) < min_loss_p:\n",
    "        theta_p = mods[i]\n",
    "        min_loss_p = 1 - mods_results[i][3]\n",
    "    if (1 - mods_results[i][4]) < min_loss_u:\n",
    "        theta_u = mods[i]\n",
    "        min_loss_u = 1 - mods_results[i][4]\n",
    "        \n",
    "    if (1 - mods_results[i][2]) < min_loss:\n",
    "        theta = mods[i]\n",
    "        min_loss = 1 - mods_results[i][2]\n",
    "        \n",
    "print(1-min_loss_p, 1-min_loss_u, 1-min_loss)\n",
    "print((beta*min_loss_p + 1*min_loss_u)/(1+beta))\n",
    "print(min_loss)\n",
    "assert round(min_loss, 8) - round((beta*min_loss_p + 1*min_loss_u)/(1+beta), 8) >= 0"
   ]
  },
  {
   "cell_type": "code",
   "execution_count": 24,
   "metadata": {},
   "outputs": [
    {
     "name": "stdout",
     "output_type": "stream",
     "text": [
      "[-0.12519999999999998, 0.7496, 0.9315, 0.9998, 0.8632]\n",
      "[-0.03469999999999995, 0.9352128454070202, 0.94535, 0.9644, 0.9263]\n",
      "[-0.04629999999999995, 0.909126594700687, 0.95315, 0.9905, 0.9158]\n"
     ]
    }
   ],
   "source": [
    "ptrain_results = get_classifier_metrics(pmod, train_fd)\n",
    "\n",
    "print(ptrain_results)\n",
    "utrain_results = get_classifier_metrics(umod, train_fd)\n",
    "\n",
    "print(utrain_results)\n",
    "train_results = get_classifier_metrics(mod, train_fd)\n",
    "\n",
    "print(train_results)"
   ]
  },
  {
   "cell_type": "code",
   "execution_count": 25,
   "metadata": {
    "scrolled": true
   },
   "outputs": [
    {
     "data": {
      "text/plain": [
       "<matplotlib.legend.Legend at 0x2680ec40340>"
      ]
     },
     "execution_count": 25,
     "metadata": {},
     "output_type": "execute_result"
    }
   ],
   "source": [
    "plot_lr_boundary(pmod, plt, '_'.join([str(x) for x in [alpha, beta, 0.88]]))\n",
    "plot_lr_boundary(umod, plt, '_'.join([str(x) for x in [alpha, beta, 0.94]]))\n",
    "plot_lr_boundary(mod, plt, '_'.join([str(x) for x in [alpha, beta, 0.92]]))\n",
    "test_fd_x, test_fd_y = train_fd.get_xy(keep_protected=False)\n",
    "plt.scatter(test_fd_x['0'], test_fd_x['1'], c=test_fd_y, label=None)\n",
    "plt.xlim(-10, 20)\n",
    "plt.ylim(-10, 20)\n",
    "plt.legend()"
   ]
  },
  {
   "cell_type": "code",
   "execution_count": 26,
   "metadata": {},
   "outputs": [
    {
     "data": {
      "text/plain": [
       "{'sex': array([1.])}"
      ]
     },
     "execution_count": 26,
     "metadata": {},
     "output_type": "execute_result"
    }
   ],
   "source": [
    "dict(zip(test_fd.protected_attribute_names, test_fd.privileged_protected_attributes))"
   ]
  },
  {
   "cell_type": "code",
   "execution_count": 27,
   "metadata": {},
   "outputs": [],
   "source": [
    "import copy\n",
    "\n",
    "def get_edge_lr(model, end, interval, criteria):\n",
    "    cms = {}\n",
    "    c = 0\n",
    "    while True:\n",
    "        temp_mod = copy.deepcopy(model)\n",
    "        temp_mod.intercept_ = [i + c for i in temp_mod.intercept_]\n",
    "        cm = get_classifier_metrics(temp_mod, test_fd)\n",
    "\n",
    "        cms[c] = cm\n",
    "        if cm[criteria] < end:\n",
    "            break\n",
    "        c -= interval\n",
    "        \n",
    "    return temp_mod, cms\n",
    "\n",
    "    \n",
    "def get_lr_boundary_range(model, criteria):\n",
    "    cms = {}\n",
    "    temp_mods = [copy.deepcopy(model)]\n",
    "    left_mod, cms_left = get_edge_lr(model, 0.6, -0.1, criteria)\n",
    "    temp_mods.append(left_mod)\n",
    "    cms = cms_left.copy()\n",
    "    right_mod, cms_right = get_edge_lr(model, 0.6, 0.1, criteria)\n",
    "    temp_mods.append(right_mod)\n",
    "    cms.update(cms_right)\n",
    "\n",
    "    for i, lr in enumerate(temp_mods):\n",
    "        plot_lr_boundary(lr, plt, str(i))\n",
    "        \n",
    "    return temp_mods, cms"
   ]
  },
  {
   "cell_type": "code",
   "execution_count": 28,
   "metadata": {},
   "outputs": [],
   "source": [
    "def plot_cms(cms):\n",
    "    skeys = sorted(cms.keys())\n",
    "    accs = [cms[i][3] for i in skeys]\n",
    "    plt.plot(skeys, accs, label='Pos Acc')\n",
    "\n",
    "    accs = [cms[i][4] for i in skeys]\n",
    "    plt.plot(skeys, accs, label='Neg Acc')\n",
    "    plt.legend()\n",
    "\n",
    "    accs = [cms[i][2] for i in skeys]\n",
    "    plt.plot(skeys, accs, label='Ov Acc')\n",
    "    plt.legend()"
   ]
  },
  {
   "cell_type": "code",
   "execution_count": 29,
   "metadata": {},
   "outputs": [
    {
     "name": "stderr",
     "output_type": "stream",
     "text": [
      "<ipython-input-29-3119d761def3>:2: UserWarning: Matplotlib is currently using agg, which is a non-GUI backend, so cannot show the figure.\n",
      "  plt.show()\n"
     ]
    }
   ],
   "source": [
    "temp_mods, cms = get_lr_boundary_range(pmod, 3)\n",
    "plt.show()\n",
    "plot_cms(cms)"
   ]
  },
  {
   "cell_type": "code",
   "execution_count": 30,
   "metadata": {},
   "outputs": [
    {
     "name": "stderr",
     "output_type": "stream",
     "text": [
      "<ipython-input-30-9d5aa5e684aa>:2: UserWarning: Matplotlib is currently using agg, which is a non-GUI backend, so cannot show the figure.\n",
      "  plt.show()\n"
     ]
    }
   ],
   "source": [
    "temp_mods, cms = get_lr_boundary_range(umod, 4)\n",
    "plt.show()\n",
    "plot_cms(cms)"
   ]
  },
  {
   "cell_type": "code",
   "execution_count": 31,
   "metadata": {},
   "outputs": [
    {
     "name": "stderr",
     "output_type": "stream",
     "text": [
      "<ipython-input-31-1f2928bf5776>:2: UserWarning: Matplotlib is currently using agg, which is a non-GUI backend, so cannot show the figure.\n",
      "  plt.show()\n"
     ]
    }
   ],
   "source": [
    "temp_mods, cms = get_lr_boundary_range(mod, 2)\n",
    "plt.show()\n",
    "plot_cms(cms)"
   ]
  },
  {
   "cell_type": "code",
   "execution_count": 32,
   "metadata": {},
   "outputs": [
    {
     "name": "stderr",
     "output_type": "stream",
     "text": [
      "<ipython-input-32-aa646b921498>:18: UserWarning: Matplotlib is currently using agg, which is a non-GUI backend, so cannot show the figure.\n",
      "  plt.show()\n"
     ]
    },
    {
     "data": {
      "text/plain": [
       "<matplotlib.legend.Legend at 0x2680f3dc970>"
      ]
     },
     "execution_count": 32,
     "metadata": {},
     "output_type": "execute_result"
    }
   ],
   "source": [
    "gammas = [0, 0.2, 0.4, 0.6, 0.8, 1]\n",
    "\n",
    "cms = {}\n",
    "\n",
    "for g in gammas:\n",
    "    temp_mod = copy.deepcopy(pmod)\n",
    "    intercepts = np.add((1-g)*pmod.intercept_, g*umod.intercept_)\n",
    "    temp_mod.intercept_ = intercepts\n",
    "    coefs = np.add((1-g)*pmod.coef_, g*umod.coef_)\n",
    "    temp_mod.coef_ = coefs\n",
    "    cm = get_classifier_metrics(temp_mod, test_fd)\n",
    "    cms[g] = cm\n",
    "    plot_lr_boundary(temp_mod, plt, None)\n",
    "    \n",
    "    \n",
    "plt.xlim(-10, -5)\n",
    "plt.ylim(20, 25)\n",
    "plt.show()\n",
    "    \n",
    "skeys = sorted(cms.keys())\n",
    "accs = [cms[i][3] for i in skeys]\n",
    "plt.plot(skeys, accs, '*-', label='Pos Acc')\n",
    "\n",
    "accs = [cms[i][4] for i in skeys]\n",
    "plt.plot(skeys, accs, '*-', label='Neg Acc')\n",
    "plt.legend()\n",
    "\n",
    "accs = [cms[i][2] for i in skeys]\n",
    "plt.plot(skeys, accs, '*-', label='Ov Acc')\n",
    "plt.legend()\n",
    "\n",
    "# plt.hlines(0.935, 0, 1)"
   ]
  },
  {
   "cell_type": "code",
   "execution_count": 33,
   "metadata": {},
   "outputs": [
    {
     "name": "stdout",
     "output_type": "stream",
     "text": [
      "[-0.12079999999999996, 0.7584966013594563, 0.9326, 0.9998, 0.8654]\n",
      "[-0.10439999999999999, 0.7912834866053579, 0.9388, 0.9998, 0.8778]\n",
      "[-0.08580000000000004, 0.8286056731921694, 0.9471, 0.9994, 0.8948]\n",
      "[-0.06799999999999995, 0.8646496815286625, 0.9536, 0.9976, 0.9096]\n",
      "[-0.050399999999999945, 0.9010600706713782, 0.9548, 0.9906, 0.919]\n",
      "[-0.03760000000000002, 0.9297196261682242, 0.9448, 0.965, 0.9246]\n"
     ]
    }
   ],
   "source": [
    "print(*[cms[i] for i in cms], sep='\\n')"
   ]
  },
  {
   "cell_type": "code",
   "execution_count": 34,
   "metadata": {},
   "outputs": [
    {
     "name": "stdout",
     "output_type": "stream",
     "text": [
      "[0.9998, 0.9998, 0.9994, 0.9976, 0.9906, 0.965]\n",
      "[0.9246, 0.919, 0.9096, 0.8948, 0.8778, 0.8654]\n",
      "[0.0, 0.00040000000000006697, 0.0021999999999999797, 0.009199999999999986, 0.03480000000000005]\n",
      "[0.005599999999999938, 0.015000000000000013, 0.029799999999999938, 0.04679999999999995, 0.05920000000000003]\n"
     ]
    }
   ],
   "source": [
    "p = [cms[i][3] for i in cms]\n",
    "u = [cms[i][4] for i in cms]\n",
    "u.reverse()\n",
    "print(p)\n",
    "print(u)\n",
    "print([p[0] - p[i] for i in range(1, len(p))])\n",
    "print([u[0] - u[i] for i in range(1, len(u))])"
   ]
  },
  {
   "cell_type": "markdown",
   "metadata": {},
   "source": [
    "1. First get the decision boundary (Use NB or LR. maybe both are doable.)\n",
    "2. Using the boundary get $P(\\hat{y} = 1| u/p, \\theta_u/\\theta_p)$.\n",
    "3. Show that, $DI(\\theta_p)$ < $DI(\\theta)$ < $DI(\\theta_u)$"
   ]
  },
  {
   "cell_type": "code",
   "execution_count": 35,
   "metadata": {},
   "outputs": [],
   "source": [
    "from scipy.stats import norm\n",
    "def get_positive_prediction_rate(mu1, mu2, sigma1, sigma2, mu_avg):\n",
    "    rv1 = norm(loc=mu1, scale=sigma1)\n",
    "    # print(rv1.cdf(mu_avg))\n",
    "    rv2 = norm(loc=mu2, scale=sigma2)\n",
    "    # print(rv2.cdf(mu_avg))\n",
    "\n",
    "    return (1 - 0.5*rv1.cdf(mu_avg) - 0.5 * rv2.cdf(mu_avg))"
   ]
  },
  {
   "cell_type": "code",
   "execution_count": 36,
   "metadata": {},
   "outputs": [
    {
     "name": "stdout",
     "output_type": "stream",
     "text": [
      "0.3941314729298117\n",
      "0.5\n"
     ]
    }
   ],
   "source": [
    "print(get_positive_prediction_rate(0, 9, 5, 5, 6.5))\n",
    "print(get_positive_prediction_rate(3, 10, 2, 2, 6.5))"
   ]
  },
  {
   "cell_type": "code",
   "execution_count": 37,
   "metadata": {},
   "outputs": [
    {
     "data": {
      "text/plain": [
       "0.7882629458596234"
      ]
     },
     "execution_count": 37,
     "metadata": {},
     "output_type": "execute_result"
    }
   ],
   "source": [
    "0.3941314729298117/0.5"
   ]
  },
  {
   "cell_type": "code",
   "execution_count": 38,
   "metadata": {},
   "outputs": [
    {
     "name": "stdout",
     "output_type": "stream",
     "text": [
      "0.4733999276740303\n",
      "0.5762227943028405\n"
     ]
    },
    {
     "data": {
      "text/plain": [
       "0.8215570997096472"
      ]
     },
     "execution_count": 38,
     "metadata": {},
     "output_type": "execute_result"
    }
   ],
   "source": [
    "print(get_positive_prediction_rate(0, 9, 5, 5, 5))\n",
    "print(get_positive_prediction_rate(3, 10, 2, 2, 5))\n",
    "get_positive_prediction_rate(0, 9, 5, 5, 5)/get_positive_prediction_rate(3, 10, 2, 2, 5)"
   ]
  },
  {
   "cell_type": "code",
   "execution_count": 39,
   "metadata": {},
   "outputs": [
    {
     "data": {
      "text/plain": [
       "0.8665511265164645"
      ]
     },
     "execution_count": 39,
     "metadata": {},
     "output_type": "execute_result"
    }
   ],
   "source": [
    "0.5/0.577"
   ]
  },
  {
   "cell_type": "code",
   "execution_count": 40,
   "metadata": {},
   "outputs": [
    {
     "name": "stdout",
     "output_type": "stream",
     "text": [
      "0.4760449365530461\n",
      "0.5469808818805002\n"
     ]
    },
    {
     "data": {
      "text/plain": [
       "0.8703136660214176"
      ]
     },
     "execution_count": 40,
     "metadata": {},
     "output_type": "execute_result"
    }
   ],
   "source": [
    "print(get_positive_prediction_rate(0, 10, 5, 5, 5.495))\n",
    "print(get_positive_prediction_rate(3, 10, 2, 2, 5.495))\n",
    "get_positive_prediction_rate(0, 10, 5, 5, 5.495)/get_positive_prediction_rate(3, 10, 2, 2, 5.495)"
   ]
  },
  {
   "cell_type": "code",
   "execution_count": 41,
   "metadata": {},
   "outputs": [
    {
     "data": {
      "text/plain": [
       "0.8704019599082464"
      ]
     },
     "execution_count": 41,
     "metadata": {},
     "output_type": "execute_result"
    }
   ],
   "source": [
    "get_positive_prediction_rate(0, 10, 5, 5, 5.45916)/get_positive_prediction_rate(3, 10, 2, 2, 5.45916)"
   ]
  },
  {
   "cell_type": "code",
   "execution_count": 42,
   "metadata": {},
   "outputs": [
    {
     "name": "stdout",
     "output_type": "stream",
     "text": [
      "0.4336129124156428\n",
      "0.5338862079514434\n"
     ]
    },
    {
     "data": {
      "text/plain": [
       "0.8121822702246686"
      ]
     },
     "execution_count": 42,
     "metadata": {},
     "output_type": "execute_result"
    }
   ],
   "source": [
    "print(get_positive_prediction_rate(0, 9, 5, 5, 5.75))\n",
    "print(get_positive_prediction_rate(3, 10, 2, 2, 5.75))\n",
    "get_positive_prediction_rate(0, 9, 5, 5, 5.75)/get_positive_prediction_rate(3, 10, 2, 2, 5.75)"
   ]
  },
  {
   "cell_type": "code",
   "execution_count": 43,
   "metadata": {},
   "outputs": [
    {
     "data": {
      "text/plain": [
       "0.8694918432402026"
      ]
     },
     "execution_count": 43,
     "metadata": {},
     "output_type": "execute_result"
    }
   ],
   "source": [
    "0.4637/0.5333"
   ]
  },
  {
   "cell_type": "code",
   "execution_count": 44,
   "metadata": {},
   "outputs": [
    {
     "name": "stdout",
     "output_type": "stream",
     "text": [
      "5\t\t0.8630930829826579\n",
      "5.25\t\t0.8633581273930458\n",
      "5.5\t\t0.8607445711688895\n",
      "5.75\t\t0.8552113854984534\n",
      "6.0\t\t0.8468364943145887\n",
      "6.25\t\t0.8358012966730142\n",
      "6.5\t\t0.8223679909385787\n",
      "6.75\t\t0.8068537748189683\n",
      "7.0\t\t0.7896057928155817\n",
      "7.25\t\t0.7709797585841528\n",
      "7.5\t\t0.7513238914857889\n",
      "7.75\t\t0.7309685558482791\n",
      "8.0\t\t0.7102210333098821\n"
     ]
    },
    {
     "data": {
      "text/plain": [
       "[<matplotlib.lines.Line2D at 0x268129db760>]"
      ]
     },
     "execution_count": 44,
     "metadata": {},
     "output_type": "execute_result"
    }
   ],
   "source": [
    "i = 5\n",
    "ratios = []\n",
    "while i <= 8:\n",
    "    ratio = get_positive_prediction_rate(0, 10, 5, 5, i)/get_positive_prediction_rate(3, 13, 2, 2, i)\n",
    "    ratios.append(ratio)\n",
    "    print(i, ratio, sep='\\t\\t')\n",
    "    i+= 0.25\n",
    "    \n",
    "plt.plot(np.arange(5, 8.25, 0.25), ratios)"
   ]
  },
  {
   "cell_type": "code",
   "execution_count": 45,
   "metadata": {},
   "outputs": [
    {
     "name": "stdout",
     "output_type": "stream",
     "text": [
      "5\t\t0.8215570997096472\n",
      "5.25\t\t0.8205218538264236\n",
      "5.5\t\t0.8173419875105453\n",
      "5.75\t\t0.8121822702246686\n",
      "6.0\t\t0.8053358165743911\n",
      "6.25\t\t0.7972028096019748\n",
      "6.5\t\t0.7882629458596234\n"
     ]
    },
    {
     "data": {
      "text/plain": [
       "[<matplotlib.lines.Line2D at 0x268129ee400>]"
      ]
     },
     "execution_count": 45,
     "metadata": {},
     "output_type": "execute_result"
    }
   ],
   "source": [
    "i = 5\n",
    "ratios = []\n",
    "while i <= 6.5:\n",
    "    ratio = get_positive_prediction_rate(0, 9, 5, 5, i)/get_positive_prediction_rate(3, 10, 2, 2, i)\n",
    "    ratios.append(ratio)\n",
    "    print(i, ratio, sep='\\t\\t')\n",
    "    i+= 0.25\n",
    "    \n",
    "plt.plot(np.arange(5, 6.75,0.25), ratios)"
   ]
  },
  {
   "cell_type": "code",
   "execution_count": 46,
   "metadata": {},
   "outputs": [
    {
     "data": {
      "text/plain": [
       "0.8174257592607983"
      ]
     },
     "execution_count": 46,
     "metadata": {},
     "output_type": "execute_result"
    }
   ],
   "source": [
    "get_positive_prediction_rate(0, 9, 5, 5, 5.495)/get_positive_prediction_rate(3, 10, 2, 2, 5.495)"
   ]
  },
  {
   "cell_type": "code",
   "execution_count": 47,
   "metadata": {},
   "outputs": [
    {
     "name": "stdout",
     "output_type": "stream",
     "text": [
      "0.35511051665494103\n",
      "0.5\n"
     ]
    },
    {
     "data": {
      "text/plain": [
       "0.7102210333098821"
      ]
     },
     "execution_count": 47,
     "metadata": {},
     "output_type": "execute_result"
    }
   ],
   "source": [
    "print(get_positive_prediction_rate(0, 10, 5, 5, 8))\n",
    "print(get_positive_prediction_rate(3, 13, 2, 2, 8))\n",
    "get_positive_prediction_rate(0, 10, 5, 5, 8)/get_positive_prediction_rate(3, 13, 2, 2, 8)"
   ]
  },
  {
   "cell_type": "code",
   "execution_count": 48,
   "metadata": {},
   "outputs": [
    {
     "name": "stdout",
     "output_type": "stream",
     "text": [
      "0.5\n",
      "0.579311791344812\n"
     ]
    },
    {
     "data": {
      "text/plain": [
       "0.8630930829826579"
      ]
     },
     "execution_count": 48,
     "metadata": {},
     "output_type": "execute_result"
    }
   ],
   "source": [
    "print(get_positive_prediction_rate(0, 10, 5, 5, 5))\n",
    "print(get_positive_prediction_rate(3, 13, 2, 2, 5))\n",
    "get_positive_prediction_rate(0, 10, 5, 5, 5)/get_positive_prediction_rate(3, 13, 2, 2, 5)"
   ]
  },
  {
   "cell_type": "code",
   "execution_count": 49,
   "metadata": {},
   "outputs": [
    {
     "name": "stdout",
     "output_type": "stream",
     "text": [
      "0.42741841618126863\n",
      "0.5197410659107132\n"
     ]
    },
    {
     "data": {
      "text/plain": [
       "0.8223679909385787"
      ]
     },
     "execution_count": 49,
     "metadata": {},
     "output_type": "execute_result"
    }
   ],
   "source": [
    "print(get_positive_prediction_rate(0, 10, 5, 5, 6.5))\n",
    "print(get_positive_prediction_rate(3, 13, 2, 2, 6.5))\n",
    "get_positive_prediction_rate(0, 10, 5, 5, 6.5)/get_positive_prediction_rate(3, 13, 2, 2, 6.5)"
   ]
  }
 ],
 "metadata": {
  "kernelspec": {
   "display_name": "Python 3",
   "language": "python",
   "name": "python3"
  },
  "language_info": {
   "codemirror_mode": {
    "name": "ipython",
    "version": 3
   },
   "file_extension": ".py",
   "mimetype": "text/x-python",
   "name": "python",
   "nbconvert_exporter": "python",
   "pygments_lexer": "ipython3",
   "version": "3.8.0"
  }
 },
 "nbformat": 4,
 "nbformat_minor": 2
}
