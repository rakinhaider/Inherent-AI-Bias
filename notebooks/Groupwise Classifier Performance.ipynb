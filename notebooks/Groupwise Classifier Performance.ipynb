{
 "cells": [
  {
   "cell_type": "code",
   "execution_count": 1,
   "metadata": {},
   "outputs": [],
   "source": [
    "import sys\n",
    "sys.path.insert(1, \"../\")\n",
    "\n",
    "import importlib\n",
    "import matplotlib.pyplot as plt\n",
    "import numpy as np\n",
    "from sklearn.linear_model import LogisticRegression \n",
    "from sklearn.tree import DecisionTreeClassifier\n",
    "from sklearn.naive_bayes import GaussianNB"
   ]
  },
  {
   "cell_type": "code",
   "execution_count": 2,
   "metadata": {},
   "outputs": [],
   "source": [
    "def reload_modules():\n",
    "    import ghost_unfairness\n",
    "    importlib.reload(ghost_unfairness.fair_dataset)\n",
    "    importlib.reload(ghost_unfairness.utils)\n",
    "    \n",
    "reload_modules()\n",
    "\n",
    "from ghost_unfairness.fair_dataset import FairDataset, default_mappings\n",
    "\n",
    "from ghost_unfairness.utils import *"
   ]
  },
  {
   "cell_type": "code",
   "execution_count": 24,
   "metadata": {},
   "outputs": [],
   "source": [
    "protected = [\"sex\"]\n",
    "privileged_classes = [['Male']]\n",
    "metadata = default_mappings.copy()\n",
    "metadata['protected_attribute_maps'] = [{1.0: 'Male', 0.0: 'Female'}]\n",
    "\n",
    "alpha = 0.5\n",
    "beta = 1\n",
    "\n",
    "kwargs = {'protected_attribute_names': protected,\n",
    "          'privileged_classes': [['Male']],\n",
    "          'metadata':metadata,\n",
    "          'beta': beta,\n",
    "          'alpha': alpha\n",
    "         }\n",
    "\n",
    "privileged_groups = [{key:1 for key in protected}]\n",
    "unprivileged_groups = [{key:0 for key in protected}]\n",
    "\n",
    "random_state = 47"
   ]
  },
  {
   "cell_type": "code",
   "execution_count": 25,
   "metadata": {},
   "outputs": [],
   "source": [
    "model_type = LogisticRegression\n",
    "\n",
    "if model_type == DecisionTreeClassifier:\n",
    "    params = {'criterion':'entropy',\n",
    "          'random_state': 47} \n",
    "elif model_type == LogisticRegression:\n",
    "    params = {'class_weight': 'balanced',\n",
    "              'solver': 'liblinear'}\n",
    "elif model_type == GaussianNB:\n",
    "    params = {}"
   ]
  },
  {
   "cell_type": "code",
   "execution_count": 26,
   "metadata": {},
   "outputs": [],
   "source": [
    "train_fd = FairDataset(10000, 2, **kwargs,\n",
    "                      random_state=random_state)\n",
    "test_fd = FairDataset(5000, 2, **kwargs,\n",
    "                     random_state=53)"
   ]
  },
  {
   "cell_type": "code",
   "execution_count": 27,
   "metadata": {},
   "outputs": [
    {
     "data": {
      "text/plain": [
       "               instance weights   features                                 \\\n",
       "                                                      protected attribute   \n",
       "                                         0          1                 sex   \n",
       "instance names                                                              \n",
       "0                           1.0   3.411730   5.333523                 1.0   \n",
       "1                           1.0  -1.145280   1.734626                 1.0   \n",
       "2                           1.0   4.994253   7.789108                 1.0   \n",
       "3                           1.0   1.917533   4.505411                 1.0   \n",
       "4                           1.0  -1.300704   2.389119                 1.0   \n",
       "...                         ...        ...        ...                 ...   \n",
       "9995                        1.0   2.170465  12.626533                 0.0   \n",
       "9996                        1.0  -1.263141  15.023160                 0.0   \n",
       "9997                        1.0  17.615968   4.310421                 0.0   \n",
       "9998                        1.0   0.287736   0.688568                 0.0   \n",
       "9999                        1.0   6.174314  11.424978                 0.0   \n",
       "\n",
       "               labels  \n",
       "                       \n",
       "                       \n",
       "instance names         \n",
       "0                 1.0  \n",
       "1                 1.0  \n",
       "2                 1.0  \n",
       "3                 1.0  \n",
       "4                 1.0  \n",
       "...               ...  \n",
       "9995              0.0  \n",
       "9996              0.0  \n",
       "9997              0.0  \n",
       "9998              0.0  \n",
       "9999              0.0  \n",
       "\n",
       "[10000 rows x 5 columns]"
      ]
     },
     "execution_count": 27,
     "metadata": {},
     "output_type": "execute_result"
    }
   ],
   "source": [
    "test_fd"
   ]
  },
  {
   "cell_type": "code",
   "execution_count": 28,
   "metadata": {},
   "outputs": [],
   "source": [
    "def train_model(model_type, data, params):\n",
    "    \n",
    "    x, y = data.get_xy(keep_protected=False)\n",
    "    \n",
    "    model = model_type()\n",
    "    # params[variant] = val\n",
    "    model.set_params(**params)\n",
    "\n",
    "    model = model.fit(x, y)\n",
    "\n",
    "    return model"
   ]
  },
  {
   "cell_type": "code",
   "execution_count": 29,
   "metadata": {},
   "outputs": [],
   "source": [
    "train_fd_p = train_fd.get_privileged_group()\n",
    "train_fd_u = train_fd.get_unprivileged_group()\n",
    "\n",
    "pmod = train_model(model_type,\n",
    "                   train_fd_p, params)\n",
    "\n",
    "umod = train_model(model_type,\n",
    "                   train_fd_u, params)"
   ]
  },
  {
   "cell_type": "code",
   "execution_count": 30,
   "metadata": {},
   "outputs": [],
   "source": [
    "# df, _ = test_fd.convert_to_dataframe()\n",
    "# print(df[(df['sex']==1) & (df['label']==0)].describe())\n",
    "# print(df[(df['sex']==1) & (df['label']==1)].describe())\n",
    "# print(df[(df['sex']==0) & (df['label']==0)].describe())\n",
    "# print(df[(df['sex']==0) & (df['label']==1)].describe())"
   ]
  },
  {
   "cell_type": "code",
   "execution_count": 31,
   "metadata": {},
   "outputs": [],
   "source": [
    "# df, _ = train_fd_p.convert_to_dataframe()\n",
    "# print(df[df['label']==0].describe())\n",
    "# print(df[df['label']==1].describe())"
   ]
  },
  {
   "cell_type": "code",
   "execution_count": 32,
   "metadata": {},
   "outputs": [],
   "source": [
    "# df, _ = train_fd_u.convert_to_dataframe()\n",
    "# print(df[df['label']==0].describe())\n",
    "# print(df[df['label']==1].describe())"
   ]
  },
  {
   "cell_type": "code",
   "execution_count": 33,
   "metadata": {},
   "outputs": [
    {
     "name": "stdout",
     "output_type": "stream",
     "text": [
      "Mean Difference: 0.055400000000000005\n",
      "Disparate Impact: 0.1105788423153693\n",
      "Accuracy: 0.9511\n"
     ]
    },
    {
     "data": {
      "text/plain": [
       "[-0.055400000000000005, 0.8894211576846307, 0.9511, 0.995, 0.9072]"
      ]
     },
     "execution_count": 33,
     "metadata": {},
     "output_type": "execute_result"
    }
   ],
   "source": [
    "get_classifier_metrics(pmod, test_fd,\n",
    "                       unprivileged_groups,\n",
    "                       privileged_groups,\n",
    "                       verbose=True)"
   ]
  },
  {
   "cell_type": "code",
   "execution_count": 34,
   "metadata": {},
   "outputs": [
    {
     "name": "stdout",
     "output_type": "stream",
     "text": [
      "[[-1.10184103 -1.12328913]]\n"
     ]
    }
   ],
   "source": [
    "print(get_model_properties(pmod))"
   ]
  },
  {
   "cell_type": "code",
   "execution_count": 35,
   "metadata": {},
   "outputs": [
    {
     "name": "stdout",
     "output_type": "stream",
     "text": [
      "Mean Difference: 0.027599999999999958\n",
      "Disparate Impact: 0.05155024280911458\n",
      "Accuracy: 0.9448\n"
     ]
    },
    {
     "data": {
      "text/plain": [
       "[-0.027599999999999958, 0.9484497571908854, 0.9448, 0.9642, 0.9254]"
      ]
     },
     "execution_count": 35,
     "metadata": {},
     "output_type": "execute_result"
    }
   ],
   "source": [
    "get_classifier_metrics(umod, test_fd,\n",
    "                       unprivileged_groups,\n",
    "                       privileged_groups,\n",
    "                       verbose=True)"
   ]
  },
  {
   "cell_type": "code",
   "execution_count": 36,
   "metadata": {},
   "outputs": [
    {
     "name": "stdout",
     "output_type": "stream",
     "text": [
      "[[-0.39604845 -0.39754765]]\n"
     ]
    }
   ],
   "source": [
    "print(get_model_properties(umod))"
   ]
  },
  {
   "cell_type": "code",
   "execution_count": 37,
   "metadata": {},
   "outputs": [
    {
     "name": "stdout",
     "output_type": "stream",
     "text": [
      "Mean Difference: 0.035800000000000054\n",
      "Disparate Impact: 0.07011359185272237\n",
      "Accuracy: 0.9527\n"
     ]
    },
    {
     "data": {
      "text/plain": [
       "[-0.035800000000000054, 0.9298864081472776, 0.9527, 0.9882, 0.9172]"
      ]
     },
     "execution_count": 37,
     "metadata": {},
     "output_type": "execute_result"
    }
   ],
   "source": [
    "mod = train_model(model_type,\n",
    "                  train_fd, params)\n",
    "get_classifier_metrics(mod, test_fd,\n",
    "                       unprivileged_groups,\n",
    "                       privileged_groups,\n",
    "                       verbose=True)"
   ]
  },
  {
   "cell_type": "code",
   "execution_count": 38,
   "metadata": {},
   "outputs": [
    {
     "name": "stdout",
     "output_type": "stream",
     "text": [
      "[[-0.57190127 -0.56747824]]\n"
     ]
    }
   ],
   "source": [
    "print(get_model_properties(mod))"
   ]
  },
  {
   "cell_type": "code",
   "execution_count": 44,
   "metadata": {
    "scrolled": true
   },
   "outputs": [
    {
     "data": {
      "text/plain": [
       "<matplotlib.legend.Legend at 0x1f8ea668f48>"
      ]
     },
     "execution_count": 44,
     "metadata": {},
     "output_type": "execute_result"
    },
    {
     "data": {
      "image/png": "[encoded data removed]",
      "text/plain": [
       "<Figure size 432x288 with 1 Axes>"
      ]
     },
     "metadata": {
      "needs_background": "light"
     },
     "output_type": "display_data"
    }
   ],
   "source": [
    "plot_lr_boundary(pmod, plt, alpha, beta, 0.88)\n",
    "plot_lr_boundary(umod, plt, alpha, beta, 0.94)\n",
    "plot_lr_boundary(mod, plt, alpha, beta, 0.92)\n",
    "test_fd_x, test_fd_y = train_fd.get_xy(keep_protected=False)\n",
    "plt.scatter(test_fd_x['0'], test_fd_x['1'], c=test_fd_y, label=None)\n",
    "plt.xlim(-10, 20)\n",
    "plt.ylim(-10, 20)\n",
    "plt.legend()"
   ]
  },
  {
   "cell_type": "code",
   "execution_count": 19,
   "metadata": {},
   "outputs": [],
   "source": [
    "def get_model_performances(model_type, train, test, params):\n",
    "    train_p = train.get_privileged_group()\n",
    "    train_u = train.get_unprivileged_group()\n",
    "    \n",
    "    mod = train_model(model_type, train, params)\n",
    "    \n",
    "    pmod = train_model(model_type, train_p, params)\n",
    "\n",
    "    umod = train_model(model_type, train_u, params)\n",
    "    \n",
    "    \n",
    "    print('Mod')\n",
    "    _, mod_di, mod_ac, _, _ = get_classifier_metrics(mod, test,\n",
    "                                               privileged_groups,\n",
    "                                               unprivileged_groups,\n",
    "                                               verbose=True)\n",
    "    print('P Mod')\n",
    "    _, pmod_di, pmod_ac, _, _ = get_classifier_metrics(pmod, test,\n",
    "                                                 privileged_groups,\n",
    "                                                 unprivileged_groups,\n",
    "                                                 verbose=True)\n",
    "\n",
    "    print('U Mod')    \n",
    "    _, umod_di, umod_ac, _, _ = get_classifier_metrics(umod, test,\n",
    "                                                 privileged_groups,\n",
    "                                                 unprivileged_groups,\n",
    "                                                 verbose=True)"
   ]
  },
  {
   "cell_type": "code",
   "execution_count": 20,
   "metadata": {},
   "outputs": [
    {
     "name": "stdout",
     "output_type": "stream",
     "text": [
      "Mod\n",
      "Mean Difference: 0.004799999999999999\n",
      "Disparate Impact: 0.024365482233502433\n",
      "Accuracy: 0.9602\n",
      "P Mod\n",
      "Mean Difference: 0.01580000000000001\n",
      "Disparate Impact: 0.08512931034482762\n",
      "Accuracy: 0.9587\n",
      "U Mod\n",
      "Mean Difference: 0.0116\n",
      "Disparate Impact: 0.05183199285075957\n",
      "Accuracy: 0.9456\n",
      "Mod\n",
      "Mean Difference: 0.021799999999999986\n",
      "Disparate Impact: 0.12428734321550738\n",
      "Accuracy: 0.9645\n",
      "P Mod\n",
      "Mean Difference: 0.013800000000000007\n",
      "Disparate Impact: 0.07395498392282973\n",
      "Accuracy: 0.9585\n",
      "U Mod\n",
      "Mean Difference: 0.021999999999999992\n",
      "Disparate Impact: 0.12249443207126953\n",
      "Accuracy: 0.963\n",
      "Mod\n",
      "Mean Difference: 0.02159999999999998\n",
      "Disparate Impact: 0.12094064949608052\n",
      "Accuracy: 0.9622\n",
      "P Mod\n",
      "Mean Difference: 0.01580000000000001\n",
      "Disparate Impact: 0.0849462365591398\n",
      "Accuracy: 0.9589\n",
      "U Mod\n",
      "Mean Difference: 0.02460000000000001\n",
      "Disparate Impact: 0.132400430570506\n",
      "Accuracy: 0.9479\n",
      "Mod\n",
      "Mean Difference: 0.020800000000000013\n",
      "Disparate Impact: 0.11378555798687096\n",
      "Accuracy: 0.9546\n",
      "P Mod\n",
      "Mean Difference: 0.015399999999999997\n",
      "Disparate Impact: 0.0831533477321813\n",
      "Accuracy: 0.9579\n",
      "U Mod\n",
      "Mean Difference: 0.038199999999999984\n",
      "Disparate Impact: 0.20168954593453003\n",
      "Accuracy: 0.9225\n",
      "Mod\n",
      "Mean Difference: 0.019199999999999995\n",
      "Disparate Impact: 0.10355987055016169\n",
      "Accuracy: 0.9528\n",
      "P Mod\n",
      "Mean Difference: 0.015399999999999997\n",
      "Disparate Impact: 0.0831533477321813\n",
      "Accuracy: 0.9579\n",
      "U Mod\n",
      "Mean Difference: 0.045999999999999985\n",
      "Disparate Impact: 0.23834196891191706\n",
      "Accuracy: 0.9152\n",
      "Mod\n",
      "Mean Difference: 0.01899999999999999\n",
      "Disparate Impact: 0.10193133047210301\n",
      "Accuracy: 0.9515\n",
      "P Mod\n",
      "Mean Difference: 0.015399999999999997\n",
      "Disparate Impact: 0.0831533477321813\n",
      "Accuracy: 0.9579\n",
      "U Mod\n",
      "Mean Difference: 0.05259999999999998\n",
      "Disparate Impact: 0.27225672877846785\n",
      "Accuracy: 0.9111\n"
     ]
    }
   ],
   "source": [
    "params = {'criterion':'entropy',\n",
    "          'random_state': 47}\n",
    "    \n",
    "variant = 'max_depth'\n",
    "max_depths = [3, 5, 10, 15, 20, 25]\n",
    "for md in max_depths:\n",
    "    params[variant] = md\n",
    "    get_model_performances(DecisionTreeClassifier, train_fd, \n",
    "                           test_fd, params)"
   ]
  }
 ],
 "metadata": {
  "kernelspec": {
   "display_name": "Python 3",
   "language": "python",
   "name": "python3"
  },
  "language_info": {
   "codemirror_mode": {
    "name": "ipython",
    "version": 3
   },
   "file_extension": ".py",
   "mimetype": "text/x-python",
   "name": "python",
   "nbconvert_exporter": "python",
   "pygments_lexer": "ipython3",
   "version": "3.7.5"
  }
 },
 "nbformat": 4,
 "nbformat_minor": 2
}
