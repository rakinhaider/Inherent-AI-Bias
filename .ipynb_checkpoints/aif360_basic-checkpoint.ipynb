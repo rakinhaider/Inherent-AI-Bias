{
 "cells": [
  {
   "cell_type": "code",
   "execution_count": 2,
   "metadata": {
    "pycharm": {
     "is_executing": false
    }
   },
   "outputs": [
    {
     "name": "stderr",
     "output_type": "stream",
     "text": [
      "WARNING:root:No module named 'numba.decorators': LFR will be unavailable. To install, run:\n",
      "pip install 'aif360[LFR]'\n"
     ]
    }
   ],
   "source": [
    "import numpy as np\n",
    "import pandas as pd\n",
    "\n",
    "from aif360.datasets import (\n",
    "                            CompasDataset,\n",
    "                            GermanDataset\n",
    ")\n",
    "from aif360.metrics import (\n",
    "                            BinaryLabelDatasetMetric,\n",
    "                            ClassificationMetric\n",
    ")\n",
    "from aif360.algorithms.preprocessing import DisparateImpactRemover\n",
    "from sklearn.linear_model import LogisticRegression "
   ]
  },
  {
   "cell_type": "code",
   "execution_count": 3,
   "metadata": {
    "pycharm": {
     "is_executing": false
    }
   },
   "outputs": [
    {
     "name": "stderr",
     "output_type": "stream",
     "text": [
      "WARNING:root:Missing Data: 5 rows removed from CompasDataset.\n"
     ]
    }
   ],
   "source": [
    "data = CompasDataset()\n",
    "\n",
    "data_train, data_test = data.split([0.7], shuffle=True)\n",
    "\n",
    "privileged_groups = [{'sex': 1}]\n",
    "unprivileged_groups = [{'sex': 0}]"
   ]
  },
  {
   "cell_type": "code",
   "execution_count": 4,
   "metadata": {
    "pycharm": {
     "is_executing": false
    }
   },
   "outputs": [
    {
     "name": "stdout",
     "output_type": "stream",
     "text": [
      "#### Original training dataset\n",
      "Difference in mean outcomes between unprivileged and privileged groups = -0.132259\n",
      "-0.1322592776047945\n",
      "0.543790546802595\n",
      "0.6511056511056511\n",
      "0.5188463735008566\n"
     ]
    }
   ],
   "source": [
    "metric_orig_train = BinaryLabelDatasetMetric(data_train,\n",
    "                                             unprivileged_groups=unprivileged_groups,\n",
    "                                             privileged_groups=privileged_groups)\n",
    "print(\"#### Original training dataset\")\n",
    "print(\"Difference in mean outcomes \"\n",
    "      \"between unprivileged and privileged \"\n",
    "      \"groups = %f\"\n",
    "      % metric_orig_train.mean_difference())\n",
    "\n",
    "print(metric_orig_train.mean_difference())\n",
    "print(metric_orig_train.base_rate(privileged=None))\n",
    "print(metric_orig_train.base_rate(privileged=True))\n",
    "print(metric_orig_train.base_rate(privileged=False))"
   ]
  },
  {
   "cell_type": "code",
   "execution_count": 5,
   "metadata": {
    "pycharm": {
     "is_executing": false
    }
   },
   "outputs": [],
   "source": [
    "protected = 'sex'"
   ]
  },
  {
   "cell_type": "code",
   "execution_count": 6,
   "metadata": {
    "pycharm": {
     "is_executing": false
    }
   },
   "outputs": [
    {
     "data": {
      "text/plain": [
       "array([1., 0., 1., ..., 0., 0., 1.])"
      ]
     },
     "execution_count": 6,
     "metadata": {},
     "output_type": "execute_result"
    }
   ],
   "source": [
    "data_train.labels.ravel()"
   ]
  },
  {
   "cell_type": "code",
   "execution_count": 7,
   "metadata": {
    "pycharm": {
     "is_executing": false
    }
   },
   "outputs": [
    {
     "data": {
      "text/plain": [
       "LogisticRegression(C=1.0, class_weight='balanced', dual=False,\n",
       "                   fit_intercept=True, intercept_scaling=1, l1_ratio=None,\n",
       "                   max_iter=100, multi_class='warn', n_jobs=None, penalty='l2',\n",
       "                   random_state=None, solver='liblinear', tol=0.0001, verbose=0,\n",
       "                   warm_start=False)"
      ]
     },
     "execution_count": 7,
     "metadata": {},
     "output_type": "execute_result"
    }
   ],
   "source": [
    "X_tr = data_train.features\n",
    "X_te = data_test.features\n",
    "y_tr = data_train.labels.ravel()\n",
    "\n",
    "lmod = LogisticRegression(class_weight='balanced', solver='liblinear')\n",
    "lmod.fit(X_tr, y_tr)"
   ]
  },
  {
   "cell_type": "code",
   "execution_count": 8,
   "metadata": {
    "pycharm": {
     "is_executing": false
    }
   },
   "outputs": [
    {
     "name": "stdout",
     "output_type": "stream",
     "text": [
      "-0.3311533377642692\n",
      "0.5380875202593193\n",
      "0.8050139275766016\n",
      "0.4738605898123324\n",
      "0.5886365112201638\n"
     ]
    }
   ],
   "source": [
    "data_test_pred = data_test.copy()\n",
    "data_test_pred.labels = lmod.predict(X_te)\n",
    "\n",
    "p = [{protected: 1}]\n",
    "u = [{protected: 0}]\n",
    "cm = BinaryLabelDatasetMetric(data_test_pred, privileged_groups=p, unprivileged_groups=u)\n",
    "print(cm.mean_difference())\n",
    "print(cm.base_rate(privileged=None))\n",
    "print(cm.base_rate(privileged=True))\n",
    "print(cm.base_rate(privileged=False))\n",
    "print(cm.disparate_impact())"
   ]
  },
  {
   "cell_type": "code",
   "execution_count": 9,
   "metadata": {
    "pycharm": {
     "is_executing": false
    }
   },
   "outputs": [
    {
     "name": "stdout",
     "output_type": "stream",
     "text": [
      "-0.3311533377642692\n",
      "0.546191247974068\n",
      "0.6406685236768802\n",
      "0.5234584450402144\n",
      "0.5886365112201638\n"
     ]
    }
   ],
   "source": [
    "classifier_metric = ClassificationMetric(data_test, data_test_pred, privileged_groups=p, unprivileged_groups=u)\n",
    "print(classifier_metric.mean_difference())\n",
    "print(classifier_metric.base_rate(privileged=None))\n",
    "print(classifier_metric.base_rate(privileged=True))\n",
    "print(classifier_metric.base_rate(privileged=False))\n",
    "print(classifier_metric.disparate_impact())"
   ]
  },
  {
   "cell_type": "code",
   "execution_count": 211,
   "metadata": {},
   "outputs": [],
   "source": [
    "from aif360.datasets import StandardDataset\n",
    "\n",
    "default_mappings = {\n",
    "    'label_maps': [{1.0: 'Yes', 0.0: 'No'}],\n",
    "    'protected_attribute_maps': [{0.0: 'Male', 1.0: 'Female'},\n",
    "                                 {1.0: 'Caucasian', 0.0: 'Not Caucasian'}]\n",
    "}\n",
    "\n",
    "class FairDataset(StandardDataset):\n",
    "    def __init__(self, n_samples, n_features, label_name='label', favorable_classes=[0],\n",
    "                 protected_attribute_names=['sex', 'race'],\n",
    "                 privileged_classes=[['Female'], ['Caucasian']],\n",
    "                 instance_weights_name=None,\n",
    "                 categorical_features=[],\n",
    "                 features_to_keep=None,\n",
    "                 features_to_drop=[], na_values=[],\n",
    "                 custom_preprocessing=None,\n",
    "                 metadata=default_mappings):\n",
    "        \"\"\"\n",
    "            Args:\n",
    "                n_samples (int): Number of positive and negative instances \n",
    "                    in each group.\n",
    "                    If there are x protected attributes\n",
    "                    and y values per protected attribute then,\n",
    "                    the FairDataset class creates a dataset with (y^x)*n*2\n",
    "                    instances with each group having n positive and negative \n",
    "                    instance each.\n",
    "                    \n",
    "                n_features (int): Number of features in the dataset except \n",
    "                    the protected attributes.\n",
    "                \n",
    "                See :obj:`StandardDataset` for a description of the arguments.\n",
    "        \"\"\"\n",
    "        protected_attribute_maps = metadata['protected_attribute_maps']\n",
    "        \n",
    "        generator = self._get_next_group(protected_attribute_names,\n",
    "                                        protected_attribute_maps)\n",
    "        df = pd.DataFrame()\n",
    "        mu_p = 0\n",
    "        sigma_p = 5\n",
    "        mu_n = 3\n",
    "        sigma_n = 5\n",
    "        for d in generator:\n",
    "            features = sigma_p * np.random.randn(n_samples, n_features) + mu_p\n",
    "            group_df_pos = pd.DataFrame(features)\n",
    "            features = sigma_n * np.random.randn(n_samples, n_features) + mu_n\n",
    "            group_df_neg = pd.DataFrame(features)\n",
    "            for feature in protected_attribute_names:\n",
    "                group_df_pos[feature] = [d[feature]]*n_samples\n",
    "                group_df_neg[feature] = [d[feature]]*n_samples\n",
    "                \n",
    "            group_df_pos[label_name] = np.ones(n_samples)\n",
    "            group_df_neg[label_name] = np.zeros(n_samples)\n",
    "            df = pd.concat([df, group_df_pos, group_df_neg], \n",
    "                           ignore_index=True)\n",
    "                \n",
    "                \n",
    "        super(FairDataset, self).__init__(df=df, label_name=label_name,\n",
    "            favorable_classes=favorable_classes,\n",
    "            protected_attribute_names=protected_attribute_names,\n",
    "            privileged_classes=privileged_classes,\n",
    "            instance_weights_name=instance_weights_name,\n",
    "            categorical_features=categorical_features,\n",
    "            features_to_keep=features_to_keep,\n",
    "            features_to_drop=features_to_drop, na_values=na_values,\n",
    "            custom_preprocessing=custom_preprocessing, metadata=metadata)   \n",
    "    \n",
    "    def get_xy(self, ignore_protected=False):\n",
    "        x, _ = self.convert_to_dataframe()\n",
    "        ignore_fields = self.label_names.copy() \n",
    "        if ignore_protected:\n",
    "            ignore_fields += self.protected_attribute_names\n",
    "\n",
    "        x = x.drop(columns=ignore_fields)\n",
    "        \n",
    "        y = self.labels.ravel()\n",
    "        return x, y\n",
    "    \n",
    "    def _get_next_group(self, attributes, value_maps):\n",
    "        val_counts = []\n",
    "        for i in range(len(value_maps)):\n",
    "            val_counts.append(len(value_maps[i])) \n",
    "\n",
    "        cur_val_index = [0 for a in attributes]\n",
    "        while True:\n",
    "            cur_combination = {}\n",
    "            for i in range(len(attributes)):\n",
    "                key = attributes[i]\n",
    "                mp = value_maps[i]\n",
    "                val = mp[list(mp)[cur_val_index[i]]]\n",
    "                cur_combination[key] = val\n",
    "            yield cur_combination\n",
    "\n",
    "            update_from = -1\n",
    "            for i in range(len(attributes)):\n",
    "                if cur_val_index[i] < val_counts[i] - 1:\n",
    "                    update_from = i\n",
    "                    break\n",
    "\n",
    "            for i in range(update_from):\n",
    "                cur_val_index[i] = 0\n",
    "            cur_val_index[update_from] += 1\n",
    "            if update_from == -1:\n",
    "                break\n"
   ]
  },
  {
   "cell_type": "code",
   "execution_count": 212,
   "metadata": {},
   "outputs": [],
   "source": [
    "fd_train = FairDataset(100, 5)\n",
    "fd_test = FairDataset(50, 5)"
   ]
  },
  {
   "cell_type": "code",
   "execution_count": 215,
   "metadata": {},
   "outputs": [],
   "source": [
    "fd_train_x, fd_train_y = fd_train.get_xy(ignore_protected = True)\n",
    "fd_test_x, fd_test_y = fd_test.get_xy(ignore_protected = True)"
   ]
  },
  {
   "cell_type": "code",
   "execution_count": 216,
   "metadata": {},
   "outputs": [],
   "source": [
    "def get_dataset_metrics(fd_train,\n",
    "                         unprivileged_groups,\n",
    "                         privileged_groups,\n",
    "                         verbose=False):\n",
    "\n",
    "    metrics = BinaryLabelDatasetMetric(fd_train,\n",
    "                                     unprivileged_groups=unprivileged_groups,\n",
    "                                     privileged_groups=privileged_groups)\n",
    "    \n",
    "    if verbose:\n",
    "        print('Mean Difference:', metrics.mean_difference())\n",
    "        print('Dataset Base Rate', metrics.base_rate(privileged=None))\n",
    "        print('Privileged Base Rate', metrics.base_rate(privileged=True))\n",
    "        print('Protected Base Rate', metrics.base_rate(privileged=False))\n",
    "        print('Disparate Impact:', metrics.disparate_impact())\n",
    "        # print('Confusion Matrix:', metrics.binary_confusion_matrix())\n",
    "        \n",
    "    return metrics.mean_difference(), metrics.disparate_impact()"
   ]
  },
  {
   "cell_type": "code",
   "execution_count": 217,
   "metadata": {},
   "outputs": [
    {
     "name": "stdout",
     "output_type": "stream",
     "text": [
      "Mean Difference: 0.0\n",
      "Dataset Base Rate 0.5\n",
      "Privileged Base Rate 0.5\n",
      "Protected Base Rate 0.5\n",
      "Disparate Impact: 1.0\n"
     ]
    },
    {
     "data": {
      "text/plain": [
       "(0.0, 1.0)"
      ]
     },
     "execution_count": 217,
     "metadata": {},
     "output_type": "execute_result"
    }
   ],
   "source": [
    "get_dataset_metrics(fd_train,\n",
    "                    unprivileged_groups,\n",
    "                    privileged_groups, \n",
    "                    verbose=True)"
   ]
  },
  {
   "cell_type": "code",
   "execution_count": 248,
   "metadata": {},
   "outputs": [],
   "source": [
    "def get_classifier_metrics(clf, data,\n",
    "                      unprivileged_groups,\n",
    "                      privileged_groups,\n",
    "                      verbose=False):\n",
    "\n",
    "    data_pred = data.copy()\n",
    "    data_x, data_y = data.get_xy(ignore_protected=True)\n",
    "    data_pred.labels = clf.predict(data_x)\n",
    "\n",
    "    metrics = ClassificationMetric(data, \n",
    "                                   data_pred, \n",
    "                                   privileged_groups=privileged_groups, \n",
    "                                   unprivileged_groups=unprivileged_groups)\n",
    "    \n",
    "    if verbose:\n",
    "        print('Mean Difference:', abs(0-metrics.mean_difference()))\n",
    "        print('Disparate Impact:', abs(1 - metrics.disparate_impact()))\n",
    "        # print('Confusion Matrix:', metrics.binary_confusion_matrix())\n",
    "        print('Accuracy:', metrics.accuracy())\n",
    "\n",
    "        \n",
    "    return metrics.mean_difference(), metrics.disparate_impact(), metrics.accuracy()"
   ]
  },
  {
   "cell_type": "code",
   "execution_count": 249,
   "metadata": {
    "pycharm": {
     "name": "#%%\n"
    }
   },
   "outputs": [
    {
     "data": {
      "text/plain": [
       "LogisticRegression(C=1.0, class_weight='balanced', dual=False,\n",
       "                   fit_intercept=True, intercept_scaling=1, l1_ratio=None,\n",
       "                   max_iter=100, multi_class='warn', n_jobs=None, penalty='l2',\n",
       "                   random_state=None, solver='liblinear', tol=0.0001, verbose=0,\n",
       "                   warm_start=False)"
      ]
     },
     "execution_count": 249,
     "metadata": {},
     "output_type": "execute_result"
    }
   ],
   "source": [
    "lmod = LogisticRegression(class_weight='balanced', \n",
    "                          solver='liblinear')\n",
    "lmod.fit(fd_train_x, fd_train_y)"
   ]
  },
  {
   "cell_type": "code",
   "execution_count": 250,
   "metadata": {
    "pycharm": {
     "name": "#%%\n"
    }
   },
   "outputs": [
    {
     "name": "stdout",
     "output_type": "stream",
     "text": [
      "Mean Difference: 0.020000000000000018\n",
      "Disparate Impact: 0.03883495145631066\n",
      "Accuracy: 0.755\n"
     ]
    },
    {
     "data": {
      "text/plain": [
       "(-0.020000000000000018, 0.9611650485436893, 0.755)"
      ]
     },
     "execution_count": 250,
     "metadata": {},
     "output_type": "execute_result"
    }
   ],
   "source": [
    "p = [{protected: 1}]\n",
    "u = [{protected: 0}]\n",
    "get_classifier_metrics(lmod, fd_test,\n",
    "                      p, u, verbose=True)"
   ]
  },
  {
   "cell_type": "code",
   "execution_count": 251,
   "metadata": {
    "pycharm": {
     "name": "#%%\n"
    }
   },
   "outputs": [
    {
     "name": "stdout",
     "output_type": "stream",
     "text": [
      "Mean Difference: 0.03500000000000003\n",
      "Disparate Impact: 0.06930693069306937\n",
      "Accuracy: 0.6625\n",
      "Tree Depth: 19\n"
     ]
    }
   ],
   "source": [
    "from sklearn import tree\n",
    "dmod = tree.DecisionTreeClassifier(criterion='entropy', \n",
    "                                   max_depth=40,\n",
    "                                  random_state=47)\n",
    "dmod = dmod.fit(fd_train_x, fd_train_y)\n",
    "\n",
    "get_classifier_metrics(dmod, fd_test,\n",
    "                      p, u, verbose=True)\n",
    "print('Tree Depth:', dmod.get_depth())"
   ]
  },
  {
   "cell_type": "code",
   "execution_count": 273,
   "metadata": {},
   "outputs": [
    {
     "name": "stdout",
     "output_type": "stream",
     "text": [
      "Tree Depth: 3\n",
      "Mean Difference: 0.04999999999999993\n",
      "Disparate Impact: 0.0858369098712446\n",
      "Accuracy: 0.72\n",
      "Tree Depth: 5\n",
      "Mean Difference: 0.010000000000000009\n",
      "Disparate Impact: 0.016597510373444035\n",
      "Accuracy: 0.785\n",
      "Tree Depth: 10\n",
      "Mean Difference: 0.0050000000000000044\n",
      "Disparate Impact: 0.010152284263959421\n",
      "Accuracy: 0.9375\n",
      "Tree Depth: 15\n",
      "Mean Difference: 0.012499999999999956\n",
      "Disparate Impact: 0.025510204081632626\n",
      "Accuracy: 0.98875\n",
      "Tree Depth: 19\n",
      "Mean Difference: 0.0\n",
      "Disparate Impact: 0.0\n",
      "Accuracy: 1.0\n"
     ]
    }
   ],
   "source": [
    "results = []\n",
    "test_results = []\n",
    "for md in [3, 5, 10, 15, 20]:\n",
    "    dmod = tree.DecisionTreeClassifier(criterion='entropy', \n",
    "                                       max_depth=md,\n",
    "                                       random_state=47)\n",
    "    \n",
    "    dmod = dmod.fit(fd_train_x, fd_train_y)\n",
    "    td = dmod.get_depth()\n",
    "    print('Tree Depth:', td)\n",
    "    \n",
    "    md, di, ac = get_classifier_metrics(dmod, fd_train,\n",
    "                          p, u, verbose=True)\n",
    "    results.append((md, di, ac, td))\n",
    "    \n",
    "    md, di, ac = get_classifier_metrics(dmod, fd_test,\n",
    "                          p, u)\n",
    "    test_results.append((md, di, ac, td))"
   ]
  },
  {
   "cell_type": "code",
   "execution_count": 271,
   "metadata": {},
   "outputs": [
    {
     "data": {
      "text/plain": [
       "<matplotlib.legend.Legend at 0x16942f55948>"
      ]
     },
     "execution_count": 271,
     "metadata": {},
     "output_type": "execute_result"
    },
    {
     "data": {
      "image/png": "[encoded data removed]",
      "text/plain": [
       "<Figure size 432x288 with 1 Axes>"
      ]
     },
     "metadata": {
      "needs_background": "light"
     },
     "output_type": "display_data"
    }
   ],
   "source": [
    "import matplotlib.pyplot as plt\n",
    "\n",
    "mds = [abs(tup[0]) for tup in results]\n",
    "dis = [abs(1 - tup[1]) for tup in results]\n",
    "acs = [tup[2] for tup in results]\n",
    "tds = [tup[3] for tup in results]\n",
    "\n",
    "plt.plot(acs, mds, label='Mean Difference')\n",
    "plt.plot(acs, dis, label='Disparate Impact')\n",
    "plt.legend()"
   ]
  },
  {
   "cell_type": "code",
   "execution_count": 278,
   "metadata": {},
   "outputs": [
    {
     "data": {
      "text/plain": [
       "<matplotlib.legend.Legend at 0x16948fb0c48>"
      ]
     },
     "execution_count": 278,
     "metadata": {},
     "output_type": "execute_result"
    },
    {
     "data": {
      "image/png": "[encoded data removed]",
      "text/plain": [
       "<Figure size 432x288 with 1 Axes>"
      ]
     },
     "metadata": {
      "needs_background": "light"
     },
     "output_type": "display_data"
    }
   ],
   "source": [
    "mds = [abs(tup[0]) for tup in test_results]\n",
    "dis = [abs(1 - tup[1]) for tup in test_results]\n",
    "acs = [tup[2] for tup in test_results]\n",
    "tds = [tup[3] for tup in test_results]\n",
    "\n",
    "plt.scatter(acs, mds, label='Mean Difference')\n",
    "plt.scatter(acs, dis, label='Disparate Impact')\n",
    "plt.legend()"
   ]
  },
  {
   "cell_type": "code",
   "execution_count": null,
   "metadata": {},
   "outputs": [],
   "source": []
  }
 ],
 "metadata": {
  "kernelspec": {
   "display_name": "Python 3",
   "language": "python",
   "name": "python3"
  },
  "language_info": {
   "codemirror_mode": {
    "name": "ipython",
    "version": 3
   },
   "file_extension": ".py",
   "mimetype": "text/x-python",
   "name": "python",
   "nbconvert_exporter": "python",
   "pygments_lexer": "ipython3",
   "version": "3.7.5"
  },
  "pycharm": {
   "stem_cell": {
    "cell_type": "raw",
    "metadata": {
     "collapsed": false
    },
    "source": []
   }
  }
 },
 "nbformat": 4,
 "nbformat_minor": 1
}
